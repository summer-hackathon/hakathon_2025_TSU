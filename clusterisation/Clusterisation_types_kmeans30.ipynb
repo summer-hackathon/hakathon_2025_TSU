{
 "cells": [
  {
   "cell_type": "code",
   "execution_count": 1,
   "id": "6dc1d371",
   "metadata": {},
   "outputs": [],
   "source": [
    "# Импортируем библиотеки\n",
    "import pandas as pd\n",
    "import numpy as np\n",
    "import matplotlib.pyplot as plt\n",
    "import seaborn as sns\n",
    "import warnings\n",
    "warnings.filterwarnings('ignore')\n",
    "from sklearn.cluster import KMeans\n",
    "import joblib\n",
    "import re\n",
    "from tqdm import tqdm\n",
    "from nltk.stem import WordNetLemmatizer, PorterStemmer\n",
    "from nltk.corpus import wordnet, stopwords\n",
    "from sklearn.feature_extraction.text import TfidfVectorizer\n",
    "from scipy import sparse\n",
    "from nltk.tokenize import word_tokenize\n",
    "from sklearn.decomposition import PCA\n",
    "from sklearn.manifold import TSNE\n",
    "from sklearn.model_selection import train_test_split, cross_val_predict\n",
    "from sklearn.neighbors import KNeighborsClassifier\n",
    "from sklearn.metrics import f1_score, accuracy_score, recall_score, precision_score\n",
    "import tensorflow as tf\n",
    "from sklearn.preprocessing import StandardScaler\n",
    "import nltk"
   ]
  },
  {
   "cell_type": "markdown",
   "id": "c227d6bc",
   "metadata": {},
   "source": [
    "Предварительное изучение данных"
   ]
  },
  {
   "cell_type": "code",
   "execution_count": 2,
   "id": "524eb290",
   "metadata": {},
   "outputs": [
    {
     "data": {
      "text/html": [
       "<div>\n",
       "<style scoped>\n",
       "    .dataframe tbody tr th:only-of-type {\n",
       "        vertical-align: middle;\n",
       "    }\n",
       "\n",
       "    .dataframe tbody tr th {\n",
       "        vertical-align: top;\n",
       "    }\n",
       "\n",
       "    .dataframe thead th {\n",
       "        text-align: right;\n",
       "    }\n",
       "</style>\n",
       "<table border=\"1\" class=\"dataframe\">\n",
       "  <thead>\n",
       "    <tr style=\"text-align: right;\">\n",
       "      <th></th>\n",
       "      <th>main_photo</th>\n",
       "      <th>name</th>\n",
       "      <th>type</th>\n",
       "      <th>category_l2</th>\n",
       "      <th>category_l4</th>\n",
       "      <th>is_markup</th>\n",
       "      <th>target</th>\n",
       "      <th>stratify_column</th>\n",
       "    </tr>\n",
       "  </thead>\n",
       "  <tbody>\n",
       "    <tr>\n",
       "      <th>6762112</th>\n",
       "      <td>https://cdn1.ozone.ru/s3/multimedia-d/65647598...</td>\n",
       "      <td>Фильтр АКПП HYUNDAI GETZ 02-10/ELANTRA 1.8 00-...</td>\n",
       "      <td>Ремкомплект двигателя мототехники</td>\n",
       "      <td>None</td>\n",
       "      <td>None</td>\n",
       "      <td>False</td>\n",
       "      <td>0</td>\n",
       "      <td>nan_False_0</td>\n",
       "    </tr>\n",
       "    <tr>\n",
       "      <th>2248350</th>\n",
       "      <td>https://cdn1.ozone.ru/s3/multimedia-r/67002690...</td>\n",
       "      <td>Масло оливковое Urzante Light рафинированное, ...</td>\n",
       "      <td>Растительное масло</td>\n",
       "      <td>None</td>\n",
       "      <td>None</td>\n",
       "      <td>False</td>\n",
       "      <td>1</td>\n",
       "      <td>nan_False_1</td>\n",
       "    </tr>\n",
       "    <tr>\n",
       "      <th>2940012</th>\n",
       "      <td>https://cdn1.ozone.ru/multimedia/1026904772.jpg</td>\n",
       "      <td>Свитшот Reebok Cl A Crew</td>\n",
       "      <td>Оповещатель</td>\n",
       "      <td>None</td>\n",
       "      <td>None</td>\n",
       "      <td>False</td>\n",
       "      <td>0</td>\n",
       "      <td>nan_False_0</td>\n",
       "    </tr>\n",
       "    <tr>\n",
       "      <th>7671340</th>\n",
       "      <td>https://cdn1.ozone.ru/s3/multimedia-1-r/700080...</td>\n",
       "      <td>Клин съемник для снятия пластика в авто</td>\n",
       "      <td>Съемник</td>\n",
       "      <td>None</td>\n",
       "      <td>None</td>\n",
       "      <td>False</td>\n",
       "      <td>1</td>\n",
       "      <td>nan_False_1</td>\n",
       "    </tr>\n",
       "    <tr>\n",
       "      <th>795605</th>\n",
       "      <td>https://cdn1.ozone.ru/s3/multimedia-1-u/712028...</td>\n",
       "      <td>HXD Пыльник</td>\n",
       "      <td>Олимпийка</td>\n",
       "      <td>None</td>\n",
       "      <td>None</td>\n",
       "      <td>False</td>\n",
       "      <td>0</td>\n",
       "      <td>nan_False_0</td>\n",
       "    </tr>\n",
       "    <tr>\n",
       "      <th>230835</th>\n",
       "      <td>https://cdn1.ozone.ru/s3/multimedia-1-d/719643...</td>\n",
       "      <td>Кроссовки Air Jordan JT 2 Баскетбольная обувь ...</td>\n",
       "      <td>Моноласта</td>\n",
       "      <td>Обувь</td>\n",
       "      <td>Кроссовки</td>\n",
       "      <td>True</td>\n",
       "      <td>0</td>\n",
       "      <td>Обувь_True_0</td>\n",
       "    </tr>\n",
       "    <tr>\n",
       "      <th>934908</th>\n",
       "      <td>https://cdn1.ozone.ru/s3/multimedia-1-o/725771...</td>\n",
       "      <td>Подарочный праздничный пакет на День рождения ...</td>\n",
       "      <td>Пакет подарочный</td>\n",
       "      <td>None</td>\n",
       "      <td>None</td>\n",
       "      <td>True</td>\n",
       "      <td>1</td>\n",
       "      <td>nan_True_1</td>\n",
       "    </tr>\n",
       "    <tr>\n",
       "      <th>150710</th>\n",
       "      <td>https://cdn1.ozone.ru/s3/multimedia-1-r/711064...</td>\n",
       "      <td>Подвесной держатель для медалей</td>\n",
       "      <td>Стеллаж для игрушек</td>\n",
       "      <td>Дом и сад</td>\n",
       "      <td>Ящик для игрушек</td>\n",
       "      <td>True</td>\n",
       "      <td>0</td>\n",
       "      <td>Дом и сад_True_0</td>\n",
       "    </tr>\n",
       "    <tr>\n",
       "      <th>559188</th>\n",
       "      <td>https://cdn1.ozone.ru/s3/multimedia-y/65861909...</td>\n",
       "      <td>Свидетельство о венчании в твердом переплете с...</td>\n",
       "      <td>Сменный блок для когтеточек</td>\n",
       "      <td>None</td>\n",
       "      <td>None</td>\n",
       "      <td>False</td>\n",
       "      <td>0</td>\n",
       "      <td>nan_False_0</td>\n",
       "    </tr>\n",
       "    <tr>\n",
       "      <th>6055908</th>\n",
       "      <td>https://cdn1.ozone.ru/s3/multimedia-j/68085042...</td>\n",
       "      <td>Силиконовая скатерть прозрачная на стол, клеен...</td>\n",
       "      <td>Трость-стул</td>\n",
       "      <td>None</td>\n",
       "      <td>None</td>\n",
       "      <td>False</td>\n",
       "      <td>0</td>\n",
       "      <td>nan_False_0</td>\n",
       "    </tr>\n",
       "  </tbody>\n",
       "</table>\n",
       "</div>"
      ],
      "text/plain": [
       "                                                main_photo  \\\n",
       "6762112  https://cdn1.ozone.ru/s3/multimedia-d/65647598...   \n",
       "2248350  https://cdn1.ozone.ru/s3/multimedia-r/67002690...   \n",
       "2940012    https://cdn1.ozone.ru/multimedia/1026904772.jpg   \n",
       "7671340  https://cdn1.ozone.ru/s3/multimedia-1-r/700080...   \n",
       "795605   https://cdn1.ozone.ru/s3/multimedia-1-u/712028...   \n",
       "230835   https://cdn1.ozone.ru/s3/multimedia-1-d/719643...   \n",
       "934908   https://cdn1.ozone.ru/s3/multimedia-1-o/725771...   \n",
       "150710   https://cdn1.ozone.ru/s3/multimedia-1-r/711064...   \n",
       "559188   https://cdn1.ozone.ru/s3/multimedia-y/65861909...   \n",
       "6055908  https://cdn1.ozone.ru/s3/multimedia-j/68085042...   \n",
       "\n",
       "                                                      name  \\\n",
       "6762112  Фильтр АКПП HYUNDAI GETZ 02-10/ELANTRA 1.8 00-...   \n",
       "2248350  Масло оливковое Urzante Light рафинированное, ...   \n",
       "2940012                           Свитшот Reebok Cl A Crew   \n",
       "7671340            Клин съемник для снятия пластика в авто   \n",
       "795605                                         HXD Пыльник   \n",
       "230835   Кроссовки Air Jordan JT 2 Баскетбольная обувь ...   \n",
       "934908   Подарочный праздничный пакет на День рождения ...   \n",
       "150710                     Подвесной держатель для медалей   \n",
       "559188   Свидетельство о венчании в твердом переплете с...   \n",
       "6055908  Силиконовая скатерть прозрачная на стол, клеен...   \n",
       "\n",
       "                                      type category_l2       category_l4  \\\n",
       "6762112  Ремкомплект двигателя мототехники        None              None   \n",
       "2248350                 Растительное масло        None              None   \n",
       "2940012                        Оповещатель        None              None   \n",
       "7671340                            Съемник        None              None   \n",
       "795605                           Олимпийка        None              None   \n",
       "230835                           Моноласта       Обувь         Кроссовки   \n",
       "934908                    Пакет подарочный        None              None   \n",
       "150710                 Стеллаж для игрушек   Дом и сад  Ящик для игрушек   \n",
       "559188         Сменный блок для когтеточек        None              None   \n",
       "6055908                        Трость-стул        None              None   \n",
       "\n",
       "         is_markup  target   stratify_column  \n",
       "6762112      False       0       nan_False_0  \n",
       "2248350      False       1       nan_False_1  \n",
       "2940012      False       0       nan_False_0  \n",
       "7671340      False       1       nan_False_1  \n",
       "795605       False       0       nan_False_0  \n",
       "230835        True       0      Обувь_True_0  \n",
       "934908        True       1        nan_True_1  \n",
       "150710        True       0  Дом и сад_True_0  \n",
       "559188       False       0       nan_False_0  \n",
       "6055908      False       0       nan_False_0  "
      ]
     },
     "execution_count": 2,
     "metadata": {},
     "output_type": "execute_result"
    }
   ],
   "source": [
    "# Смотрим на данные\n",
    "train_data = pd.read_parquet('hackaton_train_types_recom.parquet')\n",
    "train_data.head(10)"
   ]
  },
  {
   "cell_type": "code",
   "execution_count": 3,
   "id": "1661db51",
   "metadata": {},
   "outputs": [
    {
     "data": {
      "text/html": [
       "<div>\n",
       "<style scoped>\n",
       "    .dataframe tbody tr th:only-of-type {\n",
       "        vertical-align: middle;\n",
       "    }\n",
       "\n",
       "    .dataframe tbody tr th {\n",
       "        vertical-align: top;\n",
       "    }\n",
       "\n",
       "    .dataframe thead th {\n",
       "        text-align: right;\n",
       "    }\n",
       "</style>\n",
       "<table border=\"1\" class=\"dataframe\">\n",
       "  <thead>\n",
       "    <tr style=\"text-align: right;\">\n",
       "      <th></th>\n",
       "      <th>main_photo</th>\n",
       "      <th>name</th>\n",
       "      <th>type</th>\n",
       "      <th>category_l2</th>\n",
       "      <th>category_l4</th>\n",
       "      <th>is_markup</th>\n",
       "      <th>target</th>\n",
       "      <th>stratify_column</th>\n",
       "    </tr>\n",
       "  </thead>\n",
       "  <tbody>\n",
       "    <tr>\n",
       "      <th>7809846</th>\n",
       "      <td>https://cdn1.ozone.ru/s3/multimedia-t/63327116...</td>\n",
       "      <td>Защитный кейс (бокс, чехол) для карт памяти SD...</td>\n",
       "      <td>Комплект фотоаксессуаров</td>\n",
       "      <td>None</td>\n",
       "      <td>None</td>\n",
       "      <td>False</td>\n",
       "      <td>1</td>\n",
       "      <td>nan_False_1</td>\n",
       "    </tr>\n",
       "    <tr>\n",
       "      <th>97704</th>\n",
       "      <td>https://cdn1.ozone.ru/s3/multimedia-1-h/714445...</td>\n",
       "      <td>Кружка латте керамическая большая для чая и ко...</td>\n",
       "      <td>Кружка</td>\n",
       "      <td>Дом и сад</td>\n",
       "      <td>Кружка</td>\n",
       "      <td>False</td>\n",
       "      <td>1</td>\n",
       "      <td>Дом и сад_False_1</td>\n",
       "    </tr>\n",
       "    <tr>\n",
       "      <th>446046</th>\n",
       "      <td>https://cdn1.ozone.ru/s3/multimedia-1-q/719594...</td>\n",
       "      <td>Угольник-переходник ROMMER ВПр-НР, 15х1_2, из ...</td>\n",
       "      <td>Удлинитель сантехнический</td>\n",
       "      <td>Строительство и ремонт</td>\n",
       "      <td>Фитинг сантехнический</td>\n",
       "      <td>True</td>\n",
       "      <td>1</td>\n",
       "      <td>Строительство и ремонт_True_1</td>\n",
       "    </tr>\n",
       "    <tr>\n",
       "      <th>511281</th>\n",
       "      <td>https://cdn1.ozone.ru/s3/multimedia-1-w/722827...</td>\n",
       "      <td>Интерьерная картина \"Кирпичи в руинах древней ...</td>\n",
       "      <td>Картина</td>\n",
       "      <td>Дом и сад</td>\n",
       "      <td>Картина</td>\n",
       "      <td>False</td>\n",
       "      <td>1</td>\n",
       "      <td>Дом и сад_False_1</td>\n",
       "    </tr>\n",
       "    <tr>\n",
       "      <th>50527</th>\n",
       "      <td>https://cdn1.ozone.ru/s3/multimedia-1-3/696992...</td>\n",
       "      <td>Ножницы Волна , 9\", 23 см, шаг - 18 мм, цвет ч...</td>\n",
       "      <td>Пирог</td>\n",
       "      <td>Хобби и творчество</td>\n",
       "      <td>Набор для шитья одежды</td>\n",
       "      <td>True</td>\n",
       "      <td>0</td>\n",
       "      <td>Хобби и творчество_True_0</td>\n",
       "    </tr>\n",
       "    <tr>\n",
       "      <th>843680</th>\n",
       "      <td>https://cdn1.ozone.ru/s3/multimedia-1-i/702841...</td>\n",
       "      <td>Аксельбант офицерский желтый</td>\n",
       "      <td>Станок для натягивания проволоки в рамке для пчел</td>\n",
       "      <td>None</td>\n",
       "      <td>None</td>\n",
       "      <td>False</td>\n",
       "      <td>0</td>\n",
       "      <td>nan_False_0</td>\n",
       "    </tr>\n",
       "    <tr>\n",
       "      <th>558059</th>\n",
       "      <td>https://cdn1.ozone.ru/s3/multimedia-w/65340423...</td>\n",
       "      <td>15 шт. Мелки школьные Гамма, цветные, 10шт., м...</td>\n",
       "      <td>Проживание в пансионате</td>\n",
       "      <td>Канцелярские товары</td>\n",
       "      <td>Мелки</td>\n",
       "      <td>True</td>\n",
       "      <td>0</td>\n",
       "      <td>Канцелярские товары_True_0</td>\n",
       "    </tr>\n",
       "    <tr>\n",
       "      <th>52215</th>\n",
       "      <td>https://cdn1.ozone.ru/s3/multimedia-1-z/708798...</td>\n",
       "      <td>Бра LED</td>\n",
       "      <td>Подсветка для картин</td>\n",
       "      <td>Строительство и ремонт</td>\n",
       "      <td>Настенный светильник</td>\n",
       "      <td>True</td>\n",
       "      <td>1</td>\n",
       "      <td>Строительство и ремонт_True_1</td>\n",
       "    </tr>\n",
       "    <tr>\n",
       "      <th>7237878</th>\n",
       "      <td>https://cdn1.ozone.ru/s3/multimedia-1-f/714310...</td>\n",
       "      <td>Таблетированная соль Rockmelt 4-в-1, 20 кг.</td>\n",
       "      <td>Украшение настольное интерьерное</td>\n",
       "      <td>None</td>\n",
       "      <td>None</td>\n",
       "      <td>False</td>\n",
       "      <td>0</td>\n",
       "      <td>nan_False_0</td>\n",
       "    </tr>\n",
       "    <tr>\n",
       "      <th>225586</th>\n",
       "      <td>https://cdn1.ozone.ru/s3/multimedia-1-p/704666...</td>\n",
       "      <td>Набор сверл-метчиков по металлу из быстрорежущ...</td>\n",
       "      <td>Сверло</td>\n",
       "      <td>None</td>\n",
       "      <td>None</td>\n",
       "      <td>False</td>\n",
       "      <td>1</td>\n",
       "      <td>nan_False_1</td>\n",
       "    </tr>\n",
       "  </tbody>\n",
       "</table>\n",
       "</div>"
      ],
      "text/plain": [
       "                                                main_photo  \\\n",
       "7809846  https://cdn1.ozone.ru/s3/multimedia-t/63327116...   \n",
       "97704    https://cdn1.ozone.ru/s3/multimedia-1-h/714445...   \n",
       "446046   https://cdn1.ozone.ru/s3/multimedia-1-q/719594...   \n",
       "511281   https://cdn1.ozone.ru/s3/multimedia-1-w/722827...   \n",
       "50527    https://cdn1.ozone.ru/s3/multimedia-1-3/696992...   \n",
       "843680   https://cdn1.ozone.ru/s3/multimedia-1-i/702841...   \n",
       "558059   https://cdn1.ozone.ru/s3/multimedia-w/65340423...   \n",
       "52215    https://cdn1.ozone.ru/s3/multimedia-1-z/708798...   \n",
       "7237878  https://cdn1.ozone.ru/s3/multimedia-1-f/714310...   \n",
       "225586   https://cdn1.ozone.ru/s3/multimedia-1-p/704666...   \n",
       "\n",
       "                                                      name  \\\n",
       "7809846  Защитный кейс (бокс, чехол) для карт памяти SD...   \n",
       "97704    Кружка латте керамическая большая для чая и ко...   \n",
       "446046   Угольник-переходник ROMMER ВПр-НР, 15х1_2, из ...   \n",
       "511281   Интерьерная картина \"Кирпичи в руинах древней ...   \n",
       "50527    Ножницы Волна , 9\", 23 см, шаг - 18 мм, цвет ч...   \n",
       "843680                        Аксельбант офицерский желтый   \n",
       "558059   15 шт. Мелки школьные Гамма, цветные, 10шт., м...   \n",
       "52215                                              Бра LED   \n",
       "7237878        Таблетированная соль Rockmelt 4-в-1, 20 кг.   \n",
       "225586   Набор сверл-метчиков по металлу из быстрорежущ...   \n",
       "\n",
       "                                                      type  \\\n",
       "7809846                           Комплект фотоаксессуаров   \n",
       "97704                                               Кружка   \n",
       "446046                           Удлинитель сантехнический   \n",
       "511281                                             Картина   \n",
       "50527                                                Пирог   \n",
       "843680   Станок для натягивания проволоки в рамке для пчел   \n",
       "558059                             Проживание в пансионате   \n",
       "52215                                 Подсветка для картин   \n",
       "7237878                   Украшение настольное интерьерное   \n",
       "225586                                              Сверло   \n",
       "\n",
       "                    category_l2             category_l4  is_markup  target  \\\n",
       "7809846                    None                    None      False       1   \n",
       "97704                 Дом и сад                  Кружка      False       1   \n",
       "446046   Строительство и ремонт   Фитинг сантехнический       True       1   \n",
       "511281                Дом и сад                 Картина      False       1   \n",
       "50527        Хобби и творчество  Набор для шитья одежды       True       0   \n",
       "843680                     None                    None      False       0   \n",
       "558059      Канцелярские товары                   Мелки       True       0   \n",
       "52215    Строительство и ремонт    Настенный светильник       True       1   \n",
       "7237878                    None                    None      False       0   \n",
       "225586                     None                    None      False       1   \n",
       "\n",
       "                       stratify_column  \n",
       "7809846                    nan_False_1  \n",
       "97704                Дом и сад_False_1  \n",
       "446046   Строительство и ремонт_True_1  \n",
       "511281               Дом и сад_False_1  \n",
       "50527        Хобби и творчество_True_0  \n",
       "843680                     nan_False_0  \n",
       "558059      Канцелярские товары_True_0  \n",
       "52215    Строительство и ремонт_True_1  \n",
       "7237878                    nan_False_0  \n",
       "225586                     nan_False_1  "
      ]
     },
     "execution_count": 3,
     "metadata": {},
     "output_type": "execute_result"
    }
   ],
   "source": [
    "# Смотрим на данные\n",
    "test_data = pd.read_parquet('hackaton_test_types_recom.parquet')\n",
    "test_data.head(10)"
   ]
  },
  {
   "cell_type": "code",
   "execution_count": 4,
   "id": "911aeec7",
   "metadata": {},
   "outputs": [
    {
     "data": {
      "text/html": [
       "<div>\n",
       "<style scoped>\n",
       "    .dataframe tbody tr th:only-of-type {\n",
       "        vertical-align: middle;\n",
       "    }\n",
       "\n",
       "    .dataframe tbody tr th {\n",
       "        vertical-align: top;\n",
       "    }\n",
       "\n",
       "    .dataframe thead th {\n",
       "        text-align: right;\n",
       "    }\n",
       "</style>\n",
       "<table border=\"1\" class=\"dataframe\">\n",
       "  <thead>\n",
       "    <tr style=\"text-align: right;\">\n",
       "      <th></th>\n",
       "      <th>main_photo</th>\n",
       "      <th>name</th>\n",
       "      <th>type</th>\n",
       "      <th>category_l2</th>\n",
       "      <th>category_l4</th>\n",
       "      <th>is_markup</th>\n",
       "      <th>target</th>\n",
       "      <th>stratify_column</th>\n",
       "    </tr>\n",
       "  </thead>\n",
       "  <tbody>\n",
       "    <tr>\n",
       "      <th>6762112</th>\n",
       "      <td>https://cdn1.ozone.ru/s3/multimedia-d/65647598...</td>\n",
       "      <td>Фильтр АКПП HYUNDAI GETZ 02-10/ELANTRA 1.8 00-...</td>\n",
       "      <td>Ремкомплект двигателя мототехники</td>\n",
       "      <td>None</td>\n",
       "      <td>None</td>\n",
       "      <td>False</td>\n",
       "      <td>0</td>\n",
       "      <td>nan_False_0</td>\n",
       "    </tr>\n",
       "    <tr>\n",
       "      <th>2248350</th>\n",
       "      <td>https://cdn1.ozone.ru/s3/multimedia-r/67002690...</td>\n",
       "      <td>Масло оливковое Urzante Light рафинированное, ...</td>\n",
       "      <td>Растительное масло</td>\n",
       "      <td>None</td>\n",
       "      <td>None</td>\n",
       "      <td>False</td>\n",
       "      <td>1</td>\n",
       "      <td>nan_False_1</td>\n",
       "    </tr>\n",
       "    <tr>\n",
       "      <th>2940012</th>\n",
       "      <td>https://cdn1.ozone.ru/multimedia/1026904772.jpg</td>\n",
       "      <td>Свитшот Reebok Cl A Crew</td>\n",
       "      <td>Оповещатель</td>\n",
       "      <td>None</td>\n",
       "      <td>None</td>\n",
       "      <td>False</td>\n",
       "      <td>0</td>\n",
       "      <td>nan_False_0</td>\n",
       "    </tr>\n",
       "    <tr>\n",
       "      <th>7671340</th>\n",
       "      <td>https://cdn1.ozone.ru/s3/multimedia-1-r/700080...</td>\n",
       "      <td>Клин съемник для снятия пластика в авто</td>\n",
       "      <td>Съемник</td>\n",
       "      <td>None</td>\n",
       "      <td>None</td>\n",
       "      <td>False</td>\n",
       "      <td>1</td>\n",
       "      <td>nan_False_1</td>\n",
       "    </tr>\n",
       "    <tr>\n",
       "      <th>795605</th>\n",
       "      <td>https://cdn1.ozone.ru/s3/multimedia-1-u/712028...</td>\n",
       "      <td>HXD Пыльник</td>\n",
       "      <td>Олимпийка</td>\n",
       "      <td>None</td>\n",
       "      <td>None</td>\n",
       "      <td>False</td>\n",
       "      <td>0</td>\n",
       "      <td>nan_False_0</td>\n",
       "    </tr>\n",
       "  </tbody>\n",
       "</table>\n",
       "</div>"
      ],
      "text/plain": [
       "                                                main_photo  \\\n",
       "6762112  https://cdn1.ozone.ru/s3/multimedia-d/65647598...   \n",
       "2248350  https://cdn1.ozone.ru/s3/multimedia-r/67002690...   \n",
       "2940012    https://cdn1.ozone.ru/multimedia/1026904772.jpg   \n",
       "7671340  https://cdn1.ozone.ru/s3/multimedia-1-r/700080...   \n",
       "795605   https://cdn1.ozone.ru/s3/multimedia-1-u/712028...   \n",
       "\n",
       "                                                      name  \\\n",
       "6762112  Фильтр АКПП HYUNDAI GETZ 02-10/ELANTRA 1.8 00-...   \n",
       "2248350  Масло оливковое Urzante Light рафинированное, ...   \n",
       "2940012                           Свитшот Reebok Cl A Crew   \n",
       "7671340            Клин съемник для снятия пластика в авто   \n",
       "795605                                         HXD Пыльник   \n",
       "\n",
       "                                      type category_l2 category_l4  is_markup  \\\n",
       "6762112  Ремкомплект двигателя мототехники        None        None      False   \n",
       "2248350                 Растительное масло        None        None      False   \n",
       "2940012                        Оповещатель        None        None      False   \n",
       "7671340                            Съемник        None        None      False   \n",
       "795605                           Олимпийка        None        None      False   \n",
       "\n",
       "         target stratify_column  \n",
       "6762112       0     nan_False_0  \n",
       "2248350       1     nan_False_1  \n",
       "2940012       0     nan_False_0  \n",
       "7671340       1     nan_False_1  \n",
       "795605        0     nan_False_0  "
      ]
     },
     "execution_count": 4,
     "metadata": {},
     "output_type": "execute_result"
    }
   ],
   "source": [
    "# Объединяем данные в один файл\n",
    "data = pd.concat([train_data, test_data])\n",
    "data.head()"
   ]
  },
  {
   "cell_type": "code",
   "execution_count": 8,
   "id": "c19c51e1",
   "metadata": {},
   "outputs": [
    {
     "name": "stdout",
     "output_type": "stream",
     "text": [
      "<class 'pandas.core.frame.DataFrame'>\n",
      "Index: 953767 entries, 6762112 to 6192728\n",
      "Data columns (total 8 columns):\n",
      " #   Column           Non-Null Count   Dtype \n",
      "---  ------           --------------   ----- \n",
      " 0   main_photo       953767 non-null  object\n",
      " 1   name             953767 non-null  object\n",
      " 2   type             953767 non-null  object\n",
      " 3   category_l2      553010 non-null  object\n",
      " 4   category_l4      553010 non-null  object\n",
      " 5   is_markup        953767 non-null  bool  \n",
      " 6   target           953767 non-null  int64 \n",
      " 7   stratify_column  953767 non-null  object\n",
      "dtypes: bool(1), int64(1), object(6)\n",
      "memory usage: 59.1+ MB\n"
     ]
    }
   ],
   "source": [
    "# Изучаем данные\n",
    "data.info()"
   ]
  },
  {
   "cell_type": "code",
   "execution_count": 9,
   "id": "e4173be9",
   "metadata": {},
   "outputs": [
    {
     "data": {
      "text/plain": [
       "(953767, 8)"
      ]
     },
     "execution_count": 9,
     "metadata": {},
     "output_type": "execute_result"
    }
   ],
   "source": [
    "# Смотрим размерность\n",
    "data.shape"
   ]
  },
  {
   "cell_type": "code",
   "execution_count": 10,
   "id": "0ca4c9f6",
   "metadata": {},
   "outputs": [
    {
     "name": "stdout",
     "output_type": "stream",
     "text": [
      "main_photo              0\n",
      "name                    0\n",
      "type                    0\n",
      "category_l2        400757\n",
      "category_l4        400757\n",
      "is_markup               0\n",
      "target                  0\n",
      "stratify_column         0\n",
      "dtype: int64\n"
     ]
    }
   ],
   "source": [
    "# Считаем пропуски\n",
    "missing_count = data.isna().sum()\n",
    "print(missing_count)"
   ]
  },
  {
   "cell_type": "markdown",
   "id": "529d0bfd",
   "metadata": {},
   "source": [
    "main_photo — ссылка на главное изображение товара.\n",
    "name — название товара.\n",
    "type — тип товара (например, комплект, кружка и т.д.).\n",
    "category_l2 — вторая категория товара, классифицирующая его по более узкому признаку.\n",
    "category_l4 — четвёртая категория товара, дающая ещё более детальную классификацию, если применимо.\n",
    "is_markup — указывает, есть ли на товар наценка (TRUE или FALSE).\n",
    "target — может указывать на какие-то метки или целевые группы (например, 1 или 0).\n",
    "stratify_column — колонка для стратификации, возможно, для группировки данных.\n",
    "__index_level_0 — индексная колонка, вероятно, идентификатор строки или номер записи в таблице."
   ]
  },
  {
   "cell_type": "markdown",
   "id": "db887309",
   "metadata": {},
   "source": [
    "Подготовка данных"
   ]
  },
  {
   "cell_type": "code",
   "execution_count": 5,
   "id": "33fd3c1b",
   "metadata": {},
   "outputs": [
    {
     "data": {
      "text/html": [
       "<div>\n",
       "<style scoped>\n",
       "    .dataframe tbody tr th:only-of-type {\n",
       "        vertical-align: middle;\n",
       "    }\n",
       "\n",
       "    .dataframe tbody tr th {\n",
       "        vertical-align: top;\n",
       "    }\n",
       "\n",
       "    .dataframe thead th {\n",
       "        text-align: right;\n",
       "    }\n",
       "</style>\n",
       "<table border=\"1\" class=\"dataframe\">\n",
       "  <thead>\n",
       "    <tr style=\"text-align: right;\">\n",
       "      <th></th>\n",
       "      <th>name</th>\n",
       "      <th>type</th>\n",
       "      <th>category_l2</th>\n",
       "      <th>category_l4</th>\n",
       "    </tr>\n",
       "  </thead>\n",
       "  <tbody>\n",
       "    <tr>\n",
       "      <th>6762112</th>\n",
       "      <td>Фильтр АКПП HYUNDAI GETZ 02-10/ELANTRA 1.8 00-...</td>\n",
       "      <td>Ремкомплект двигателя мототехники</td>\n",
       "      <td>None</td>\n",
       "      <td>None</td>\n",
       "    </tr>\n",
       "    <tr>\n",
       "      <th>2248350</th>\n",
       "      <td>Масло оливковое Urzante Light рафинированное, ...</td>\n",
       "      <td>Растительное масло</td>\n",
       "      <td>None</td>\n",
       "      <td>None</td>\n",
       "    </tr>\n",
       "    <tr>\n",
       "      <th>2940012</th>\n",
       "      <td>Свитшот Reebok Cl A Crew</td>\n",
       "      <td>Оповещатель</td>\n",
       "      <td>None</td>\n",
       "      <td>None</td>\n",
       "    </tr>\n",
       "    <tr>\n",
       "      <th>7671340</th>\n",
       "      <td>Клин съемник для снятия пластика в авто</td>\n",
       "      <td>Съемник</td>\n",
       "      <td>None</td>\n",
       "      <td>None</td>\n",
       "    </tr>\n",
       "    <tr>\n",
       "      <th>795605</th>\n",
       "      <td>HXD Пыльник</td>\n",
       "      <td>Олимпийка</td>\n",
       "      <td>None</td>\n",
       "      <td>None</td>\n",
       "    </tr>\n",
       "  </tbody>\n",
       "</table>\n",
       "</div>"
      ],
      "text/plain": [
       "                                                      name  \\\n",
       "6762112  Фильтр АКПП HYUNDAI GETZ 02-10/ELANTRA 1.8 00-...   \n",
       "2248350  Масло оливковое Urzante Light рафинированное, ...   \n",
       "2940012                           Свитшот Reebok Cl A Crew   \n",
       "7671340            Клин съемник для снятия пластика в авто   \n",
       "795605                                         HXD Пыльник   \n",
       "\n",
       "                                      type category_l2 category_l4  \n",
       "6762112  Ремкомплект двигателя мототехники        None        None  \n",
       "2248350                 Растительное масло        None        None  \n",
       "2940012                        Оповещатель        None        None  \n",
       "7671340                            Съемник        None        None  \n",
       "795605                           Олимпийка        None        None  "
      ]
     },
     "execution_count": 5,
     "metadata": {},
     "output_type": "execute_result"
    }
   ],
   "source": [
    "# Удаляем ненужные колонки\n",
    "columns_to_drop = data[['main_photo', 'is_markup', 'target', 'stratify_column']]\n",
    "data = data.drop(columns=columns_to_drop, axis=1)\n",
    "data.head()"
   ]
  },
  {
   "cell_type": "code",
   "execution_count": 13,
   "id": "0d797096",
   "metadata": {},
   "outputs": [
    {
     "data": {
      "text/plain": [
       "category_l2\n",
       "Дом и сад                           106510\n",
       "Строительство и ремонт               71002\n",
       "Автотовары                           69001\n",
       "Одежда                               48705\n",
       "Электроника                          44444\n",
       "Галантерея и аксессуары              23181\n",
       "Мебель                               22421\n",
       "Обувь                                22195\n",
       "Детские товары                       21650\n",
       "Красота и гигиена                    19935\n",
       "Спорт и отдых                        19181\n",
       "Хобби и творчество                   18872\n",
       "Товары для животных                  11166\n",
       "Бытовая техника                      10599\n",
       "Канцелярские товары                  10075\n",
       "Аптека                                8124\n",
       "Книги                                 6608\n",
       "Товары для взрослых                   5921\n",
       "Продукты питания                      3488\n",
       "Продукты питания Ozon Fresh           1911\n",
       "Антиквариат и коллекционирование      1834\n",
       "Бытовая химия                         1499\n",
       "Музыкальные инструменты               1361\n",
       "Ювелирные изделия                     1262\n",
       "Кино, музыка, видеоигры, софт          875\n",
       "Фермерское хозяйство                   765\n",
       "Автомототехника                        303\n",
       "Товары для курения и аксессуары        122\n",
       "Name: count, dtype: int64"
      ]
     },
     "execution_count": 13,
     "metadata": {},
     "output_type": "execute_result"
    }
   ],
   "source": [
    "# Смотрим на столбец category_l2\n",
    "data['category_l2'].value_counts()"
   ]
  },
  {
   "cell_type": "code",
   "execution_count": 14,
   "id": "c663f643",
   "metadata": {},
   "outputs": [
    {
     "data": {
      "text/plain": [
       "category_l4\n",
       "Картина                              30354\n",
       "Фотообои                             22039\n",
       "Матрас                               14917\n",
       "Светильник для дома                  14084\n",
       "Автофильтры                          13668\n",
       "                                     ...  \n",
       "Манок                                    1\n",
       "Овоскоп                                  1\n",
       "Молочная смесь для детей до 3 лет        1\n",
       "Песок для купания                        1\n",
       "Тетрадь нотная                           1\n",
       "Name: count, Length: 3397, dtype: int64"
      ]
     },
     "execution_count": 14,
     "metadata": {},
     "output_type": "execute_result"
    }
   ],
   "source": [
    "# Смотрим на столбец category_l4\n",
    "data['category_l4'].value_counts()"
   ]
  },
  {
   "cell_type": "code",
   "execution_count": 15,
   "id": "8a933a71",
   "metadata": {},
   "outputs": [],
   "source": [
    "# Заменяем \\N на unknown\n",
    "data[\"category_l2\"] = data[\"category_l2\"].replace(\"\\\\N\", \"unknown\")\n",
    "data[\"category_l4\"] = data[\"category_l4\"].replace(\"\\\\N\", \"unknown\")"
   ]
  },
  {
   "cell_type": "code",
   "execution_count": 16,
   "id": "107c14d5",
   "metadata": {},
   "outputs": [
    {
     "data": {
      "image/png": "[encoded data removed]",
      "text/plain": [
       "<Figure size 640x480 with 1 Axes>"
      ]
     },
     "metadata": {},
     "output_type": "display_data"
    }
   ],
   "source": [
    "# Смотрим распределение category_l2\n",
    "data[\"category_l2\"].value_counts().plot(kind=\"bar\")\n",
    "plt.title(\"Распределение category_l2\")\n",
    "plt.show()"
   ]
  },
  {
   "cell_type": "code",
   "execution_count": 17,
   "id": "3b81d578",
   "metadata": {},
   "outputs": [
    {
     "data": {
      "image/png": "[encoded data removed]",
      "text/plain": [
       "<Figure size 640x480 with 1 Axes>"
      ]
     },
     "metadata": {},
     "output_type": "display_data"
    }
   ],
   "source": [
    "# Смотрим распределение category_l4\n",
    "data[\"category_l4\"].value_counts().plot(kind=\"bar\")\n",
    "plt.title(\"Распределение category_l4\")\n",
    "plt.show()"
   ]
  },
  {
   "cell_type": "code",
   "execution_count": 6,
   "id": "6f28a78c",
   "metadata": {},
   "outputs": [],
   "source": [
    "# Удаляем столбцы, т.к. в них много незаполненных значений\n",
    "data.drop([\"category_l2\", \"category_l4\"], axis=1, inplace=True)"
   ]
  },
  {
   "cell_type": "code",
   "execution_count": 7,
   "id": "2a883bd3",
   "metadata": {},
   "outputs": [
    {
     "data": {
      "text/html": [
       "<div>\n",
       "<style scoped>\n",
       "    .dataframe tbody tr th:only-of-type {\n",
       "        vertical-align: middle;\n",
       "    }\n",
       "\n",
       "    .dataframe tbody tr th {\n",
       "        vertical-align: top;\n",
       "    }\n",
       "\n",
       "    .dataframe thead th {\n",
       "        text-align: right;\n",
       "    }\n",
       "</style>\n",
       "<table border=\"1\" class=\"dataframe\">\n",
       "  <thead>\n",
       "    <tr style=\"text-align: right;\">\n",
       "      <th></th>\n",
       "      <th>name</th>\n",
       "      <th>type</th>\n",
       "    </tr>\n",
       "  </thead>\n",
       "  <tbody>\n",
       "    <tr>\n",
       "      <th>6762112</th>\n",
       "      <td>Фильтр АКПП HYUNDAI GETZ 02-10/ELANTRA 1.8 00-...</td>\n",
       "      <td>Ремкомплект двигателя мототехники</td>\n",
       "    </tr>\n",
       "    <tr>\n",
       "      <th>2248350</th>\n",
       "      <td>Масло оливковое Urzante Light рафинированное, ...</td>\n",
       "      <td>Растительное масло</td>\n",
       "    </tr>\n",
       "    <tr>\n",
       "      <th>2940012</th>\n",
       "      <td>Свитшот Reebok Cl A Crew</td>\n",
       "      <td>Оповещатель</td>\n",
       "    </tr>\n",
       "    <tr>\n",
       "      <th>7671340</th>\n",
       "      <td>Клин съемник для снятия пластика в авто</td>\n",
       "      <td>Съемник</td>\n",
       "    </tr>\n",
       "    <tr>\n",
       "      <th>795605</th>\n",
       "      <td>HXD Пыльник</td>\n",
       "      <td>Олимпийка</td>\n",
       "    </tr>\n",
       "  </tbody>\n",
       "</table>\n",
       "</div>"
      ],
      "text/plain": [
       "                                                      name  \\\n",
       "6762112  Фильтр АКПП HYUNDAI GETZ 02-10/ELANTRA 1.8 00-...   \n",
       "2248350  Масло оливковое Urzante Light рафинированное, ...   \n",
       "2940012                           Свитшот Reebok Cl A Crew   \n",
       "7671340            Клин съемник для снятия пластика в авто   \n",
       "795605                                         HXD Пыльник   \n",
       "\n",
       "                                      type  \n",
       "6762112  Ремкомплект двигателя мототехники  \n",
       "2248350                 Растительное масло  \n",
       "2940012                        Оповещатель  \n",
       "7671340                            Съемник  \n",
       "795605                           Олимпийка  "
      ]
     },
     "execution_count": 7,
     "metadata": {},
     "output_type": "execute_result"
    }
   ],
   "source": [
    "data.head()"
   ]
  },
  {
   "cell_type": "code",
   "execution_count": 7,
   "id": "270a7174",
   "metadata": {},
   "outputs": [
    {
     "name": "stderr",
     "output_type": "stream",
     "text": [
      "100%|██████████| 953767/953767 [00:02<00:00, 398426.92it/s]"
     ]
    },
    {
     "name": "stdout",
     "output_type": "stream",
     "text": [
      "                                      type                         clean_type\n",
      "6762112  Ремкомплект двигателя мототехники  ремкомплект двигателя мототехники\n",
      "2248350                 Растительное масло                 растительное масло\n",
      "2940012                        Оповещатель                        оповещатель\n",
      "7671340                            Съемник                            съемник\n",
      "795605                           Олимпийка                          олимпийка\n",
      "Размер DataFrame: (953767, 3)\n"
     ]
    },
    {
     "name": "stderr",
     "output_type": "stream",
     "text": [
      "\n"
     ]
    }
   ],
   "source": [
    "# Функция очистки текста\n",
    "def clean_text(text):\n",
    "    text = str(text).lower()\n",
    "    text = re.sub(r'http\\S+|www\\S+', '', text)\n",
    "    text = re.sub(r'[^a-zA-Zа-яА-ЯёЁ\\s]', '', text)\n",
    "    text = re.sub(r'\\s+', ' ', text)\n",
    "    return text.strip()\n",
    "\n",
    "tqdm.pandas()  # Активируем progress_apply\n",
    "# Применяем функцию\n",
    "data['clean_type'] = data['type'].progress_apply(clean_text)  # с прогресс-баром\n",
    "print(data[['type', 'clean_type']].head())  # сравнение оригинала и очищенного текста\n",
    "print(\"Размер DataFrame:\", data.shape)"
   ]
  },
  {
   "cell_type": "code",
   "execution_count": 8,
   "id": "27ea395a",
   "metadata": {},
   "outputs": [
    {
     "name": "stderr",
     "output_type": "stream",
     "text": [
      "100%|██████████| 953767/953767 [01:35<00:00, 10023.29it/s]"
     ]
    },
    {
     "name": "stdout",
     "output_type": "stream",
     "text": [
      "                                clean_type                    lemmatized_type\n",
      "6762112  ремкомплект двигателя мототехники  ремкомплект двигателя мототехники\n",
      "2248350                 растительное масло                 растительное масло\n",
      "2940012                        оповещатель                        оповещатель\n"
     ]
    },
    {
     "name": "stderr",
     "output_type": "stream",
     "text": [
      "\n"
     ]
    }
   ],
   "source": [
    "# Лемматизация\n",
    "\n",
    "# Инициализируем инструменты\n",
    "lemmatizer = WordNetLemmatizer()\n",
    "\n",
    "def get_wordnet_pos(treebank_tag: str) -> str:\n",
    "    \"\"\"Конвертирует POS-теги NLTK в формат WordNet.\"\"\"\n",
    "    return {\n",
    "        'J': wordnet.ADJ,\n",
    "        'V': wordnet.VERB,\n",
    "        'N': wordnet.NOUN,\n",
    "        'R': wordnet.ADV\n",
    "    }.get(treebank_tag[0], wordnet.NOUN)  # По умолчанию: существительное\n",
    "\n",
    "def lemmatize_text(text: str) -> str:\n",
    "    if not text.strip(): \n",
    "        return \"\"\n",
    "    \n",
    "    tokens = nltk.word_tokenize(text)\n",
    "    pos_tags = nltk.pos_tag(tokens)\n",
    "    \n",
    "    lemmas = []\n",
    "    for token, tag in pos_tags:\n",
    "        wordnet_pos = get_wordnet_pos(tag)\n",
    "        lemma = lemmatizer.lemmatize(token, pos=wordnet_pos)\n",
    "        lemmas.append(lemma)\n",
    "    \n",
    "    return \" \".join(lemmas)\n",
    "\n",
    "tqdm.pandas()  # Активируем progress_apply\n",
    "# Добавляем колонки с лемматизацией\n",
    "data['lemmatized_type'] = data['clean_type'].progress_apply(lemmatize_text)\n",
    "\n",
    "# Проверка результата\n",
    "print(data[['clean_type', 'lemmatized_type']].head(3))"
   ]
  },
  {
   "cell_type": "code",
   "execution_count": 11,
   "id": "a2cf9266",
   "metadata": {},
   "outputs": [
    {
     "data": {
      "text/plain": [
       "Index(['name', 'type', 'clean_type', 'lemmatized_type'], dtype='object')"
      ]
     },
     "execution_count": 11,
     "metadata": {},
     "output_type": "execute_result"
    }
   ],
   "source": [
    "data.columns"
   ]
  },
  {
   "cell_type": "markdown",
   "id": "3f531762",
   "metadata": {},
   "source": [
    "Эксперимент с алгоритмом K-means (кластеризация)"
   ]
  },
  {
   "cell_type": "code",
   "execution_count": 9,
   "id": "9f8bf05f",
   "metadata": {},
   "outputs": [],
   "source": [
    "# Создание объекта tf.data.Dataset\n",
    "# Замена NaN значений на пустую строку\n",
    "data['lemmatized_type'] = data['lemmatized_type'].fillna('')\n",
    "# Выбираем частичную выборку данных (например, 20% от всех данных)\n",
    "#sample_size = int(len(data) * 0.2)  # 20% данных\n",
    "#sampled_data = data.sample(n=sample_size, random_state=42)\n",
    "dataset = tf.data.Dataset.from_tensor_slices(data['lemmatized_type'].astype(str).values)"
   ]
  },
  {
   "cell_type": "code",
   "execution_count": 10,
   "id": "3f988b89",
   "metadata": {},
   "outputs": [],
   "source": [
    "# Векторизация с использованием TensorFlow\n",
    "vectorize_layer = tf.keras.layers.TextVectorization(max_tokens=10000)\n",
    "vectorize_layer.adapt(dataset.batch(1024))"
   ]
  },
  {
   "cell_type": "code",
   "execution_count": 11,
   "id": "4ec8fc45",
   "metadata": {},
   "outputs": [
    {
     "name": "stdout",
     "output_type": "stream",
     "text": [
      "Размер TF-IDF матрицы: (953767, 10)\n"
     ]
    }
   ],
   "source": [
    "# Применяем векторизацию\n",
    "tfidf_matrix = vectorize_layer(data['lemmatized_type'].values)\n",
    "print('Размер TF-IDF матрицы:', tfidf_matrix.shape)"
   ]
  },
  {
   "cell_type": "code",
   "execution_count": 12,
   "id": "8ec252f3",
   "metadata": {},
   "outputs": [],
   "source": [
    "from scipy import sparse  # Измените импорт здесь\n",
    "\n",
    "tfidf_sparse_matrix = sparse.csr_matrix(tfidf_matrix.numpy())  # Используйте sparse здесь\n",
    "\n",
    "# Сохраняем разреженную матрицу\n",
    "sparse.save_npz('tfidf_matrix.npz', tfidf_sparse_matrix)"
   ]
  },
  {
   "cell_type": "code",
   "execution_count": 13,
   "id": "c9b1d20e",
   "metadata": {},
   "outputs": [
    {
     "name": "stdout",
     "output_type": "stream",
     "text": [
      "0 - [UNK]\n",
      "1 - для\n",
      "2 - \n",
      "3 - [UNK]\n",
      "4 - \n",
      "5 - \n",
      "6 - для\n",
      "7 - \n",
      "8 - картина\n",
      "9 - для\n",
      "10 - [UNK]\n",
      "11 - для\n",
      "12 - \n",
      "13 - картина\n",
      "14 - \n",
      "15 - \n",
      "16 - для\n",
      "17 - для\n",
      "18 - картина\n",
      "19 - [UNK]\n",
      "20 - \n",
      "21 - картина\n",
      "22 - фотообои\n",
      "23 - \n",
      "24 - набор\n",
      "25 - для\n",
      "26 - [UNK]\n",
      "27 - \n",
      "28 - картина\n",
      "29 - для\n",
      "30 - [UNK]\n",
      "31 - [UNK]\n",
      "32 - для\n",
      "33 - для\n",
      "34 - для\n",
      "35 - [UNK]\n",
      "36 - \n",
      "37 - \n",
      "38 - для\n",
      "39 - фотообои\n",
      "40 - [UNK]\n",
      "41 - картина\n",
      "42 - \n",
      "43 - \n",
      "44 - для\n",
      "45 - набор\n",
      "46 - \n",
      "47 - \n",
      "48 - [UNK]\n",
      "49 - картина\n",
      "50 - \n",
      "51 - картина\n",
      "52 - [UNK]\n",
      "53 - [UNK]\n",
      "54 - \n",
      "55 - [UNK]\n",
      "56 - картина\n",
      "57 - \n",
      "58 - \n",
      "59 - картина\n",
      "60 - набор\n",
      "61 - картина\n",
      "62 - для\n",
      "63 - [UNK]\n",
      "64 - \n",
      "65 - \n",
      "66 - \n",
      "67 - \n",
      "68 - для\n",
      "69 - картина\n",
      "70 - фотообои\n",
      "71 - набор\n",
      "72 - \n",
      "73 - комплект\n",
      "74 - для\n",
      "75 - [UNK]\n",
      "76 - [UNK]\n",
      "77 - для\n",
      "78 - картина\n",
      "79 - для\n",
      "80 - фотообои\n",
      "81 - [UNK]\n",
      "82 - \n",
      "83 - для\n",
      "84 - [UNK]\n",
      "85 - картина\n",
      "86 - картина\n",
      "87 - \n",
      "88 - \n",
      "89 - набор\n",
      "90 - картина\n",
      "91 - [UNK]\n",
      "92 - набор\n",
      "93 - для\n",
      "94 - для\n",
      "95 - \n",
      "96 - [UNK]\n",
      "97 - [UNK]\n",
      "98 - \n",
      "99 - для\n"
     ]
    }
   ],
   "source": [
    "# Кластеризация KMeans\n",
    "num_clusters = 100\n",
    "kmeans = KMeans(n_clusters=num_clusters, random_state=42)\n",
    "\n",
    "\n",
    "kmeans = KMeans(n_clusters=num_clusters)\n",
    "kmeans.fit(tfidf_matrix.numpy())  # Преобразуем тензор в NumPy массив\n",
    "\n",
    "predictions = kmeans.labels_\n",
    "\n",
    "# Получаем названия всех слов\n",
    "vocabulary = vectorize_layer.get_vocabulary()  # Получаем словарь\n",
    "vocabulary_size = len(vocabulary)\n",
    "\n",
    "# Создаём словарь для хранения типичных слов для каждого кластера\n",
    "clustered_words = {}\n",
    "\n",
    "# Заполняем словарь\n",
    "for cluster in range(num_clusters):\n",
    "    # Получаем индексы слов, относящихся к данному кластеру\n",
    "    top_indices = kmeans.cluster_centers_[cluster].argsort()[-1:][::-1]  # 25 самых важных слов\n",
    "    top_words = [vocabulary[i] for i in top_indices if i < vocabulary_size]  # Проверка на размер словаря\n",
    "    clustered_words[cluster] = top_words\n",
    "\n",
    "# Теперь можно создать список из clustered_words\n",
    "cluster_word_list = [f\"{cluster} - {', '.join(words)}\" for cluster, words in clustered_words.items()]\n",
    "\n",
    "# Выводим список\n",
    "for entry in cluster_word_list:\n",
    "    print(entry)"
   ]
  },
  {
   "cell_type": "code",
   "execution_count": null,
   "id": "31d9877a",
   "metadata": {},
   "outputs": [],
   "source": [
    "#Сохраняем предсказания в отдельную колонку\n",
    "data['kmeans_30'] = predictions"
   ]
  },
  {
   "cell_type": "code",
   "execution_count": null,
   "id": "7f79fd62",
   "metadata": {},
   "outputs": [
    {
     "data": {
      "text/plain": [
       "['kmeans_30.pkl']"
      ]
     },
     "execution_count": 18,
     "metadata": {},
     "output_type": "execute_result"
    }
   ],
   "source": [
    "#Сохраняем модель в файл\n",
    "joblib.dump(kmeans, 'kmeans_30.pkl')"
   ]
  },
  {
   "cell_type": "markdown",
   "id": "ed9bedf9",
   "metadata": {},
   "source": [
    "Эксперимент с алгоритмом k ближайших соседей (классификация)"
   ]
  },
  {
   "cell_type": "code",
   "execution_count": 19,
   "id": "ab1def5a",
   "metadata": {},
   "outputs": [
    {
     "name": "stdout",
     "output_type": "stream",
     "text": [
      "Best K: 1\n",
      "Train F1 Score (Best K): 0.9999069484576151\n",
      "Test F1 Score: 0.9999056389650306\n",
      "Test Accuracy: 0.9999056376275203\n",
      "Test Recall: 0.9999056376275203\n",
      "Test Precision: 0.9999056822534181\n"
     ]
    }
   ],
   "source": [
    "from sklearn.preprocessing import StandardScaler\n",
    "# Разделение данных на тренировочную и тестовую выборки\n",
    "#sample_size = 10000  # Укажите желаемое количество строк\n",
    "#data_sample = data.sample(n=sample_size, random_state=42)\n",
    "\n",
    "# Разделение данных на тренировочную и тестовую выборки\n",
    "X = data['lemmatized_type']\n",
    "y = data['kmeans_30']\n",
    "\n",
    "X_train, X_test, y_train, y_test = train_test_split(X, y, test_size=0.2, random_state=42)\n",
    "\n",
    "# Векторизация текста для KNN\n",
    "X_train_final = vectorize_layer(X_train.values).numpy()\n",
    "X_test_final = vectorize_layer(X_test.values).numpy()\n",
    "\n",
    "# Нормализация данных\n",
    "scaler = StandardScaler()\n",
    "X_train_scaled = scaler.fit_transform(X_train_final)\n",
    "X_test_scaled = scaler.transform(X_test_final)\n",
    "\n",
    "\n",
    "# Задаем разные значения для K и оцениваем эффективность\n",
    "best_f1 = 0\n",
    "best_k = 1\n",
    "\n",
    "for k in range(1, 21):  # Например, пробуем от 1 до 20 соседей\n",
    "    knn = KNeighborsClassifier(n_neighbors=k)\n",
    "    y_train_pred = cross_val_predict(knn, X_train_scaled, y_train, cv=5, n_jobs=-1)\n",
    "    \n",
    "    f1_train = f1_score(y_train, y_train_pred, average='weighted')\n",
    "    \n",
    "    if f1_train > best_f1:\n",
    "        best_f1 = f1_train\n",
    "        best_k = k\n",
    "\n",
    "# Обучаем финальную модель с наилучшим k\n",
    "knn = KNeighborsClassifier(n_neighbors=best_k)\n",
    "knn.fit(X_train_scaled, y_train)\n",
    "\n",
    "# Предсказания на тестовой выборке\n",
    "y_test_pred = knn.predict(X_test_scaled)\n",
    "\n",
    "# Расчет метрик на тренировочной выборке\n",
    "print(f\"Best K: {best_k}\")\n",
    "print(f\"Train F1 Score (Best K): {best_f1}\")\n",
    "\n",
    "# Расчет метрик на тестовой выборке\n",
    "f1_test = f1_score(y_test, y_test_pred, average='weighted')\n",
    "accuracy_test = accuracy_score(y_test, y_test_pred)\n",
    "recall_test = recall_score(y_test, y_test_pred, average='weighted')\n",
    "precision_test = precision_score(y_test, y_test_pred, average='weighted')\n",
    "\n",
    "print(f\"Test F1 Score: {f1_test}\")\n",
    "print(f\"Test Accuracy: {accuracy_test}\")\n",
    "print(f\"Test Recall: {recall_test}\")\n",
    "print(f\"Test Precision: {precision_test}\")"
   ]
  },
  {
   "cell_type": "code",
   "execution_count": 20,
   "id": "cbaf705b",
   "metadata": {},
   "outputs": [
    {
     "data": {
      "text/plain": [
       "['knn_model_30.pkl']"
      ]
     },
     "execution_count": 20,
     "metadata": {},
     "output_type": "execute_result"
    }
   ],
   "source": [
    "# Сохранение модели в файл\n",
    "joblib.dump(knn, 'knn_model_30.pkl')"
   ]
  },
  {
   "cell_type": "code",
   "execution_count": null,
   "id": "e995b96b",
   "metadata": {},
   "outputs": [
    {
     "data": {
      "text/plain": [
       "['scaler.pkl']"
      ]
     },
     "execution_count": 21,
     "metadata": {},
     "output_type": "execute_result"
    }
   ],
   "source": [
    "#Сохраняем scaler\n",
    "joblib.dump(scaler, 'scaler.pkl')"
   ]
  },
  {
   "cell_type": "code",
   "execution_count": 22,
   "id": "4217bc27",
   "metadata": {},
   "outputs": [],
   "source": [
    "# Сохранение слоя\n",
    "tf.keras.models.save_model(vectorize_layer, 'text_vectorization_layer.keras')"
   ]
  }
 ],
 "metadata": {
  "kernelspec": {
   "display_name": "Python 3",
   "language": "python",
   "name": "python3"
  },
  "language_info": {
   "codemirror_mode": {
    "name": "ipython",
    "version": 3
   },
   "file_extension": ".py",
   "mimetype": "text/x-python",
   "name": "python",
   "nbconvert_exporter": "python",
   "pygments_lexer": "ipython3",
   "version": "3.11.9"
  }
 },
 "nbformat": 4,
 "nbformat_minor": 5
}
