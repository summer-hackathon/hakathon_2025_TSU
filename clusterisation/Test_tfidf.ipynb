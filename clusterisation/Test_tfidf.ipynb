{
 "cells": [
  {
   "cell_type": "code",
   "execution_count": 9,
   "id": "6ca7ae26",
   "metadata": {},
   "outputs": [
    {
     "name": "stdout",
     "output_type": "stream",
     "text": [
      "Описание: книга\n",
      "Предсказанный класс: 8\n",
      "Описание: ковёр\n",
      "Предсказанный класс: 12\n",
      "Описание: чашка\n",
      "Предсказанный класс: 12\n",
      "Описание: картина\n",
      "Предсказанный класс: 1\n",
      "Описание: платье\n",
      "Предсказанный класс: 51\n",
      "Описание: брюки\n",
      "Предсказанный класс: 28\n",
      "Описание: карандаш\n",
      "Предсказанный класс: 12\n",
      "Кластер 8: книга\n",
      "Кластер 12: ковёр, чашка, карандаш\n",
      "Кластер 1: картина\n",
      "Кластер 51: платье\n",
      "Кластер 28: брюки\n"
     ]
    }
   ],
   "source": [
    "import numpy as np\n",
    "import joblib\n",
    "\n",
    "# Загрузка обученной модели KNN\n",
    "knn_model = joblib.load('knn_model_tfidf.pkl')\n",
    "\n",
    "# Загрузка TfidfVectorizer\n",
    "tfidf_vectorizer = joblib.load('tfidf_vectorizer.pkl')\n",
    "\n",
    "# Загрузка модели KMeans для кластеризации\n",
    "kmeans_model = joblib.load('kmeans_tfidf.pkl')\n",
    "\n",
    "# Тестовые описания\n",
    "test_descriptions = [\n",
    "    'книга',\n",
    "    'ковёр',\n",
    "    'чашка', 'картина', 'платье', 'брюки', 'карандаш'\n",
    "]\n",
    "\n",
    "# Преобразование тестовых описаний в TF-IDF векторы\n",
    "test_tfidf_matrix = tfidf_vectorizer.transform(test_descriptions)\n",
    "\n",
    "# Предсказания на тестовых данных\n",
    "predictions = knn_model.predict(test_tfidf_matrix)\n",
    "\n",
    "# Вывод предсказаний\n",
    "for desc, pred in zip(test_descriptions, predictions):\n",
    "    print(f\"Описание: {desc}\")\n",
    "    print(f\"Предсказанный класс: {pred}\")\n",
    "\n",
    "# Получение предсказанных меток кластеров для TF-IDF векторов\n",
    "cluster_labels = kmeans_model.predict(test_tfidf_matrix)\n",
    "\n",
    "# Создание словаря для хранения описаний по кластерам\n",
    "clustered_descriptions = {}\n",
    "\n",
    "# Заполнение словаря с использованием меток кластеров\n",
    "for index, label in enumerate(cluster_labels):\n",
    "    if label not in clustered_descriptions:\n",
    "        clustered_descriptions[label] = []\n",
    "    clustered_descriptions[label].append(test_descriptions[index])\n",
    "\n",
    "# Вывод информации по кластерам\n",
    "for cluster, descriptions in clustered_descriptions.items():\n",
    "    print(f\"Кластер {cluster}: {', '.join(descriptions)}\")"
   ]
  }
 ],
 "metadata": {
  "kernelspec": {
   "display_name": "Python 3",
   "language": "python",
   "name": "python3"
  },
  "language_info": {
   "codemirror_mode": {
    "name": "ipython",
    "version": 3
   },
   "file_extension": ".py",
   "mimetype": "text/x-python",
   "name": "python",
   "nbconvert_exporter": "python",
   "pygments_lexer": "ipython3",
   "version": "3.11.9"
  }
 },
 "nbformat": 4,
 "nbformat_minor": 5
}
