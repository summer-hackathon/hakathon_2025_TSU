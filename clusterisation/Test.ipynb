{
 "cells": [
  {
   "cell_type": "code",
   "execution_count": 16,
   "id": "e6ac825a",
   "metadata": {},
   "outputs": [
    {
     "name": "stdout",
     "output_type": "stream",
     "text": [
      "[8 8 8]\n"
     ]
    }
   ],
   "source": [
    "import pandas as pd\n",
    "import tensorflow as tf\n",
    "import numpy as np\n",
    "from sklearn.preprocessing import StandardScaler\n",
    "from joblib import load\n",
    "\n",
    "# Загрузка модели KNN из файла\n",
    "knn_model = load('knn_model_full.pkl')\n",
    "\n",
    "# Загрузка стандартизатора\n",
    "scaler_loaded = load('scaler.pkl')\n",
    "\n",
    "# Пример текстовых описаний товаров\n",
    "test_descriptions = [\n",
    "    \"Эта увлекательная книга переносит читателя в волшебный мир, наполненный загадками и приключениями. Главный герой, необычный юноша, discovers секреты своей семьи и сталкивается с древними силами, угрожающими его миру. С невероятными поворотами сюжета и глубокими персонажами, она станет настоящим открытием для любителей фэнтези\",\n",
    "    \"Этот изысканный ковер ручной работы добавит элегантности любой комнате. Выполненный из высококачественных натуральных волокон, он обладает уникальным дизайном с яркими цветами и узорами, которые придают ему особое очарование. Ковёр не только красив, но и долговечен, что делает его идеальным вариантом для вашего дома\",\n",
    "    \"Эта стильная чашка из керамики с ярким глянцевым покрытием станет вашим идеальным спутником для утреннего кофе или вечернего чая. Удобная ручка и оптимальный объём делают её комфортной в использовании. Чашка доступна в нескольких цветах, что позволяет выбрать идеальный вариант для вашего стиля\"\n",
    "]\n",
    "\n",
    "# Загрузка слоя векторизации\n",
    "vectorize_layer = tf.keras.models.load_model('text_vectorization_layer.keras')\n",
    "\n",
    "# Векторизация тестовых данных\n",
    "test_vectors = vectorize_layer(test_descriptions).numpy()\n",
    "# Приведение размера до 10 признаков\n",
    "if test_vectors.shape[1] > 10:\n",
    "    test_vectors = test_vectors[:, :10]\n",
    "elif test_vectors.shape[1] < 10:\n",
    "    # В случае если меньше 10 признаков, добавьте нули\n",
    "    zero_padding = np.zeros((test_vectors.shape[0], 10 - test_vectors.shape[1]))\n",
    "    test_vectors = np.hstack((test_vectors, zero_padding))\n",
    "test_data = pd.DataFrame(test_vectors)\n",
    "test_data_scaled = scaler_loaded.transform(test_data)\n",
    "\n",
    "# Применение модели KNN\n",
    "predictions = knn_model.predict(test_data_scaled)\n",
    "\n",
    "# Вывод результатов\n",
    "print(predictions)"
   ]
  },
  {
   "cell_type": "code",
   "execution_count": 18,
   "id": "8efae1d5",
   "metadata": {},
   "outputs": [],
   "source": [
    "kmeans = load('kmeans_model_full.pkl')"
   ]
  },
  {
   "cell_type": "code",
   "execution_count": null,
   "id": "3840e02c",
   "metadata": {},
   "outputs": [
    {
     "name": "stdout",
     "output_type": "stream",
     "text": [
      "[[ 7.10341567e+03  2.31989467e+02  2.79887394e+02  7.94584155e+01\n",
      "   3.37344378e+01  1.10025420e+01  6.46085521e+00 -4.81836793e-14\n",
      "  -1.65145675e-14  4.24660307e-14]\n",
      " [ 4.74320993e+02  7.29053798e+01  2.78382688e+03  3.01097769e+02\n",
      "   1.95585961e+02  1.83358618e+01  1.55065757e-01  5.18725252e-01\n",
      "  -9.02056208e-15  3.74700271e-14]\n",
      " [ 3.86124964e+03  3.06846232e+03  1.27799386e+02  7.77893234e+01\n",
      "   3.15807879e+01  3.81751356e+00 -2.26485497e-14 -1.44328993e-14\n",
      "   5.96744876e-15 -1.49880108e-15]\n",
      " [ 1.02983116e+03  1.47919829e+02  6.95243170e+03  5.05894267e+02\n",
      "   1.80999402e+02  2.91333201e+01  2.30936494e+00  8.83603891e+00\n",
      "   9.32587341e-15 -8.65973959e-15]\n",
      " [ 3.06963906e+03  1.86389375e+02  1.39340044e+02  4.61576774e+01\n",
      "   1.16743970e+01  3.81887785e+00  1.01962883e-12 -7.97140132e-14\n",
      "  -1.50435220e-14 -3.11417558e-14]\n",
      " [ 6.89782643e+02  6.79840764e+03  5.79220423e+02  1.60930265e+02\n",
      "   6.60255010e+01  1.23252318e+01  6.58992671e+00  8.37108161e-14\n",
      "   8.93729535e-15 -7.88258347e-15]\n",
      " [ 5.71217756e+02  2.69844500e+03  1.35956162e+02  8.64199613e+01\n",
      "   2.22231822e+01  6.44817874e+00  1.84959912e-01  7.46069873e-14\n",
      "  -1.02695630e-15  3.21964677e-14]\n",
      " [ 8.99397034e+02  3.87726141e+02  2.03478512e+03  5.88415357e+03\n",
      "   6.27156346e+02  1.23114457e+02  2.41619495e+01  1.68368618e+00\n",
      "   7.27196081e-15 -4.27435864e-15]\n",
      " [ 3.07580546e+02  1.36106898e+02  1.18007439e+02  6.52877702e+01\n",
      "   4.02768725e+01  1.54757963e+01  4.90175190e+00  2.07672107e+00\n",
      "   3.45842070e-01  5.05069346e-01]\n",
      " [ 7.08818827e+03  6.99998174e+03  4.56972427e+02  2.03768880e+02\n",
      "   2.04090270e+01  1.32832806e+01 -1.59872116e-14 -9.54791801e-15\n",
      "  -1.13797860e-15  2.38697950e-15]]\n"
     ]
    }
   ],
   "source": [
    "# Извлекаем метки кластеров\n",
    "labels = kmeans.labels_\n",
    "\n",
    "# Связываем слова с кластерами\n",
    "clustered_words = {}\n",
    "for i, label in enumerate(labels):\n",
    "    if label not in clustered_words:\n",
    "        clustered_words[label] = []\n",
    "    clustered_words[label].append(documents[i])\n",
    "\n",
    "# Выводим слова для каждого кластера\n",
    "for cluster, words in clustered_words.items():\n",
    "    print(f\"Кластер {cluster}: {', '.join(words)}\")"
   ]
  }
 ],
 "metadata": {
  "kernelspec": {
   "display_name": "Python 3",
   "language": "python",
   "name": "python3"
  },
  "language_info": {
   "codemirror_mode": {
    "name": "ipython",
    "version": 3
   },
   "file_extension": ".py",
   "mimetype": "text/x-python",
   "name": "python",
   "nbconvert_exporter": "python",
   "pygments_lexer": "ipython3",
   "version": "3.11.9"
  }
 },
 "nbformat": 4,
 "nbformat_minor": 5
}
