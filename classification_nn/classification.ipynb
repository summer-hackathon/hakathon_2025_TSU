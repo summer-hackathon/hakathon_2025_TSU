{
 "cells": [
  {
   "cell_type": "code",
   "execution_count": 31,
   "metadata": {},
   "outputs": [
    {
     "name": "stdout",
     "output_type": "stream",
     "text": [
      "Requirement already satisfied: transformers in ./venv/lib/python3.11/site-packages (4.38.0)\n",
      "Requirement already satisfied: keras in ./venv/lib/python3.11/site-packages (3.10.0)\n",
      "Requirement already satisfied: jax in ./venv/lib/python3.11/site-packages (0.6.2)\n",
      "Requirement already satisfied: tensorflow in ./venv/lib/python3.11/site-packages (2.19.0)\n",
      "Requirement already satisfied: filelock in ./venv/lib/python3.11/site-packages (from transformers) (3.18.0)\n",
      "Requirement already satisfied: huggingface-hub<1.0,>=0.19.3 in ./venv/lib/python3.11/site-packages (from transformers) (0.33.2)\n",
      "Requirement already satisfied: numpy>=1.17 in ./venv/lib/python3.11/site-packages (from transformers) (2.1.3)\n",
      "Requirement already satisfied: packaging>=20.0 in ./venv/lib/python3.11/site-packages (from transformers) (25.0)\n",
      "Requirement already satisfied: pyyaml>=5.1 in ./venv/lib/python3.11/site-packages (from transformers) (6.0.2)\n",
      "Requirement already satisfied: regex!=2019.12.17 in ./venv/lib/python3.11/site-packages (from transformers) (2024.11.6)\n",
      "Requirement already satisfied: requests in ./venv/lib/python3.11/site-packages (from transformers) (2.32.4)\n",
      "Requirement already satisfied: tokenizers<0.19,>=0.14 in ./venv/lib/python3.11/site-packages (from transformers) (0.15.2)\n",
      "Requirement already satisfied: safetensors>=0.4.1 in ./venv/lib/python3.11/site-packages (from transformers) (0.5.3)\n",
      "Requirement already satisfied: tqdm>=4.27 in ./venv/lib/python3.11/site-packages (from transformers) (4.67.1)\n",
      "Requirement already satisfied: fsspec>=2023.5.0 in ./venv/lib/python3.11/site-packages (from huggingface-hub<1.0,>=0.19.3->transformers) (2025.3.0)\n",
      "Requirement already satisfied: typing-extensions>=3.7.4.3 in ./venv/lib/python3.11/site-packages (from huggingface-hub<1.0,>=0.19.3->transformers) (4.14.1)\n",
      "Requirement already satisfied: hf-xet<2.0.0,>=1.1.2 in ./venv/lib/python3.11/site-packages (from huggingface-hub<1.0,>=0.19.3->transformers) (1.1.5)\n",
      "Requirement already satisfied: absl-py in ./venv/lib/python3.11/site-packages (from keras) (2.3.1)\n",
      "Requirement already satisfied: rich in ./venv/lib/python3.11/site-packages (from keras) (14.0.0)\n",
      "Requirement already satisfied: namex in ./venv/lib/python3.11/site-packages (from keras) (0.1.0)\n",
      "Requirement already satisfied: h5py in ./venv/lib/python3.11/site-packages (from keras) (3.14.0)\n",
      "Requirement already satisfied: optree in ./venv/lib/python3.11/site-packages (from keras) (0.16.0)\n",
      "Requirement already satisfied: ml-dtypes in ./venv/lib/python3.11/site-packages (from keras) (0.5.1)\n",
      "Requirement already satisfied: jaxlib<=0.6.2,>=0.6.2 in ./venv/lib/python3.11/site-packages (from jax) (0.6.2)\n",
      "Requirement already satisfied: opt_einsum in ./venv/lib/python3.11/site-packages (from jax) (3.4.0)\n",
      "Requirement already satisfied: scipy>=1.12 in ./venv/lib/python3.11/site-packages (from jax) (1.16.0)\n",
      "Requirement already satisfied: astunparse>=1.6.0 in ./venv/lib/python3.11/site-packages (from tensorflow) (1.6.3)\n",
      "Requirement already satisfied: flatbuffers>=24.3.25 in ./venv/lib/python3.11/site-packages (from tensorflow) (25.2.10)\n",
      "Requirement already satisfied: gast!=0.5.0,!=0.5.1,!=0.5.2,>=0.2.1 in ./venv/lib/python3.11/site-packages (from tensorflow) (0.6.0)\n",
      "Requirement already satisfied: google-pasta>=0.1.1 in ./venv/lib/python3.11/site-packages (from tensorflow) (0.2.0)\n",
      "Requirement already satisfied: libclang>=13.0.0 in ./venv/lib/python3.11/site-packages (from tensorflow) (18.1.1)\n",
      "Requirement already satisfied: protobuf!=4.21.0,!=4.21.1,!=4.21.2,!=4.21.3,!=4.21.4,!=4.21.5,<6.0.0dev,>=3.20.3 in ./venv/lib/python3.11/site-packages (from tensorflow) (5.29.5)\n",
      "Requirement already satisfied: setuptools in ./venv/lib/python3.11/site-packages (from tensorflow) (80.9.0)\n",
      "Requirement already satisfied: six>=1.12.0 in ./venv/lib/python3.11/site-packages (from tensorflow) (1.17.0)\n",
      "Requirement already satisfied: termcolor>=1.1.0 in ./venv/lib/python3.11/site-packages (from tensorflow) (3.1.0)\n",
      "Requirement already satisfied: wrapt>=1.11.0 in ./venv/lib/python3.11/site-packages (from tensorflow) (1.17.2)\n",
      "Requirement already satisfied: grpcio<2.0,>=1.24.3 in ./venv/lib/python3.11/site-packages (from tensorflow) (1.73.1)\n",
      "Requirement already satisfied: tensorboard~=2.19.0 in ./venv/lib/python3.11/site-packages (from tensorflow) (2.19.0)\n",
      "Requirement already satisfied: tensorflow-io-gcs-filesystem>=0.23.1 in ./venv/lib/python3.11/site-packages (from tensorflow) (0.37.1)\n",
      "Requirement already satisfied: charset_normalizer<4,>=2 in ./venv/lib/python3.11/site-packages (from requests->transformers) (3.4.2)\n",
      "Requirement already satisfied: idna<4,>=2.5 in ./venv/lib/python3.11/site-packages (from requests->transformers) (3.10)\n",
      "Requirement already satisfied: urllib3<3,>=1.21.1 in ./venv/lib/python3.11/site-packages (from requests->transformers) (2.5.0)\n",
      "Requirement already satisfied: certifi>=2017.4.17 in ./venv/lib/python3.11/site-packages (from requests->transformers) (2025.6.15)\n",
      "Requirement already satisfied: markdown>=2.6.8 in ./venv/lib/python3.11/site-packages (from tensorboard~=2.19.0->tensorflow) (3.8.2)\n",
      "Requirement already satisfied: tensorboard-data-server<0.8.0,>=0.7.0 in ./venv/lib/python3.11/site-packages (from tensorboard~=2.19.0->tensorflow) (0.7.2)\n",
      "Requirement already satisfied: werkzeug>=1.0.1 in ./venv/lib/python3.11/site-packages (from tensorboard~=2.19.0->tensorflow) (3.1.3)\n",
      "Requirement already satisfied: wheel<1.0,>=0.23.0 in ./venv/lib/python3.11/site-packages (from astunparse>=1.6.0->tensorflow) (0.45.1)\n",
      "Requirement already satisfied: MarkupSafe>=2.1.1 in ./venv/lib/python3.11/site-packages (from werkzeug>=1.0.1->tensorboard~=2.19.0->tensorflow) (2.1.5)\n",
      "Requirement already satisfied: markdown-it-py>=2.2.0 in ./venv/lib/python3.11/site-packages (from rich->keras) (3.0.0)\n",
      "Requirement already satisfied: pygments<3.0.0,>=2.13.0 in ./venv/lib/python3.11/site-packages (from rich->keras) (2.19.2)\n",
      "Requirement already satisfied: mdurl~=0.1 in ./venv/lib/python3.11/site-packages (from markdown-it-py>=2.2.0->rich->keras) (0.1.2)\n"
     ]
    }
   ],
   "source": [
    "!pip install transformers keras jax tensorflow"
   ]
  },
  {
   "cell_type": "code",
   "execution_count": 32,
   "metadata": {
    "colab_type": "code"
   },
   "outputs": [],
   "source": [
    "import os\n",
    "\n",
    "os.environ[\"KERAS_BACKEND\"] = \"tensorflow\"\n",
    "\n",
    "import keras\n",
    "from keras import layers, ops\n",
    "\n",
    "from sklearn.model_selection import train_test_split\n",
    "\n",
    "from ast import literal_eval\n",
    "import matplotlib.pyplot as plt\n",
    "import pandas as pd\n",
    "import numpy as np"
   ]
  },
  {
   "cell_type": "code",
   "execution_count": 33,
   "metadata": {
    "colab_type": "code"
   },
   "outputs": [
    {
     "data": {
      "text/html": [
       "<div>\n",
       "<style scoped>\n",
       "    .dataframe tbody tr th:only-of-type {\n",
       "        vertical-align: middle;\n",
       "    }\n",
       "\n",
       "    .dataframe tbody tr th {\n",
       "        vertical-align: top;\n",
       "    }\n",
       "\n",
       "    .dataframe thead th {\n",
       "        text-align: right;\n",
       "    }\n",
       "</style>\n",
       "<table border=\"1\" class=\"dataframe\">\n",
       "  <thead>\n",
       "    <tr style=\"text-align: right;\">\n",
       "      <th></th>\n",
       "      <th>name</th>\n",
       "      <th>type</th>\n",
       "      <th>category_l2</th>\n",
       "      <th>category_l4</th>\n",
       "      <th>__index_level_0__</th>\n",
       "      <th>Unnamed: 9</th>\n",
       "      <th>Unnamed: 10</th>\n",
       "    </tr>\n",
       "  </thead>\n",
       "  <tbody>\n",
       "    <tr>\n",
       "      <th>0</th>\n",
       "      <td>Угольник-переходник ROMMER ВПр-НР, 15х1_2, из ...</td>\n",
       "      <td>Удлинитель.сантехнический</td>\n",
       "      <td>Строительство и ремонт</td>\n",
       "      <td>Фитинг сантехнический</td>\n",
       "      <td>446046</td>\n",
       "      <td>NaN</td>\n",
       "      <td>NaN</td>\n",
       "    </tr>\n",
       "    <tr>\n",
       "      <th>1</th>\n",
       "      <td>Ножницы Волна , 9\", 23 см, шаг - 18 мм, цвет ч...</td>\n",
       "      <td>Пирог</td>\n",
       "      <td>Хобби и творчество</td>\n",
       "      <td>Набор для шитья одежды</td>\n",
       "      <td>50527</td>\n",
       "      <td>NaN</td>\n",
       "      <td>NaN</td>\n",
       "    </tr>\n",
       "    <tr>\n",
       "      <th>2</th>\n",
       "      <td>15 шт. Мелки школьные Гамма, цветные, 10шт., м...</td>\n",
       "      <td>Проживание.в.пансионате</td>\n",
       "      <td>Канцелярские товары</td>\n",
       "      <td>Мелки</td>\n",
       "      <td>558059</td>\n",
       "      <td>NaN</td>\n",
       "      <td>NaN</td>\n",
       "    </tr>\n",
       "    <tr>\n",
       "      <th>3</th>\n",
       "      <td>Бра LED</td>\n",
       "      <td>Подсветка.для.картин</td>\n",
       "      <td>Строительство и ремонт</td>\n",
       "      <td>Настенный светильник</td>\n",
       "      <td>52215</td>\n",
       "      <td>NaN</td>\n",
       "      <td>NaN</td>\n",
       "    </tr>\n",
       "    <tr>\n",
       "      <th>4</th>\n",
       "      <td>Накидки-квадраты для Ауди с3 (2006 - 2008) хэт...</td>\n",
       "      <td>Спинка.автомобильного.сиденья</td>\n",
       "      <td>Автотовары</td>\n",
       "      <td>Накидка на сиденье</td>\n",
       "      <td>309604</td>\n",
       "      <td>NaN</td>\n",
       "      <td>NaN</td>\n",
       "    </tr>\n",
       "  </tbody>\n",
       "</table>\n",
       "</div>"
      ],
      "text/plain": [
       "                                                name  \\\n",
       "0  Угольник-переходник ROMMER ВПр-НР, 15х1_2, из ...   \n",
       "1  Ножницы Волна , 9\", 23 см, шаг - 18 мм, цвет ч...   \n",
       "2  15 шт. Мелки школьные Гамма, цветные, 10шт., м...   \n",
       "3                                            Бра LED   \n",
       "4  Накидки-квадраты для Ауди с3 (2006 - 2008) хэт...   \n",
       "\n",
       "                            type             category_l2  \\\n",
       "0      Удлинитель.сантехнический  Строительство и ремонт   \n",
       "1                          Пирог      Хобби и творчество   \n",
       "2        Проживание.в.пансионате     Канцелярские товары   \n",
       "3           Подсветка.для.картин  Строительство и ремонт   \n",
       "4  Спинка.автомобильного.сиденья              Автотовары   \n",
       "\n",
       "              category_l4  __index_level_0__ Unnamed: 9  Unnamed: 10  \n",
       "0   Фитинг сантехнический             446046        NaN          NaN  \n",
       "1  Набор для шитья одежды              50527        NaN          NaN  \n",
       "2                   Мелки             558059        NaN          NaN  \n",
       "3    Настенный светильник              52215        NaN          NaN  \n",
       "4      Накидка на сиденье             309604        NaN          NaN  "
      ]
     },
     "execution_count": 33,
     "metadata": {},
     "output_type": "execute_result"
    }
   ],
   "source": [
    "data_dir = \"./data\"\n",
    "df_data = pd.read_csv(\"./data/train_new.csv\", sep=\",\")\n",
    "df_data.drop(columns=[\"main_photo\", \"is_markup\", \"target\", \"stratify_column\"], axis=1, inplace=True)\n",
    "df_test = pd.read_csv(\"./data/test.csv\", sep=\",\")\n",
    "df_test.drop(columns=[\"main_photo\", \"is_markup\", \"target\", \"stratify_column\"], axis=1, inplace=True)\n",
    "df_data.head()"
   ]
  },
  {
   "cell_type": "code",
   "execution_count": 34,
   "metadata": {
    "colab_type": "code"
   },
   "outputs": [
    {
     "name": "stdout",
     "output_type": "stream",
     "text": [
      "There are 140 rows in the dataset.\n"
     ]
    }
   ],
   "source": [
    "print(f\"There are {len(df_data)} rows in the dataset.\")"
   ]
  },
  {
   "cell_type": "code",
   "execution_count": 35,
   "metadata": {
    "colab_type": "code"
   },
   "outputs": [
    {
     "name": "stdout",
     "output_type": "stream",
     "text": [
      "There are 16 duplicate types.\n"
     ]
    }
   ],
   "source": [
    "total_duplicate_names = sum(df_data[\"type\"].duplicated())\n",
    "print(f\"There are {total_duplicate_names} duplicate types.\")"
   ]
  },
  {
   "cell_type": "code",
   "execution_count": 36,
   "metadata": {},
   "outputs": [
    {
     "name": "stdout",
     "output_type": "stream",
     "text": [
      "There are 124 rows in the deduplicated dataset.\n",
      "124\n",
      "124\n"
     ]
    }
   ],
   "source": [
    "df_data = df_data[~df_data[\"type\"].duplicated()]\n",
    "print(f\"There are {len(df_data)} rows in the deduplicated dataset.\")\n",
    "\n",
    "print(sum(df_data[\"type\"].value_counts() == 1))\n",
    "\n",
    "print(df_data[\"type\"].nunique())"
   ]
  },
  {
   "cell_type": "code",
   "execution_count": 37,
   "metadata": {
    "colab_type": "code"
   },
   "outputs": [
    {
     "name": "stdout",
     "output_type": "stream",
     "text": [
      "Number of rows in training set: 124\n",
      "Number of rows in validation set: 250\n",
      "Number of rows in test set: 250\n"
     ]
    }
   ],
   "source": [
    "train_df = df_data\n",
    "test_df = df_test\n",
    "val_df = test_df.sample(frac=0.5)\n",
    "test_df.drop(val_df.index, inplace=True)\n",
    "\n",
    "print(f\"Number of rows in training set: {len(train_df)}\")\n",
    "print(f\"Number of rows in validation set: {len(val_df)}\")\n",
    "print(f\"Number of rows in test set: {len(test_df)}\")"
   ]
  },
  {
   "cell_type": "markdown",
   "metadata": {
    "colab_type": "text"
   },
   "source": [
    "## Multi-label binarization"
   ]
  },
  {
   "cell_type": "code",
   "execution_count": 38,
   "metadata": {
    "colab_type": "code"
   },
   "outputs": [
    {
     "name": "stdout",
     "output_type": "stream",
     "text": [
      "Vocabulary:\n",
      "\n",
      "['[UNK]', np.str_('Юбка.карнавальная'), np.str_('Электрокуртка'), np.str_('Шлем.для.картинга'), np.str_('Ширма'), np.str_('Чехол.для.плеера'), np.str_('Хлопья.для.животных'), np.str_('Фунгицид'), np.str_('Фотоадаптер.для.телескопа'), np.str_('Услуги.по.поиску.работы'), np.str_('Услуги.по.подбору.персонала'), np.str_('Усилитель.бампера'), np.str_('Удлинитель.сантехнический'), np.str_('Удлинитель.инструмента'), np.str_('Туалетный.столик'), np.str_('Тренировочные.перчатки.для.футбола'), np.str_('Точильный.камень.для.гриндера'), np.str_('Тонировочная.пленка'), np.str_('Тесьма'), np.str_('Тент.садовый'), np.str_('Таймер'), np.str_('Судейский.гонг'), np.str_('Сувенир.ювелирный'), np.str_('Стоппер.для.двери'), np.str_('Стерилизатор'), np.str_('Средство.чистящее.для.ванной.и.туалета'), np.str_('Спортивные.гольфы'), np.str_('Спинка.автомобильного.сиденья'), np.str_('Спальный.мешок'), np.str_('Смесь.для.приготовления.десерта'), np.str_('Скребок-лопатка.для.улья'), np.str_('Сиденье.для.автомобиля'), np.str_('Сертификат.на.полет.на.параплане'), np.str_('Сертификат.на.полет.на.мотодельтаплане'), np.str_('Сдача.недвижимости'), np.str_('Свитер.рабочий'), np.str_('Сауна.с.душевой.кабиной.'), np.str_('Ремкомплект.аппарата.химчистки.для.авто'), np.str_('Растушевка'), np.str_('Ранец.школьный'), np.str_('Радар-детектор'), np.str_('Проживание.в.пансионате'), np.str_('Проектирование'), np.str_('Принадлежности.к.АКБ'), np.str_('Пояс.для.плавания'), np.str_('Пояс.для.аквааэробики'), np.str_('Полуботинки'), np.str_('Покупка.недвижимости'), np.str_('Подставка.для.гриля'), np.str_('Подсветка.для.картин'), np.str_('Подарочный.набор.для.творчества'), np.str_('Пневмопистолет.моющий'), np.str_('Плекс.для.осветления'), np.str_('Пирог'), np.str_('Пепельница'), np.str_('Патина.витражная'), np.str_('Парктроник'), np.str_('Пальто.утепленное'), np.str_('Пазл'), np.str_('Окунь'), np.str_('Обшивка.салона.автомобиля'), np.str_('Обшивка.багажника'), np.str_('Обликва'), np.str_('Нейтрализатор.запаха'), np.str_('Наушники.для.борьбы'), np.str_('Нагрудник.хоккейный'), np.str_('Набор.для.подвижных.игр'), np.str_('Мундштук.для.алкотестера'), np.str_('Мочесборник.для.животных'), np.str_('Модель.спецтехники.коллекционная'), np.str_('Миксер'), np.str_('Материнская.плата'), np.str_('Масло.сурепное'), np.str_('Маска.для.плавания'), np.str_('Люк.канализационный'), np.str_('Ледянка'), np.str_('Лампочка.для.швейной.машины'), np.str_('Кухонный.комбайн'), np.str_('Курс.по.охране.окружающей.среды'), np.str_('Крюк.крепежный'), np.str_('Крюк.для.вязки.арматуры'), np.str_('Кренометр.винтажный'), np.str_('Краска.меловая'), np.str_('Кофр.для.хранения.вещей'), np.str_('Кормовая.добавка.для.сельскохозяйственных.животных'), np.str_('Контейнер.для.раздельного.сбора.мусора'), np.str_('Комплект.багажника'), np.str_('Коврик.придверный'), np.str_('Кнопки.для.одежды'), np.str_('Ключ.для.вариатора.снегохода'), np.str_('Ключ.автомобильный'), np.str_('Клатч'), np.str_('Кейкапы.для.механической.клавиатуры'), np.str_('Казаки'), np.str_('Кабачок'), np.str_('Защищенный.фотоаппарат'), np.str_('Занятия.по.лыжному.спорту'), np.str_('Занятия.по.водным.видам.спорта'), np.str_('Жидкое.противоскользящее.покрытие'), np.str_('Доска'), np.str_('Диски.для.наращивания.волос'), np.str_('Дизайн.интерьера'), np.str_('Держатель.для.штанги'), np.str_('Держатель.для.инструментов'), np.str_('Держатель.для.гардеробной.системы'), np.str_('Гель.для.бритья'), np.str_('Галстук.карнавальный'), np.str_('Выносная.кнопка'), np.str_('Воздушный.шар.с.гелием.(надутый)'), np.str_('Воздушный.фильтр'), np.str_('Влажные.салфетки'), np.str_('Вилочное.масло.для.мотоцикла'), np.str_('Видеокарта'), np.str_('Вертушка'), np.str_('Брюки.спортивные'), np.str_('Боевая.рубаха'), np.str_('Башенный.кран.радиоуправляемый'), np.str_('Баллон.для.дайвинга'), np.str_('Багажный.бокс.(автобокс)'), np.str_('Анальный.стимулятор'), np.str_('Амортизатор.рулевого.управления'), np.str_('Амортизатор.багажника'), np.str_('Аксессуар.для.поильников'), np.str_('DSL.модем'), np.str_('.косметичка.Dyson')]\n"
     ]
    }
   ],
   "source": [
    "import tensorflow as tf\n",
    "\n",
    "types = tf.ragged.constant(train_df[\"type\"].values)\n",
    "lookup = layers.StringLookup(output_mode=\"one_hot\")\n",
    "lookup.adapt(types)\n",
    "vocab = lookup.get_vocabulary()\n",
    "\n",
    "\n",
    "def invert_multi_hot(encoded_labels):\n",
    "    \"\"\"Reverse a single multi-hot encoded label to a tuple of vocab terms.\"\"\"\n",
    "    hot_indices = np.argwhere(encoded_labels == 1.0)[..., 0]\n",
    "    return np.take(vocab, hot_indices)\n",
    "\n",
    "\n",
    "print(\"Vocabulary:\\n\")\n",
    "print(vocab)\n"
   ]
  },
  {
   "cell_type": "code",
   "execution_count": 39,
   "metadata": {
    "colab_type": "code"
   },
   "outputs": [
    {
     "name": "stdout",
     "output_type": "stream",
     "text": [
      "Original label: Удлинитель.сантехнический\n",
      "Label-binarized representation: [[0 0 0 0 0 0 0 0 0 0 0 0 1 0 0 0 0 0 0 0 0 0 0 0 0 0 0 0 0 0 0 0 0 0 0 0\n",
      "  0 0 0 0 0 0 0 0 0 0 0 0 0 0 0 0 0 0 0 0 0 0 0 0 0 0 0 0 0 0 0 0 0 0 0 0\n",
      "  0 0 0 0 0 0 0 0 0 0 0 0 0 0 0 0 0 0 0 0 0 0 0 0 0 0 0 0 0 0 0 0 0 0 0 0\n",
      "  0 0 0 0 0 0 0 0 0 0 0 0 0 0 0 0 0]]\n"
     ]
    }
   ],
   "source": [
    "sample_label = train_df[\"type\"].iloc[0]\n",
    "print(f\"Original label: {sample_label}\")\n",
    "\n",
    "label_binarized = lookup([sample_label])\n",
    "print(f\"Label-binarized representation: {label_binarized}\")"
   ]
  },
  {
   "cell_type": "markdown",
   "metadata": {
    "colab_type": "text"
   },
   "source": [
    "## Data preprocessing and `tf.data.Dataset` objects"
   ]
  },
  {
   "cell_type": "code",
   "execution_count": 40,
   "metadata": {
    "colab_type": "code"
   },
   "outputs": [
    {
     "data": {
      "text/plain": [
       "count    124.000000\n",
       "mean       9.459677\n",
       "std        5.331909\n",
       "min        1.000000\n",
       "25%        6.000000\n",
       "50%        8.000000\n",
       "75%       12.000000\n",
       "max       25.000000\n",
       "Name: name, dtype: float64"
      ]
     },
     "execution_count": 40,
     "metadata": {},
     "output_type": "execute_result"
    }
   ],
   "source": [
    "train_df[\"name\"].apply(lambda x: len(x.split(\" \"))).describe()"
   ]
  },
  {
   "cell_type": "code",
   "execution_count": 41,
   "metadata": {
    "colab_type": "code"
   },
   "outputs": [],
   "source": [
    "max_seqlen = 150\n",
    "batch_size = 130\n",
    "padding_token = \"<pad>\"\n",
    "auto = tf.data.AUTOTUNE\n",
    "\n",
    "\n",
    "def make_dataset(dataframe, is_train=True):\n",
    "    labels = tf.ragged.constant(dataframe[\"type\"].values)\n",
    "    print(labels.shape)\n",
    "    print(len(dataframe))\n",
    "    print(len(labels))\n",
    "    label_binarized = lookup(labels).numpy()\n",
    "    print(len(label_binarized))\n",
    "    dataset = tf.data.Dataset.from_tensor_slices(\n",
    "        (dataframe[\"name\"].values, label_binarized)\n",
    "    )\n",
    "    dataset = dataset.shuffle(batch_size * 10) if is_train else dataset\n",
    "    return dataset.batch(batch_size)\n"
   ]
  },
  {
   "cell_type": "code",
   "execution_count": 42,
   "metadata": {
    "colab_type": "code"
   },
   "outputs": [
    {
     "name": "stdout",
     "output_type": "stream",
     "text": [
      "(124,)\n",
      "124\n",
      "124\n",
      "124\n",
      "(250,)\n",
      "250\n",
      "250\n",
      "250\n",
      "(250,)\n",
      "250\n",
      "250\n",
      "250\n"
     ]
    }
   ],
   "source": [
    "train_dataset = make_dataset(train_df, is_train=True)\n",
    "validation_dataset = make_dataset(val_df, is_train=False)\n",
    "test_dataset = make_dataset(test_df, is_train=False)"
   ]
  },
  {
   "cell_type": "markdown",
   "metadata": {
    "colab_type": "text"
   },
   "source": [
    "## Dataset preview"
   ]
  },
  {
   "cell_type": "code",
   "execution_count": 43,
   "metadata": {
    "colab_type": "code"
   },
   "outputs": [
    {
     "name": "stdout",
     "output_type": "stream",
     "text": [
      "Abstract: b'\\xd0\\xa3\\xd0\\xba\\xd1\\x80\\xd0\\xb5\\xd0\\xbf\\xd0\\xbb\\xd1\\x8f\\xd1\\x8e\\xd1\\x89\\xd0\\xb5\\xd0\\xb5 \\xd0\\xbc\\xd0\\xb0\\xd1\\x81\\xd0\\xbb\\xd0\\xbe \\xd0\\xbc\\xd1\\x8f\\xd1\\x82\\xd1\\x8b \\xd0\\xb4\\xd0\\xbb\\xd1\\x8f \\xd0\\xb2\\xd0\\xbe\\xd0\\xbb\\xd0\\xbe\\xd1\\x81 \\xd1\\x81 \\xd0\\xb1\\xd0\\xb8\\xd0\\xbe\\xd1\\x82\\xd0\\xb8\\xd0\\xbd\\xd0\\xbe\\xd0\\xbc \\xd0\\xb8 \\xd1\\x8d\\xd1\\x84\\xd0\\xb8\\xd1\\x80\\xd0\\xbd\\xd1\\x8b\\xd0\\xbc\\xd0\\xb8 \\xd0\\xbc\\xd0\\xb0\\xd1\\x81\\xd0\\xbb\\xd0\\xb0\\xd0\\xbc\\xd0\\xb8, 59 \\xd0\\xbc\\xd0\\xbb, \\xd0\\xb4\\xd0\\xbb\\xd1\\x8f \\xd1\\x80\\xd0\\xbe\\xd1\\x81\\xd1\\x82\\xd0\\xb0 \\xd0\\xb2\\xd0\\xbe\\xd0\\xbb\\xd0\\xbe\\xd1\\x81 \\xd0\\xb8 \\xd1\\x83\\xd1\\x85\\xd0\\xbe\\xd0\\xb4\\xd0\\xb0 \\xd0\\xb7\\xd0\\xb0 \\xd0\\xba\\xd0\\xbe\\xd0\\xb6\\xd0\\xb5\\xd0\\xb9 \\xd0\\xb3\\xd0\\xbe\\xd0\\xbb\\xd0\\xbe\\xd0\\xb2\\xd1\\x8b'\n",
      "Label(s): ['Масло.сурепное']\n",
      " \n",
      "Abstract: b'10000 # \\xd1\\x82\\xd0\\xbe\\xd1\\x87\\xd0\\xb8\\xd0\\xbb\\xd1\\x8c\\xd0\\xbd\\xd1\\x8b\\xd0\\xb9 \\xd0\\xba\\xd0\\xb0\\xd0\\xbc\\xd0\\xb5\\xd0\\xbd\\xd1\\x8c, \\xd0\\xb2\\xd1\\x8b\\xd1\\x81\\xd0\\xbe\\xd0\\xba\\xd0\\xbe\\xd0\\xba\\xd0\\xb0\\xd1\\x87\\xd0\\xb5\\xd1\\x81\\xd1\\x82\\xd0\\xb2\\xd0\\xb5\\xd0\\xbd\\xd0\\xbd\\xd1\\x8b\\xd0\\xb9 \\xd0\\xbf\\xd1\\x80\\xd0\\xbe\\xd1\\x84\\xd0\\xb5\\xd1\\x81\\xd1\\x81\\xd0\\xb8\\xd0\\xbe\\xd0\\xbd\\xd0\\xb0\\xd0\\xbb\\xd1\\x8c\\xd0\\xbd\\xd1\\x8b\\xd0\\xb9 \\xd0\\xba\\xd0\\xbe\\xd1\\x80\\xd1\\x83\\xd0\\xbd\\xd0\\xb4\\xd0\\xbe\\xd0\\xb2\\xd1\\x8b\\xd0\\xb9 \\xd1\\x83\\xd1\\x81\\xd1\\x82\\xd0\\xbe\\xd0\\xb9\\xd1\\x87\\xd0\\xb8\\xd0\\xb2\\xd1\\x8b\\xd0\\xb9 \\xd0\\xb8\\xd0\\xbd\\xd1\\x81\\xd1\\x82\\xd1\\x80\\xd1\\x83\\xd0\\xbc\\xd0\\xb5\\xd0\\xbd\\xd1\\x82'\n",
      "Label(s): ['Точильный.камень.для.гриндера']\n",
      " \n",
      "Abstract: b'\\xd0\\x9f\\xd0\\xb5\\xd1\\x80\\xd1\\x87\\xd0\\xb0\\xd1\\x82\\xd0\\xba\\xd0\\xb8 \\xd0\\xb4\\xd0\\xbb\\xd1\\x8f \\xd0\\xb2\\xd1\\x80\\xd0\\xb0\\xd1\\x82\\xd0\\xb0\\xd1\\x80\\xd1\\x8f'\n",
      "Label(s): ['Тренировочные.перчатки.для.футбола']\n",
      " \n",
      "Abstract: b'\\xd0\\x9a\\xd1\\x83\\xd1\\x85\\xd0\\xbe\\xd0\\xbd\\xd0\\xbd\\xd0\\xb0\\xd1\\x8f \\xd0\\xbc\\xd0\\xb0\\xd1\\x88\\xd0\\xb8\\xd0\\xbd\\xd0\\xb0 Zigmund & Shtain ZKM-970'\n",
      "Label(s): ['Миксер']\n",
      " \n",
      "Abstract: b'\\xd0\\x97\\xd0\\xb0\\xd0\\xb4\\xd0\\xbd\\xd1\\x8f\\xd1\\x8f \\xd0\\xbf\\xd0\\xbb\\xd0\\xb0\\xd0\\xbd\\xd0\\xba\\xd0\\xb0 \\xd0\\xbd\\xd0\\xb0 \\xd0\\xbc\\xd0\\xb0\\xd1\\x82\\xd0\\xb5\\xd1\\x80\\xd0\\xb8\\xd0\\xbd\\xd1\\x81\\xd0\\xba\\xd1\\x83\\xd1\\x8e \\xd0\\xbf\\xd0\\xbb\\xd0\\xb0\\xd1\\x82\\xd1\\x83 ASUS H110T'\n",
      "Label(s): ['Материнская.плата']\n",
      " \n"
     ]
    }
   ],
   "source": [
    "text_batch, label_batch = next(iter(train_dataset))\n",
    "\n",
    "for i, text in enumerate(text_batch[:5]):\n",
    "    label = label_batch[i].numpy()[None, ...]\n",
    "    print(f\"Abstract: {text}\")\n",
    "    print(f\"Label(s): {invert_multi_hot(label[0])}\")\n",
    "    print(\" \")"
   ]
  },
  {
   "cell_type": "markdown",
   "metadata": {
    "colab_type": "text"
   },
   "source": [
    "## Vectorization"
   ]
  },
  {
   "cell_type": "code",
   "execution_count": 44,
   "metadata": {
    "colab_type": "code"
   },
   "outputs": [
    {
     "name": "stdout",
     "output_type": "stream",
     "text": [
      "907\n"
     ]
    }
   ],
   "source": [
    "vocabulary = set()\n",
    "train_df[\"name\"].str.lower().str.split().apply(vocabulary.update)\n",
    "vocabulary_size = len(vocabulary)\n",
    "print(vocabulary_size)\n"
   ]
  },
  {
   "cell_type": "code",
   "execution_count": 45,
   "metadata": {
    "colab_type": "code"
   },
   "outputs": [],
   "source": [
    "text_vectorizer = layers.TextVectorization(\n",
    "    max_tokens=vocabulary_size, ngrams=2, output_mode=\"tf_idf\"\n",
    ")\n",
    "\n",
    "# `TextVectorization` layer needs to be adapted as per the vocabulary from our\n",
    "# training set.\n",
    "with tf.device(\"/CPU:0\"):\n",
    "    text_vectorizer.adapt(train_dataset.map(lambda text, label: text))\n",
    "\n",
    "train_dataset = train_dataset.map(\n",
    "    lambda text, label: (text_vectorizer(text), label), num_parallel_calls=auto\n",
    ").prefetch(auto)\n",
    "validation_dataset = validation_dataset.map(\n",
    "    lambda text, label: (text_vectorizer(text), label), num_parallel_calls=auto\n",
    ").prefetch(auto)\n",
    "test_dataset = test_dataset.map(\n",
    "    lambda text, label: (text_vectorizer(text), label), num_parallel_calls=auto\n",
    ").prefetch(auto)\n"
   ]
  },
  {
   "cell_type": "markdown",
   "metadata": {
    "colab_type": "text"
   },
   "source": [
    "## Create a text classification model"
   ]
  },
  {
   "cell_type": "code",
   "execution_count": 46,
   "metadata": {
    "colab_type": "code"
   },
   "outputs": [],
   "source": [
    "\n",
    "def make_model():\n",
    "    shallow_mlp_model = keras.Sequential(\n",
    "        [\n",
    "            layers.Dense(512, activation=\"relu\"),\n",
    "            layers.Dense(256, activation=\"relu\"),\n",
    "            layers.Dense(lookup.vocabulary_size(), activation=\"sigmoid\"),\n",
    "        ]  # More on why \"sigmoid\" has been used here in a moment.\n",
    "    )\n",
    "    return shallow_mlp_model\n"
   ]
  },
  {
   "cell_type": "markdown",
   "metadata": {
    "colab_type": "text"
   },
   "source": [
    "## Train the model"
   ]
  },
  {
   "cell_type": "code",
   "execution_count": 47,
   "metadata": {
    "colab_type": "code"
   },
   "outputs": [
    {
     "name": "stdout",
     "output_type": "stream",
     "text": [
      "Epoch 1/20\n",
      "\u001b[1m1/1\u001b[0m \u001b[32m━━━━━━━━━━━━━━━━━━━━\u001b[0m\u001b[37m\u001b[0m \u001b[1m1s\u001b[0m 776ms/step - binary_accuracy: 0.4931 - loss: 0.8213 - val_binary_accuracy: 0.6489 - val_loss: 0.6961\n",
      "Epoch 2/20\n",
      "\u001b[1m1/1\u001b[0m \u001b[32m━━━━━━━━━━━━━━━━━━━━\u001b[0m\u001b[37m\u001b[0m \u001b[1m0s\u001b[0m 66ms/step - binary_accuracy: 0.6526 - loss: 0.6483 - val_binary_accuracy: 0.7663 - val_loss: 0.5152\n",
      "Epoch 3/20\n",
      "\u001b[1m1/1\u001b[0m \u001b[32m━━━━━━━━━━━━━━━━━━━━\u001b[0m\u001b[37m\u001b[0m \u001b[1m0s\u001b[0m 64ms/step - binary_accuracy: 0.7786 - loss: 0.5231 - val_binary_accuracy: 0.8896 - val_loss: 0.3898\n",
      "Epoch 4/20\n",
      "\u001b[1m1/1\u001b[0m \u001b[32m━━━━━━━━━━━━━━━━━━━━\u001b[0m\u001b[37m\u001b[0m \u001b[1m0s\u001b[0m 64ms/step - binary_accuracy: 0.8821 - loss: 0.4259 - val_binary_accuracy: 0.9310 - val_loss: 0.2999\n",
      "Epoch 5/20\n",
      "\u001b[1m1/1\u001b[0m \u001b[32m━━━━━━━━━━━━━━━━━━━━\u001b[0m\u001b[37m\u001b[0m \u001b[1m0s\u001b[0m 64ms/step - binary_accuracy: 0.9279 - loss: 0.3453 - val_binary_accuracy: 0.9464 - val_loss: 0.2300\n",
      "Epoch 6/20\n",
      "\u001b[1m1/1\u001b[0m \u001b[32m━━━━━━━━━━━━━━━━━━━━\u001b[0m\u001b[37m\u001b[0m \u001b[1m0s\u001b[0m 63ms/step - binary_accuracy: 0.9506 - loss: 0.2765 - val_binary_accuracy: 0.9737 - val_loss: 0.1764\n",
      "Epoch 7/20\n",
      "\u001b[1m1/1\u001b[0m \u001b[32m━━━━━━━━━━━━━━━━━━━━\u001b[0m\u001b[37m\u001b[0m \u001b[1m0s\u001b[0m 63ms/step - binary_accuracy: 0.9702 - loss: 0.2184 - val_binary_accuracy: 0.9822 - val_loss: 0.1365\n",
      "Epoch 8/20\n",
      "\u001b[1m1/1\u001b[0m \u001b[32m━━━━━━━━━━━━━━━━━━━━\u001b[0m\u001b[37m\u001b[0m \u001b[1m0s\u001b[0m 63ms/step - binary_accuracy: 0.9797 - loss: 0.1714 - val_binary_accuracy: 0.9850 - val_loss: 0.1094\n",
      "Epoch 9/20\n",
      "\u001b[1m1/1\u001b[0m \u001b[32m━━━━━━━━━━━━━━━━━━━━\u001b[0m\u001b[37m\u001b[0m \u001b[1m0s\u001b[0m 67ms/step - binary_accuracy: 0.9868 - loss: 0.1354 - val_binary_accuracy: 0.9919 - val_loss: 0.0936\n",
      "Epoch 10/20\n",
      "\u001b[1m1/1\u001b[0m \u001b[32m━━━━━━━━━━━━━━━━━━━━\u001b[0m\u001b[37m\u001b[0m \u001b[1m0s\u001b[0m 64ms/step - binary_accuracy: 0.9917 - loss: 0.1096 - val_binary_accuracy: 0.9920 - val_loss: 0.0867\n",
      "Epoch 11/20\n",
      "\u001b[1m1/1\u001b[0m \u001b[32m━━━━━━━━━━━━━━━━━━━━\u001b[0m\u001b[37m\u001b[0m \u001b[1m0s\u001b[0m 65ms/step - binary_accuracy: 0.9920 - loss: 0.0925 - val_binary_accuracy: 0.9920 - val_loss: 0.0856\n",
      "Epoch 12/20\n",
      "\u001b[1m1/1\u001b[0m \u001b[32m━━━━━━━━━━━━━━━━━━━━\u001b[0m\u001b[37m\u001b[0m \u001b[1m0s\u001b[0m 62ms/step - binary_accuracy: 0.9920 - loss: 0.0820 - val_binary_accuracy: 0.9920 - val_loss: 0.0882\n",
      "Epoch 13/20\n",
      "\u001b[1m1/1\u001b[0m \u001b[32m━━━━━━━━━━━━━━━━━━━━\u001b[0m\u001b[37m\u001b[0m \u001b[1m0s\u001b[0m 75ms/step - binary_accuracy: 0.9920 - loss: 0.0761 - val_binary_accuracy: 0.9920 - val_loss: 0.0927\n",
      "Epoch 14/20\n",
      "\u001b[1m1/1\u001b[0m \u001b[32m━━━━━━━━━━━━━━━━━━━━\u001b[0m\u001b[37m\u001b[0m \u001b[1m0s\u001b[0m 65ms/step - binary_accuracy: 0.9920 - loss: 0.0732 - val_binary_accuracy: 0.9920 - val_loss: 0.0983\n",
      "Epoch 15/20\n",
      "\u001b[1m1/1\u001b[0m \u001b[32m━━━━━━━━━━━━━━━━━━━━\u001b[0m\u001b[37m\u001b[0m \u001b[1m0s\u001b[0m 62ms/step - binary_accuracy: 0.9920 - loss: 0.0721 - val_binary_accuracy: 0.9920 - val_loss: 0.1042\n",
      "Epoch 16/20\n",
      "\u001b[1m1/1\u001b[0m \u001b[32m━━━━━━━━━━━━━━━━━━━━\u001b[0m\u001b[37m\u001b[0m \u001b[1m0s\u001b[0m 63ms/step - binary_accuracy: 0.9920 - loss: 0.0721 - val_binary_accuracy: 0.9920 - val_loss: 0.1101\n",
      "Epoch 17/20\n",
      "\u001b[1m1/1\u001b[0m \u001b[32m━━━━━━━━━━━━━━━━━━━━\u001b[0m\u001b[37m\u001b[0m \u001b[1m0s\u001b[0m 61ms/step - binary_accuracy: 0.9920 - loss: 0.0725 - val_binary_accuracy: 0.9920 - val_loss: 0.1158\n",
      "Epoch 18/20\n",
      "\u001b[1m1/1\u001b[0m \u001b[32m━━━━━━━━━━━━━━━━━━━━\u001b[0m\u001b[37m\u001b[0m \u001b[1m0s\u001b[0m 61ms/step - binary_accuracy: 0.9920 - loss: 0.0730 - val_binary_accuracy: 0.9920 - val_loss: 0.1210\n",
      "Epoch 19/20\n",
      "\u001b[1m1/1\u001b[0m \u001b[32m━━━━━━━━━━━━━━━━━━━━\u001b[0m\u001b[37m\u001b[0m \u001b[1m0s\u001b[0m 63ms/step - binary_accuracy: 0.9920 - loss: 0.0733 - val_binary_accuracy: 0.9920 - val_loss: 0.1255\n",
      "Epoch 20/20\n",
      "\u001b[1m1/1\u001b[0m \u001b[32m━━━━━━━━━━━━━━━━━━━━\u001b[0m\u001b[37m\u001b[0m \u001b[1m0s\u001b[0m 62ms/step - binary_accuracy: 0.9920 - loss: 0.0734 - val_binary_accuracy: 0.9920 - val_loss: 0.1294\n"
     ]
    },
    {
     "data": {
      "image/png": "[encoded data removed]",
      "text/plain": [
       "<Figure size 640x480 with 1 Axes>"
      ]
     },
     "metadata": {},
     "output_type": "display_data"
    },
    {
     "data": {
      "image/png": "[encoded data removed]",
      "text/plain": [
       "<Figure size 640x480 with 1 Axes>"
      ]
     },
     "metadata": {},
     "output_type": "display_data"
    }
   ],
   "source": [
    "epochs = 20\n",
    "\n",
    "shallow_mlp_model = make_model()\n",
    "shallow_mlp_model.compile(\n",
    "    loss=\"binary_crossentropy\", optimizer=\"adam\", metrics=[\"binary_accuracy\"]\n",
    ")\n",
    "\n",
    "history = shallow_mlp_model.fit(\n",
    "    train_dataset, validation_data=validation_dataset, epochs=epochs\n",
    ")\n",
    "\n",
    "\n",
    "def plot_result(item):\n",
    "    plt.plot(history.history[item], label=item)\n",
    "    plt.plot(history.history[\"val_\" + item], label=\"val_\" + item)\n",
    "    plt.xlabel(\"Epochs\")\n",
    "    plt.ylabel(item)\n",
    "    plt.title(\"Train and Validation {} Over Epochs\".format(item), fontsize=14)\n",
    "    plt.legend()\n",
    "    plt.grid()\n",
    "    plt.show()\n",
    "\n",
    "\n",
    "plot_result(\"loss\")\n",
    "plot_result(\"binary_accuracy\")"
   ]
  },
  {
   "cell_type": "markdown",
   "metadata": {
    "colab_type": "text"
   },
   "source": [
    "### Evaluate the model"
   ]
  },
  {
   "cell_type": "code",
   "execution_count": 48,
   "metadata": {
    "colab_type": "code"
   },
   "outputs": [
    {
     "name": "stdout",
     "output_type": "stream",
     "text": [
      "\u001b[1m2/2\u001b[0m \u001b[32m━━━━━━━━━━━━━━━━━━━━\u001b[0m\u001b[37m\u001b[0m \u001b[1m0s\u001b[0m 16ms/step - binary_accuracy: 0.9920 - loss: 0.1432\n",
      "Categorical accuracy on the test set: 99.2%.\n"
     ]
    }
   ],
   "source": [
    "_, binary_acc = shallow_mlp_model.evaluate(test_dataset)\n",
    "print(f\"Categorical accuracy on the test set: {round(binary_acc * 100, 2)}%.\")"
   ]
  },
  {
   "cell_type": "markdown",
   "metadata": {
    "colab_type": "text"
   },
   "source": [
    "The trained model gives us an evaluation accuracy of ~99%."
   ]
  },
  {
   "cell_type": "code",
   "execution_count": 49,
   "metadata": {
    "colab_type": "code"
   },
   "outputs": [
    {
     "name": "stdout",
     "output_type": "stream",
     "text": [
      "(2,)\n",
      "2\n",
      "2\n",
      "2\n",
      "\u001b[1m1/1\u001b[0m \u001b[32m━━━━━━━━━━━━━━━━━━━━\u001b[0m\u001b[37m\u001b[0m \u001b[1m0s\u001b[0m 35ms/step\n",
      "Abstract: b'\\xd0\\x93\\xd0\\xbe\\xd1\\x84\\xd1\\x80\\xd0\\xbe\\xd0\\xbb\\xd0\\xb8\\xd1\\x81\\xd1\\x82 \\xd0\\xb4\\xd0\\xbb\\xd0\\xb8\\xd0\\xbd\\xd0\\xb0 80 \\xd1\\x81\\xd0\\xbc, \\xd1\\x88\\xd0\\xb8\\xd1\\x80\\xd0\\xb8\\xd0\\xbd\\xd0\\xb0 40 \\xd1\\x81\\xd0\\xbc, \\xd0\\xb2\\xd1\\x8b\\xd1\\x81\\xd0\\xbe\\xd1\\x82\\xd0\\xb0 0.35 \\xd1\\x81\\xd0\\xbc.'\n",
      "Label(s): ['[UNK]']\n",
      "Predicted Label(s): (Держатель.для.штанги, Ремкомплект.аппарата.химчистки.для.авто, Вертушка)\n",
      " \n",
      "Abstract: b'(P Y V W) \\xd0\\x90\\xd0\\xb2\\xd1\\x82\\xd0\\xbe\\xd0\\xbc\\xd0\\xbe\\xd0\\xb1\\xd0\\xb8\\xd0\\xbb\\xd1\\x8c\\xd0\\xbd\\xd1\\x8b\\xd0\\xb9 \\xd0\\xa0\\xd0\\xb5\\xd0\\xb3\\xd0\\xb8\\xd1\\x81\\xd1\\x82\\xd1\\x80\\xd0\\xb0\\xd1\\x82\\xd0\\xbe\\xd1\\x80 HD-\\xd0\\x92\\xd0\\xb8\\xd0\\xb4\\xd0\\xb5\\xd0\\xbe\\xd1\\x80\\xd0\\xb5\\xd0\\xb3\\xd0\\xb8\\xd1\\x81\\xd1\\x82\\xd1\\x80\\xd0\\xb0\\xd1\\x82\\xd0\\xbe\\xd1\\x80 \\xd0\\x9f\\xd0\\xbb\\xd0\\xb0\\xd1\\x81\\xd1\\x82\\xd0\\xb8\\xd0\\xba\\xd0\\xbe\\xd0\\xb2\\xd1\\x8b\\xd0\\xb5 \\xd0\\x90\\xd0\\xb2\\xd1\\x82\\xd0\\xbe\\xd0\\xbc\\xd0\\xbe\\xd0\\xb1\\xd0\\xb8\\xd0\\xbb\\xd1\\x8c\\xd0\\xbd\\xd1\\x8b\\xd0\\xb5 \\xd0\\xa0\\xd0\\xb5\\xd0\\xb3\\xd0\\xb8\\xd1\\x81\\xd1\\x82\\xd1\\x80\\xd0\\xb0\\xd1\\x82\\xd0\\xbe\\xd1\\x80\\xd1\\x8b'\n",
      "Label(s): ['[UNK]']\n",
      "Predicted Label(s): (Держатель.для.штанги, Ремкомплект.аппарата.химчистки.для.авто, Модель.спецтехники.коллекционная)\n",
      " \n"
     ]
    }
   ],
   "source": [
    "\n",
    "# We create a custom Model to override the predict method so\n",
    "# that it first vectorizes text data\n",
    "class ModelEndtoEnd(keras.Model):\n",
    "\n",
    "    def predict(self, inputs):\n",
    "        indices = text_vectorizer(inputs)\n",
    "        return super().predict(indices)\n",
    "\n",
    "\n",
    "def get_inference_model(model):\n",
    "    inputs = shallow_mlp_model.inputs\n",
    "    outputs = shallow_mlp_model.outputs\n",
    "    end_to_end_model = ModelEndtoEnd(inputs, outputs, name=\"end_to_end_model\")\n",
    "    end_to_end_model.compile(\n",
    "        optimizer=\"adam\", loss=\"binary_crossentropy\", metrics=[\"accuracy\"]\n",
    "    )\n",
    "    return end_to_end_model\n",
    "\n",
    "\n",
    "model_for_inference = get_inference_model(shallow_mlp_model)\n",
    "\n",
    "# Create a small dataset just for demonstrating inference.\n",
    "inference_dataset = make_dataset(test_df.sample(2), is_train=False)\n",
    "text_batch, label_batch = next(iter(inference_dataset))\n",
    "predicted_probabilities = model_for_inference.predict(text_batch)\n",
    "\n",
    "\n",
    "# Perform inference.\n",
    "for i, text in enumerate(text_batch[:5]):\n",
    "    label = label_batch[i].numpy()[None, ...]\n",
    "    print(f\"Abstract: {text}\")\n",
    "    print(f\"Label(s): {invert_multi_hot(label[0])}\")\n",
    "    predicted_proba = [proba for proba in predicted_probabilities[i]]\n",
    "    top_3_labels = [\n",
    "        x\n",
    "        for _, x in sorted(\n",
    "            zip(predicted_probabilities[i], lookup.get_vocabulary()),\n",
    "            key=lambda pair: pair[0],\n",
    "            reverse=True,\n",
    "        )\n",
    "    ][:3]\n",
    "    print(f\"Predicted Label(s): ({', '.join([label for label in top_3_labels])})\")\n",
    "    print(\" \")"
   ]
  },
  {
   "cell_type": "code",
   "execution_count": null,
   "metadata": {},
   "outputs": [],
   "source": []
  }
 ],
 "metadata": {
  "accelerator": "GPU",
  "colab": {
   "collapsed_sections": [],
   "name": "multi_label_classification",
   "private_outputs": false,
   "provenance": [],
   "toc_visible": true
  },
  "kernelspec": {
   "display_name": "Python 3 (ipykernel)",
   "language": "python",
   "name": "python3"
  },
  "language_info": {
   "codemirror_mode": {
    "name": "ipython",
    "version": 3
   },
   "file_extension": ".py",
   "mimetype": "text/x-python",
   "name": "python",
   "nbconvert_exporter": "python",
   "pygments_lexer": "ipython3",
   "version": "3.13.3"
  }
 },
 "nbformat": 4,
 "nbformat_minor": 4
}
