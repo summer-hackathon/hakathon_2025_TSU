{
 "cells": [
  {
   "cell_type": "code",
   "execution_count": 46,
   "id": "d8d5f929",
   "metadata": {},
   "outputs": [],
   "source": [
    "import warnings\n",
    "warnings.filterwarnings('ignore')\n",
    "\n",
    "import numpy as np\n",
    "import pandas as pd\n",
    "\n",
    "import matplotlib.pyplot as plt\n",
    "%matplotlib inline\n",
    "\n",
    "from tokenizer import tokenize\n",
    "\n",
    "from sklearn.feature_extraction.text import TfidfVectorizer\n",
    "from sklearn.pipeline import Pipeline\n",
    "from sklearn.linear_model import LogisticRegression\n",
    "\n",
    "import torch\n",
    "from torch import nn\n",
    "from torch.nn import functional as F\n",
    "from sklearn import metrics\n",
    "from sklearn.metrics import f1_score, roc_auc_score, accuracy_score, auc, roc_curve\n",
    "from sklearn.metrics import RocCurveDisplay\n",
    "\n",
    "import pickle"
   ]
  },
  {
   "cell_type": "code",
   "execution_count": 7,
   "id": "bfaf41d6",
   "metadata": {},
   "outputs": [
    {
     "data": {
      "text/html": [
       "<div>\n",
       "<style scoped>\n",
       "    .dataframe tbody tr th:only-of-type {\n",
       "        vertical-align: middle;\n",
       "    }\n",
       "\n",
       "    .dataframe tbody tr th {\n",
       "        vertical-align: top;\n",
       "    }\n",
       "\n",
       "    .dataframe thead th {\n",
       "        text-align: right;\n",
       "    }\n",
       "</style>\n",
       "<table border=\"1\" class=\"dataframe\">\n",
       "  <thead>\n",
       "    <tr style=\"text-align: right;\">\n",
       "      <th></th>\n",
       "      <th>main_photo</th>\n",
       "      <th>name</th>\n",
       "      <th>type</th>\n",
       "      <th>category_l2</th>\n",
       "      <th>category_l4</th>\n",
       "      <th>is_markup</th>\n",
       "      <th>target</th>\n",
       "      <th>stratify_column</th>\n",
       "    </tr>\n",
       "  </thead>\n",
       "  <tbody>\n",
       "    <tr>\n",
       "      <th>6762112</th>\n",
       "      <td>https://cdn1.ozone.ru/s3/multimedia-d/65647598...</td>\n",
       "      <td>Фильтр АКПП HYUNDAI GETZ 02-10/ELANTRA 1.8 00-...</td>\n",
       "      <td>Ремкомплект двигателя мототехники</td>\n",
       "      <td>None</td>\n",
       "      <td>None</td>\n",
       "      <td>False</td>\n",
       "      <td>0</td>\n",
       "      <td>nan_False_0</td>\n",
       "    </tr>\n",
       "    <tr>\n",
       "      <th>2248350</th>\n",
       "      <td>https://cdn1.ozone.ru/s3/multimedia-r/67002690...</td>\n",
       "      <td>Масло оливковое Urzante Light рафинированное, ...</td>\n",
       "      <td>Растительное масло</td>\n",
       "      <td>None</td>\n",
       "      <td>None</td>\n",
       "      <td>False</td>\n",
       "      <td>1</td>\n",
       "      <td>nan_False_1</td>\n",
       "    </tr>\n",
       "    <tr>\n",
       "      <th>2940012</th>\n",
       "      <td>https://cdn1.ozone.ru/multimedia/1026904772.jpg</td>\n",
       "      <td>Свитшот Reebok Cl A Crew</td>\n",
       "      <td>Оповещатель</td>\n",
       "      <td>None</td>\n",
       "      <td>None</td>\n",
       "      <td>False</td>\n",
       "      <td>0</td>\n",
       "      <td>nan_False_0</td>\n",
       "    </tr>\n",
       "    <tr>\n",
       "      <th>7671340</th>\n",
       "      <td>https://cdn1.ozone.ru/s3/multimedia-1-r/700080...</td>\n",
       "      <td>Клин съемник для снятия пластика в авто</td>\n",
       "      <td>Съемник</td>\n",
       "      <td>None</td>\n",
       "      <td>None</td>\n",
       "      <td>False</td>\n",
       "      <td>1</td>\n",
       "      <td>nan_False_1</td>\n",
       "    </tr>\n",
       "    <tr>\n",
       "      <th>795605</th>\n",
       "      <td>https://cdn1.ozone.ru/s3/multimedia-1-u/712028...</td>\n",
       "      <td>HXD Пыльник</td>\n",
       "      <td>Олимпийка</td>\n",
       "      <td>None</td>\n",
       "      <td>None</td>\n",
       "      <td>False</td>\n",
       "      <td>0</td>\n",
       "      <td>nan_False_0</td>\n",
       "    </tr>\n",
       "  </tbody>\n",
       "</table>\n",
       "</div>"
      ],
      "text/plain": [
       "                                                main_photo  \\\n",
       "6762112  https://cdn1.ozone.ru/s3/multimedia-d/65647598...   \n",
       "2248350  https://cdn1.ozone.ru/s3/multimedia-r/67002690...   \n",
       "2940012    https://cdn1.ozone.ru/multimedia/1026904772.jpg   \n",
       "7671340  https://cdn1.ozone.ru/s3/multimedia-1-r/700080...   \n",
       "795605   https://cdn1.ozone.ru/s3/multimedia-1-u/712028...   \n",
       "\n",
       "                                                      name  \\\n",
       "6762112  Фильтр АКПП HYUNDAI GETZ 02-10/ELANTRA 1.8 00-...   \n",
       "2248350  Масло оливковое Urzante Light рафинированное, ...   \n",
       "2940012                           Свитшот Reebok Cl A Crew   \n",
       "7671340            Клин съемник для снятия пластика в авто   \n",
       "795605                                         HXD Пыльник   \n",
       "\n",
       "                                      type category_l2 category_l4  is_markup  \\\n",
       "6762112  Ремкомплект двигателя мототехники        None        None      False   \n",
       "2248350                 Растительное масло        None        None      False   \n",
       "2940012                        Оповещатель        None        None      False   \n",
       "7671340                            Съемник        None        None      False   \n",
       "795605                           Олимпийка        None        None      False   \n",
       "\n",
       "         target stratify_column  \n",
       "6762112       0     nan_False_0  \n",
       "2248350       1     nan_False_1  \n",
       "2940012       0     nan_False_0  \n",
       "7671340       1     nan_False_1  \n",
       "795605        0     nan_False_0  "
      ]
     },
     "execution_count": 7,
     "metadata": {},
     "output_type": "execute_result"
    }
   ],
   "source": [
    "df_train = pd.read_parquet('hackathon_types/hackaton_train_types_recom.parquet', engine='fastparquet')\n",
    "df_train.head()"
   ]
  },
  {
   "cell_type": "code",
   "execution_count": 8,
   "id": "aa49d733",
   "metadata": {},
   "outputs": [
    {
     "data": {
      "text/html": [
       "<div>\n",
       "<style scoped>\n",
       "    .dataframe tbody tr th:only-of-type {\n",
       "        vertical-align: middle;\n",
       "    }\n",
       "\n",
       "    .dataframe tbody tr th {\n",
       "        vertical-align: top;\n",
       "    }\n",
       "\n",
       "    .dataframe thead th {\n",
       "        text-align: right;\n",
       "    }\n",
       "</style>\n",
       "<table border=\"1\" class=\"dataframe\">\n",
       "  <thead>\n",
       "    <tr style=\"text-align: right;\">\n",
       "      <th></th>\n",
       "      <th>main_photo</th>\n",
       "      <th>name</th>\n",
       "      <th>type</th>\n",
       "      <th>category_l2</th>\n",
       "      <th>category_l4</th>\n",
       "      <th>is_markup</th>\n",
       "      <th>target</th>\n",
       "      <th>stratify_column</th>\n",
       "    </tr>\n",
       "  </thead>\n",
       "  <tbody>\n",
       "    <tr>\n",
       "      <th>7809846</th>\n",
       "      <td>https://cdn1.ozone.ru/s3/multimedia-t/63327116...</td>\n",
       "      <td>Защитный кейс (бокс, чехол) для карт памяти SD...</td>\n",
       "      <td>Комплект фотоаксессуаров</td>\n",
       "      <td>None</td>\n",
       "      <td>None</td>\n",
       "      <td>False</td>\n",
       "      <td>1</td>\n",
       "      <td>nan_False_1</td>\n",
       "    </tr>\n",
       "    <tr>\n",
       "      <th>97704</th>\n",
       "      <td>https://cdn1.ozone.ru/s3/multimedia-1-h/714445...</td>\n",
       "      <td>Кружка латте керамическая большая для чая и ко...</td>\n",
       "      <td>Кружка</td>\n",
       "      <td>Дом и сад</td>\n",
       "      <td>Кружка</td>\n",
       "      <td>False</td>\n",
       "      <td>1</td>\n",
       "      <td>Дом и сад_False_1</td>\n",
       "    </tr>\n",
       "    <tr>\n",
       "      <th>446046</th>\n",
       "      <td>https://cdn1.ozone.ru/s3/multimedia-1-q/719594...</td>\n",
       "      <td>Угольник-переходник ROMMER ВПр-НР, 15х1_2, из ...</td>\n",
       "      <td>Удлинитель сантехнический</td>\n",
       "      <td>Строительство и ремонт</td>\n",
       "      <td>Фитинг сантехнический</td>\n",
       "      <td>True</td>\n",
       "      <td>1</td>\n",
       "      <td>Строительство и ремонт_True_1</td>\n",
       "    </tr>\n",
       "    <tr>\n",
       "      <th>511281</th>\n",
       "      <td>https://cdn1.ozone.ru/s3/multimedia-1-w/722827...</td>\n",
       "      <td>Интерьерная картина \"Кирпичи в руинах древней ...</td>\n",
       "      <td>Картина</td>\n",
       "      <td>Дом и сад</td>\n",
       "      <td>Картина</td>\n",
       "      <td>False</td>\n",
       "      <td>1</td>\n",
       "      <td>Дом и сад_False_1</td>\n",
       "    </tr>\n",
       "    <tr>\n",
       "      <th>50527</th>\n",
       "      <td>https://cdn1.ozone.ru/s3/multimedia-1-3/696992...</td>\n",
       "      <td>Ножницы Волна , 9\", 23 см, шаг - 18 мм, цвет ч...</td>\n",
       "      <td>Пирог</td>\n",
       "      <td>Хобби и творчество</td>\n",
       "      <td>Набор для шитья одежды</td>\n",
       "      <td>True</td>\n",
       "      <td>0</td>\n",
       "      <td>Хобби и творчество_True_0</td>\n",
       "    </tr>\n",
       "  </tbody>\n",
       "</table>\n",
       "</div>"
      ],
      "text/plain": [
       "                                                main_photo  \\\n",
       "7809846  https://cdn1.ozone.ru/s3/multimedia-t/63327116...   \n",
       "97704    https://cdn1.ozone.ru/s3/multimedia-1-h/714445...   \n",
       "446046   https://cdn1.ozone.ru/s3/multimedia-1-q/719594...   \n",
       "511281   https://cdn1.ozone.ru/s3/multimedia-1-w/722827...   \n",
       "50527    https://cdn1.ozone.ru/s3/multimedia-1-3/696992...   \n",
       "\n",
       "                                                      name  \\\n",
       "7809846  Защитный кейс (бокс, чехол) для карт памяти SD...   \n",
       "97704    Кружка латте керамическая большая для чая и ко...   \n",
       "446046   Угольник-переходник ROMMER ВПр-НР, 15х1_2, из ...   \n",
       "511281   Интерьерная картина \"Кирпичи в руинах древней ...   \n",
       "50527    Ножницы Волна , 9\", 23 см, шаг - 18 мм, цвет ч...   \n",
       "\n",
       "                              type             category_l2  \\\n",
       "7809846   Комплект фотоаксессуаров                    None   \n",
       "97704                       Кружка               Дом и сад   \n",
       "446046   Удлинитель сантехнический  Строительство и ремонт   \n",
       "511281                     Картина               Дом и сад   \n",
       "50527                        Пирог      Хобби и творчество   \n",
       "\n",
       "                    category_l4  is_markup  target  \\\n",
       "7809846                    None      False       1   \n",
       "97704                    Кружка      False       1   \n",
       "446046    Фитинг сантехнический       True       1   \n",
       "511281                  Картина      False       1   \n",
       "50527    Набор для шитья одежды       True       0   \n",
       "\n",
       "                       stratify_column  \n",
       "7809846                    nan_False_1  \n",
       "97704                Дом и сад_False_1  \n",
       "446046   Строительство и ремонт_True_1  \n",
       "511281               Дом и сад_False_1  \n",
       "50527        Хобби и творчество_True_0  "
      ]
     },
     "execution_count": 8,
     "metadata": {},
     "output_type": "execute_result"
    }
   ],
   "source": [
    "df_test = pd.read_parquet('hackathon_types/hackaton_test_types_recom.parquet', engine='fastparquet')\n",
    "df_test.head()"
   ]
  },
  {
   "cell_type": "code",
   "execution_count": 9,
   "id": "4211b439",
   "metadata": {},
   "outputs": [
    {
     "name": "stdout",
     "output_type": "stream",
     "text": [
      "<class 'pandas.core.frame.DataFrame'>\n",
      "Index: 763013 entries, 6762112 to 724995\n",
      "Data columns (total 8 columns):\n",
      " #   Column           Non-Null Count   Dtype \n",
      "---  ------           --------------   ----- \n",
      " 0   main_photo       763013 non-null  object\n",
      " 1   name             763013 non-null  object\n",
      " 2   type             763013 non-null  object\n",
      " 3   category_l2      442407 non-null  object\n",
      " 4   category_l4      442407 non-null  object\n",
      " 5   is_markup        763013 non-null  bool  \n",
      " 6   target           763013 non-null  int64 \n",
      " 7   stratify_column  763013 non-null  object\n",
      "dtypes: bool(1), int64(1), object(6)\n",
      "memory usage: 47.3+ MB\n"
     ]
    }
   ],
   "source": [
    "df_train.info()"
   ]
  },
  {
   "cell_type": "code",
   "execution_count": 10,
   "id": "bd759240",
   "metadata": {},
   "outputs": [
    {
     "name": "stdout",
     "output_type": "stream",
     "text": [
      "<class 'pandas.core.frame.DataFrame'>\n",
      "Index: 190754 entries, 7809846 to 6192728\n",
      "Data columns (total 8 columns):\n",
      " #   Column           Non-Null Count   Dtype \n",
      "---  ------           --------------   ----- \n",
      " 0   main_photo       190754 non-null  object\n",
      " 1   name             190754 non-null  object\n",
      " 2   type             190754 non-null  object\n",
      " 3   category_l2      110603 non-null  object\n",
      " 4   category_l4      110603 non-null  object\n",
      " 5   is_markup        190754 non-null  bool  \n",
      " 6   target           190754 non-null  int64 \n",
      " 7   stratify_column  190754 non-null  object\n",
      "dtypes: bool(1), int64(1), object(6)\n",
      "memory usage: 11.8+ MB\n"
     ]
    }
   ],
   "source": [
    "df_test.info()"
   ]
  },
  {
   "cell_type": "code",
   "execution_count": 11,
   "id": "b8a3cdd8",
   "metadata": {},
   "outputs": [
    {
     "data": {
      "text/plain": [
       "type\n",
       "Картина                                        24143\n",
       "Фотообои                                       15650\n",
       "Матрас                                         11952\n",
       "Постер                                          9229\n",
       "Проживание в пансионате                         5304\n",
       "                                               ...  \n",
       "Термометр для сельскохозяйственных животных        1\n",
       "Масло овсяное                                      1\n",
       "Оселок                                             1\n",
       "Табло для бильярда                                 1\n",
       "Инвертор подсветки для авто                        1\n",
       "Name: count, Length: 19981, dtype: int64"
      ]
     },
     "execution_count": 11,
     "metadata": {},
     "output_type": "execute_result"
    }
   ],
   "source": [
    "df_train['type'].value_counts()"
   ]
  },
  {
   "cell_type": "code",
   "execution_count": 12,
   "id": "e10d9a61",
   "metadata": {},
   "outputs": [
    {
     "data": {
      "text/plain": [
       "target\n",
       "1    383906\n",
       "0    379107\n",
       "Name: count, dtype: int64"
      ]
     },
     "execution_count": 12,
     "metadata": {},
     "output_type": "execute_result"
    }
   ],
   "source": [
    "df_train['target'].value_counts()"
   ]
  },
  {
   "cell_type": "code",
   "execution_count": 13,
   "id": "0aba51a6",
   "metadata": {},
   "outputs": [
    {
     "data": {
      "text/plain": [
       "0"
      ]
     },
     "execution_count": 13,
     "metadata": {},
     "output_type": "execute_result"
    }
   ],
   "source": [
    "sum(df_train['type'].isnull())"
   ]
  },
  {
   "cell_type": "code",
   "execution_count": 14,
   "id": "b5b6139d",
   "metadata": {},
   "outputs": [
    {
     "data": {
      "text/plain": [
       "0"
      ]
     },
     "execution_count": 14,
     "metadata": {},
     "output_type": "execute_result"
    }
   ],
   "source": [
    "sum(df_test['type'].isnull())"
   ]
  },
  {
   "cell_type": "code",
   "execution_count": 15,
   "id": "1da4708a",
   "metadata": {},
   "outputs": [
    {
     "data": {
      "text/html": [
       "<div>\n",
       "<style scoped>\n",
       "    .dataframe tbody tr th:only-of-type {\n",
       "        vertical-align: middle;\n",
       "    }\n",
       "\n",
       "    .dataframe tbody tr th {\n",
       "        vertical-align: top;\n",
       "    }\n",
       "\n",
       "    .dataframe thead th {\n",
       "        text-align: right;\n",
       "    }\n",
       "</style>\n",
       "<table border=\"1\" class=\"dataframe\">\n",
       "  <thead>\n",
       "    <tr style=\"text-align: right;\">\n",
       "      <th></th>\n",
       "      <th>main_photo</th>\n",
       "      <th>name</th>\n",
       "      <th>type</th>\n",
       "      <th>category_l2</th>\n",
       "      <th>category_l4</th>\n",
       "      <th>is_markup</th>\n",
       "      <th>target</th>\n",
       "      <th>stratify_column</th>\n",
       "      <th>data</th>\n",
       "    </tr>\n",
       "  </thead>\n",
       "  <tbody>\n",
       "    <tr>\n",
       "      <th>6762112</th>\n",
       "      <td>https://cdn1.ozone.ru/s3/multimedia-d/65647598...</td>\n",
       "      <td>Фильтр АКПП HYUNDAI GETZ 02-10/ELANTRA 1.8 00-...</td>\n",
       "      <td>Ремкомплект двигателя мототехники</td>\n",
       "      <td></td>\n",
       "      <td></td>\n",
       "      <td>False</td>\n",
       "      <td>0</td>\n",
       "      <td>nan_False_0</td>\n",
       "      <td>Фильтр АКПП HYUNDAI GETZ 02-10/ELANTRA 1.8 00-...</td>\n",
       "    </tr>\n",
       "    <tr>\n",
       "      <th>2248350</th>\n",
       "      <td>https://cdn1.ozone.ru/s3/multimedia-r/67002690...</td>\n",
       "      <td>Масло оливковое Urzante Light рафинированное, ...</td>\n",
       "      <td>Растительное масло</td>\n",
       "      <td></td>\n",
       "      <td></td>\n",
       "      <td>False</td>\n",
       "      <td>1</td>\n",
       "      <td>nan_False_1</td>\n",
       "      <td>Масло оливковое Urzante Light рафинированное, ...</td>\n",
       "    </tr>\n",
       "    <tr>\n",
       "      <th>2940012</th>\n",
       "      <td>https://cdn1.ozone.ru/multimedia/1026904772.jpg</td>\n",
       "      <td>Свитшот Reebok Cl A Crew</td>\n",
       "      <td>Оповещатель</td>\n",
       "      <td></td>\n",
       "      <td></td>\n",
       "      <td>False</td>\n",
       "      <td>0</td>\n",
       "      <td>nan_False_0</td>\n",
       "      <td>Свитшот Reebok Cl A Crew   Оповещатель</td>\n",
       "    </tr>\n",
       "    <tr>\n",
       "      <th>7671340</th>\n",
       "      <td>https://cdn1.ozone.ru/s3/multimedia-1-r/700080...</td>\n",
       "      <td>Клин съемник для снятия пластика в авто</td>\n",
       "      <td>Съемник</td>\n",
       "      <td></td>\n",
       "      <td></td>\n",
       "      <td>False</td>\n",
       "      <td>1</td>\n",
       "      <td>nan_False_1</td>\n",
       "      <td>Клин съемник для снятия пластика в авто   Съемник</td>\n",
       "    </tr>\n",
       "    <tr>\n",
       "      <th>795605</th>\n",
       "      <td>https://cdn1.ozone.ru/s3/multimedia-1-u/712028...</td>\n",
       "      <td>HXD Пыльник</td>\n",
       "      <td>Олимпийка</td>\n",
       "      <td></td>\n",
       "      <td></td>\n",
       "      <td>False</td>\n",
       "      <td>0</td>\n",
       "      <td>nan_False_0</td>\n",
       "      <td>HXD Пыльник   Олимпийка</td>\n",
       "    </tr>\n",
       "    <tr>\n",
       "      <th>...</th>\n",
       "      <td>...</td>\n",
       "      <td>...</td>\n",
       "      <td>...</td>\n",
       "      <td>...</td>\n",
       "      <td>...</td>\n",
       "      <td>...</td>\n",
       "      <td>...</td>\n",
       "      <td>...</td>\n",
       "      <td>...</td>\n",
       "    </tr>\n",
       "    <tr>\n",
       "      <th>800232</th>\n",
       "      <td>https://cdn1.ozone.ru/s3/multimedia-1-u/718199...</td>\n",
       "      <td>Щетка для ванны с мягкой щетиной и задней щетк...</td>\n",
       "      <td>Мочалка</td>\n",
       "      <td>Красота и гигиена</td>\n",
       "      <td>Мочалка</td>\n",
       "      <td>True</td>\n",
       "      <td>1</td>\n",
       "      <td>Красота и гигиена_True_1</td>\n",
       "      <td>Щетка для ванны с мягкой щетиной и задней щетк...</td>\n",
       "    </tr>\n",
       "    <tr>\n",
       "      <th>50897</th>\n",
       "      <td>https://cdn1.ozone.ru/s3/multimedia-i/63954101...</td>\n",
       "      <td>Матрас Lonax Latex Medium S1000 5 Zone 130х195...</td>\n",
       "      <td>Матрас</td>\n",
       "      <td>Мебель</td>\n",
       "      <td>Матрас</td>\n",
       "      <td>False</td>\n",
       "      <td>1</td>\n",
       "      <td>Мебель_False_1</td>\n",
       "      <td>Матрас Lonax Latex Medium S1000 5 Zone 130х195...</td>\n",
       "    </tr>\n",
       "    <tr>\n",
       "      <th>156898</th>\n",
       "      <td>https://cdn1.ozone.ru/s3/multimedia-1-u/720158...</td>\n",
       "      <td>Перкуссия</td>\n",
       "      <td>Барабаны для ударной установки</td>\n",
       "      <td>Музыкальные инструменты</td>\n",
       "      <td>Ударные инструменты</td>\n",
       "      <td>True</td>\n",
       "      <td>1</td>\n",
       "      <td>Музыкальные инструменты_True_1</td>\n",
       "      <td>Перкуссия Музыкальные инструменты Ударные инст...</td>\n",
       "    </tr>\n",
       "    <tr>\n",
       "      <th>14010</th>\n",
       "      <td>https://cdn1.ozone.ru/s3/multimedia-z/64170427...</td>\n",
       "      <td>Поилка для животных, 750 мл, крепление-пружинк...</td>\n",
       "      <td>Миска для животных</td>\n",
       "      <td>Товары для животных</td>\n",
       "      <td>Миска для животных</td>\n",
       "      <td>False</td>\n",
       "      <td>1</td>\n",
       "      <td>Товары для животных_False_1</td>\n",
       "      <td>Поилка для животных, 750 мл, крепление-пружинк...</td>\n",
       "    </tr>\n",
       "    <tr>\n",
       "      <th>724995</th>\n",
       "      <td>https://cdn1.ozone.ru/s3/multimedia-c/66909033...</td>\n",
       "      <td>Пульт ДУ для камер Panasonic, Canon, JVC, Sony</td>\n",
       "      <td>Bluetooth-кнопка</td>\n",
       "      <td></td>\n",
       "      <td></td>\n",
       "      <td>False</td>\n",
       "      <td>1</td>\n",
       "      <td>nan_False_1</td>\n",
       "      <td>Пульт ДУ для камер Panasonic, Canon, JVC, Sony...</td>\n",
       "    </tr>\n",
       "  </tbody>\n",
       "</table>\n",
       "<p>763013 rows × 9 columns</p>\n",
       "</div>"
      ],
      "text/plain": [
       "                                                main_photo  \\\n",
       "6762112  https://cdn1.ozone.ru/s3/multimedia-d/65647598...   \n",
       "2248350  https://cdn1.ozone.ru/s3/multimedia-r/67002690...   \n",
       "2940012    https://cdn1.ozone.ru/multimedia/1026904772.jpg   \n",
       "7671340  https://cdn1.ozone.ru/s3/multimedia-1-r/700080...   \n",
       "795605   https://cdn1.ozone.ru/s3/multimedia-1-u/712028...   \n",
       "...                                                    ...   \n",
       "800232   https://cdn1.ozone.ru/s3/multimedia-1-u/718199...   \n",
       "50897    https://cdn1.ozone.ru/s3/multimedia-i/63954101...   \n",
       "156898   https://cdn1.ozone.ru/s3/multimedia-1-u/720158...   \n",
       "14010    https://cdn1.ozone.ru/s3/multimedia-z/64170427...   \n",
       "724995   https://cdn1.ozone.ru/s3/multimedia-c/66909033...   \n",
       "\n",
       "                                                      name  \\\n",
       "6762112  Фильтр АКПП HYUNDAI GETZ 02-10/ELANTRA 1.8 00-...   \n",
       "2248350  Масло оливковое Urzante Light рафинированное, ...   \n",
       "2940012                           Свитшот Reebok Cl A Crew   \n",
       "7671340            Клин съемник для снятия пластика в авто   \n",
       "795605                                         HXD Пыльник   \n",
       "...                                                    ...   \n",
       "800232   Щетка для ванны с мягкой щетиной и задней щетк...   \n",
       "50897    Матрас Lonax Latex Medium S1000 5 Zone 130х195...   \n",
       "156898                                           Перкуссия   \n",
       "14010    Поилка для животных, 750 мл, крепление-пружинк...   \n",
       "724995      Пульт ДУ для камер Panasonic, Canon, JVC, Sony   \n",
       "\n",
       "                                      type              category_l2  \\\n",
       "6762112  Ремкомплект двигателя мототехники                            \n",
       "2248350                 Растительное масло                            \n",
       "2940012                        Оповещатель                            \n",
       "7671340                            Съемник                            \n",
       "795605                           Олимпийка                            \n",
       "...                                    ...                      ...   \n",
       "800232                             Мочалка        Красота и гигиена   \n",
       "50897                               Матрас                   Мебель   \n",
       "156898      Барабаны для ударной установки  Музыкальные инструменты   \n",
       "14010                   Миска для животных      Товары для животных   \n",
       "724995                    Bluetooth-кнопка                            \n",
       "\n",
       "                 category_l4  is_markup  target  \\\n",
       "6762112                           False       0   \n",
       "2248350                           False       1   \n",
       "2940012                           False       0   \n",
       "7671340                           False       1   \n",
       "795605                            False       0   \n",
       "...                      ...        ...     ...   \n",
       "800232               Мочалка       True       1   \n",
       "50897                 Матрас      False       1   \n",
       "156898   Ударные инструменты       True       1   \n",
       "14010     Миска для животных      False       1   \n",
       "724995                            False       1   \n",
       "\n",
       "                        stratify_column  \\\n",
       "6762112                     nan_False_0   \n",
       "2248350                     nan_False_1   \n",
       "2940012                     nan_False_0   \n",
       "7671340                     nan_False_1   \n",
       "795605                      nan_False_0   \n",
       "...                                 ...   \n",
       "800232         Красота и гигиена_True_1   \n",
       "50897                    Мебель_False_1   \n",
       "156898   Музыкальные инструменты_True_1   \n",
       "14010       Товары для животных_False_1   \n",
       "724995                      nan_False_1   \n",
       "\n",
       "                                                      data  \n",
       "6762112  Фильтр АКПП HYUNDAI GETZ 02-10/ELANTRA 1.8 00-...  \n",
       "2248350  Масло оливковое Urzante Light рафинированное, ...  \n",
       "2940012             Свитшот Reebok Cl A Crew   Оповещатель  \n",
       "7671340  Клин съемник для снятия пластика в авто   Съемник  \n",
       "795605                             HXD Пыльник   Олимпийка  \n",
       "...                                                    ...  \n",
       "800232   Щетка для ванны с мягкой щетиной и задней щетк...  \n",
       "50897    Матрас Lonax Latex Medium S1000 5 Zone 130х195...  \n",
       "156898   Перкуссия Музыкальные инструменты Ударные инст...  \n",
       "14010    Поилка для животных, 750 мл, крепление-пружинк...  \n",
       "724995   Пульт ДУ для камер Panasonic, Canon, JVC, Sony...  \n",
       "\n",
       "[763013 rows x 9 columns]"
      ]
     },
     "execution_count": 15,
     "metadata": {},
     "output_type": "execute_result"
    }
   ],
   "source": [
    "df_train['category_l2'] = df_train['category_l2'].fillna('')\n",
    "df_train['category_l4'] = df_train['category_l4'].fillna('')\n",
    "\n",
    "df_train['data'] = df_train['name'] + ' ' + df_train['category_l2'] + ' ' + df_train['category_l4'] + ' ' + df_train['type']\n",
    "df_train"
   ]
  },
  {
   "cell_type": "code",
   "execution_count": 16,
   "id": "f1d86acc",
   "metadata": {},
   "outputs": [
    {
     "data": {
      "text/plain": [
       "6762112    Фильтр АКПП HYUNDAI GETZ 02-10/ELANTRA 1.8 00-...\n",
       "2248350    Масло оливковое Urzante Light рафинированное, ...\n",
       "2940012               Свитшот Reebok Cl A Crew   Оповещатель\n",
       "7671340    Клин съемник для снятия пластика в авто   Съемник\n",
       "795605                               HXD Пыльник   Олимпийка\n",
       "Name: data, dtype: object"
      ]
     },
     "execution_count": 16,
     "metadata": {},
     "output_type": "execute_result"
    }
   ],
   "source": [
    "train_X=df_train['data']\n",
    "train_y = df_train['target']\n",
    "train_X.head()"
   ]
  },
  {
   "cell_type": "code",
   "execution_count": 17,
   "id": "91db0b3c",
   "metadata": {},
   "outputs": [
    {
     "data": {
      "text/html": [
       "<div>\n",
       "<style scoped>\n",
       "    .dataframe tbody tr th:only-of-type {\n",
       "        vertical-align: middle;\n",
       "    }\n",
       "\n",
       "    .dataframe tbody tr th {\n",
       "        vertical-align: top;\n",
       "    }\n",
       "\n",
       "    .dataframe thead th {\n",
       "        text-align: right;\n",
       "    }\n",
       "</style>\n",
       "<table border=\"1\" class=\"dataframe\">\n",
       "  <thead>\n",
       "    <tr style=\"text-align: right;\">\n",
       "      <th></th>\n",
       "      <th>main_photo</th>\n",
       "      <th>name</th>\n",
       "      <th>type</th>\n",
       "      <th>category_l2</th>\n",
       "      <th>category_l4</th>\n",
       "      <th>is_markup</th>\n",
       "      <th>target</th>\n",
       "      <th>stratify_column</th>\n",
       "      <th>data</th>\n",
       "    </tr>\n",
       "  </thead>\n",
       "  <tbody>\n",
       "    <tr>\n",
       "      <th>7809846</th>\n",
       "      <td>https://cdn1.ozone.ru/s3/multimedia-t/63327116...</td>\n",
       "      <td>Защитный кейс (бокс, чехол) для карт памяти SD...</td>\n",
       "      <td>Комплект фотоаксессуаров</td>\n",
       "      <td></td>\n",
       "      <td></td>\n",
       "      <td>False</td>\n",
       "      <td>1</td>\n",
       "      <td>nan_False_1</td>\n",
       "      <td>Защитный кейс (бокс, чехол) для карт памяти SD...</td>\n",
       "    </tr>\n",
       "    <tr>\n",
       "      <th>97704</th>\n",
       "      <td>https://cdn1.ozone.ru/s3/multimedia-1-h/714445...</td>\n",
       "      <td>Кружка латте керамическая большая для чая и ко...</td>\n",
       "      <td>Кружка</td>\n",
       "      <td>Дом и сад</td>\n",
       "      <td>Кружка</td>\n",
       "      <td>False</td>\n",
       "      <td>1</td>\n",
       "      <td>Дом и сад_False_1</td>\n",
       "      <td>Кружка латте керамическая большая для чая и ко...</td>\n",
       "    </tr>\n",
       "    <tr>\n",
       "      <th>446046</th>\n",
       "      <td>https://cdn1.ozone.ru/s3/multimedia-1-q/719594...</td>\n",
       "      <td>Угольник-переходник ROMMER ВПр-НР, 15х1_2, из ...</td>\n",
       "      <td>Удлинитель сантехнический</td>\n",
       "      <td>Строительство и ремонт</td>\n",
       "      <td>Фитинг сантехнический</td>\n",
       "      <td>True</td>\n",
       "      <td>1</td>\n",
       "      <td>Строительство и ремонт_True_1</td>\n",
       "      <td>Угольник-переходник ROMMER ВПр-НР, 15х1_2, из ...</td>\n",
       "    </tr>\n",
       "    <tr>\n",
       "      <th>511281</th>\n",
       "      <td>https://cdn1.ozone.ru/s3/multimedia-1-w/722827...</td>\n",
       "      <td>Интерьерная картина \"Кирпичи в руинах древней ...</td>\n",
       "      <td>Картина</td>\n",
       "      <td>Дом и сад</td>\n",
       "      <td>Картина</td>\n",
       "      <td>False</td>\n",
       "      <td>1</td>\n",
       "      <td>Дом и сад_False_1</td>\n",
       "      <td>Интерьерная картина \"Кирпичи в руинах древней ...</td>\n",
       "    </tr>\n",
       "    <tr>\n",
       "      <th>50527</th>\n",
       "      <td>https://cdn1.ozone.ru/s3/multimedia-1-3/696992...</td>\n",
       "      <td>Ножницы Волна , 9\", 23 см, шаг - 18 мм, цвет ч...</td>\n",
       "      <td>Пирог</td>\n",
       "      <td>Хобби и творчество</td>\n",
       "      <td>Набор для шитья одежды</td>\n",
       "      <td>True</td>\n",
       "      <td>0</td>\n",
       "      <td>Хобби и творчество_True_0</td>\n",
       "      <td>Ножницы Волна , 9\", 23 см, шаг - 18 мм, цвет ч...</td>\n",
       "    </tr>\n",
       "    <tr>\n",
       "      <th>...</th>\n",
       "      <td>...</td>\n",
       "      <td>...</td>\n",
       "      <td>...</td>\n",
       "      <td>...</td>\n",
       "      <td>...</td>\n",
       "      <td>...</td>\n",
       "      <td>...</td>\n",
       "      <td>...</td>\n",
       "      <td>...</td>\n",
       "    </tr>\n",
       "    <tr>\n",
       "      <th>4425963</th>\n",
       "      <td>https://cdn1.ozone.ru/s3/multimedia-1-9/731365...</td>\n",
       "      <td>Вынос регулируемый WAKE A820 31,8/90мм, под шт...</td>\n",
       "      <td>Подвес крепежный</td>\n",
       "      <td></td>\n",
       "      <td></td>\n",
       "      <td>False</td>\n",
       "      <td>0</td>\n",
       "      <td>nan_False_0</td>\n",
       "      <td>Вынос регулируемый WAKE A820 31,8/90мм, под шт...</td>\n",
       "    </tr>\n",
       "    <tr>\n",
       "      <th>317681</th>\n",
       "      <td>https://cdn1.ozone.ru/s3/multimedia-1-h/718082...</td>\n",
       "      <td>Футболка Tommy Jeans, белый, EU L</td>\n",
       "      <td>Поддон для цветов</td>\n",
       "      <td>Одежда</td>\n",
       "      <td>Футболка</td>\n",
       "      <td>True</td>\n",
       "      <td>0</td>\n",
       "      <td>Одежда_True_0</td>\n",
       "      <td>Футболка Tommy Jeans, белый, EU L Одежда Футбо...</td>\n",
       "    </tr>\n",
       "    <tr>\n",
       "      <th>837579</th>\n",
       "      <td>https://cdn1.ozone.ru/s3/multimedia-1-p/713402...</td>\n",
       "      <td>Насадка для электробритвы Braun 32B, сетка для...</td>\n",
       "      <td>Двигатель для мотоцикла</td>\n",
       "      <td>Бытовая техника</td>\n",
       "      <td>Аксессуары для электробритв</td>\n",
       "      <td>True</td>\n",
       "      <td>0</td>\n",
       "      <td>Бытовая техника_True_0</td>\n",
       "      <td>Насадка для электробритвы Braun 32B, сетка для...</td>\n",
       "    </tr>\n",
       "    <tr>\n",
       "      <th>2760178</th>\n",
       "      <td>https://cdn1.ozone.ru/multimedia/1026933676.jpg</td>\n",
       "      <td>Отвертка Harden \"Страйк\", ударная, PH1 x 100 мм</td>\n",
       "      <td>Электронная зажигалка</td>\n",
       "      <td></td>\n",
       "      <td></td>\n",
       "      <td>False</td>\n",
       "      <td>0</td>\n",
       "      <td>nan_False_0</td>\n",
       "      <td>Отвертка Harden \"Страйк\", ударная, PH1 x 100 м...</td>\n",
       "    </tr>\n",
       "    <tr>\n",
       "      <th>6192728</th>\n",
       "      <td>https://cdn1.ozone.ru/s3/multimedia-1-u/740497...</td>\n",
       "      <td>Спрей Mr.Fresh Expert приучение к месту для со...</td>\n",
       "      <td>Умный зонт</td>\n",
       "      <td></td>\n",
       "      <td></td>\n",
       "      <td>False</td>\n",
       "      <td>0</td>\n",
       "      <td>nan_False_0</td>\n",
       "      <td>Спрей Mr.Fresh Expert приучение к месту для со...</td>\n",
       "    </tr>\n",
       "  </tbody>\n",
       "</table>\n",
       "<p>190754 rows × 9 columns</p>\n",
       "</div>"
      ],
      "text/plain": [
       "                                                main_photo  \\\n",
       "7809846  https://cdn1.ozone.ru/s3/multimedia-t/63327116...   \n",
       "97704    https://cdn1.ozone.ru/s3/multimedia-1-h/714445...   \n",
       "446046   https://cdn1.ozone.ru/s3/multimedia-1-q/719594...   \n",
       "511281   https://cdn1.ozone.ru/s3/multimedia-1-w/722827...   \n",
       "50527    https://cdn1.ozone.ru/s3/multimedia-1-3/696992...   \n",
       "...                                                    ...   \n",
       "4425963  https://cdn1.ozone.ru/s3/multimedia-1-9/731365...   \n",
       "317681   https://cdn1.ozone.ru/s3/multimedia-1-h/718082...   \n",
       "837579   https://cdn1.ozone.ru/s3/multimedia-1-p/713402...   \n",
       "2760178    https://cdn1.ozone.ru/multimedia/1026933676.jpg   \n",
       "6192728  https://cdn1.ozone.ru/s3/multimedia-1-u/740497...   \n",
       "\n",
       "                                                      name  \\\n",
       "7809846  Защитный кейс (бокс, чехол) для карт памяти SD...   \n",
       "97704    Кружка латте керамическая большая для чая и ко...   \n",
       "446046   Угольник-переходник ROMMER ВПр-НР, 15х1_2, из ...   \n",
       "511281   Интерьерная картина \"Кирпичи в руинах древней ...   \n",
       "50527    Ножницы Волна , 9\", 23 см, шаг - 18 мм, цвет ч...   \n",
       "...                                                    ...   \n",
       "4425963  Вынос регулируемый WAKE A820 31,8/90мм, под шт...   \n",
       "317681                   Футболка Tommy Jeans, белый, EU L   \n",
       "837579   Насадка для электробритвы Braun 32B, сетка для...   \n",
       "2760178    Отвертка Harden \"Страйк\", ударная, PH1 x 100 мм   \n",
       "6192728  Спрей Mr.Fresh Expert приучение к месту для со...   \n",
       "\n",
       "                              type             category_l2  \\\n",
       "7809846   Комплект фотоаксессуаров                           \n",
       "97704                       Кружка               Дом и сад   \n",
       "446046   Удлинитель сантехнический  Строительство и ремонт   \n",
       "511281                     Картина               Дом и сад   \n",
       "50527                        Пирог      Хобби и творчество   \n",
       "...                            ...                     ...   \n",
       "4425963           Подвес крепежный                           \n",
       "317681           Поддон для цветов                  Одежда   \n",
       "837579     Двигатель для мотоцикла         Бытовая техника   \n",
       "2760178      Электронная зажигалка                           \n",
       "6192728                 Умный зонт                           \n",
       "\n",
       "                         category_l4  is_markup  target  \\\n",
       "7809846                                   False       1   \n",
       "97704                         Кружка      False       1   \n",
       "446046         Фитинг сантехнический       True       1   \n",
       "511281                       Картина      False       1   \n",
       "50527         Набор для шитья одежды       True       0   \n",
       "...                              ...        ...     ...   \n",
       "4425963                                   False       0   \n",
       "317681                      Футболка       True       0   \n",
       "837579   Аксессуары для электробритв       True       0   \n",
       "2760178                                   False       0   \n",
       "6192728                                   False       0   \n",
       "\n",
       "                       stratify_column  \\\n",
       "7809846                    nan_False_1   \n",
       "97704                Дом и сад_False_1   \n",
       "446046   Строительство и ремонт_True_1   \n",
       "511281               Дом и сад_False_1   \n",
       "50527        Хобби и творчество_True_0   \n",
       "...                                ...   \n",
       "4425963                    nan_False_0   \n",
       "317681                   Одежда_True_0   \n",
       "837579          Бытовая техника_True_0   \n",
       "2760178                    nan_False_0   \n",
       "6192728                    nan_False_0   \n",
       "\n",
       "                                                      data  \n",
       "7809846  Защитный кейс (бокс, чехол) для карт памяти SD...  \n",
       "97704    Кружка латте керамическая большая для чая и ко...  \n",
       "446046   Угольник-переходник ROMMER ВПр-НР, 15х1_2, из ...  \n",
       "511281   Интерьерная картина \"Кирпичи в руинах древней ...  \n",
       "50527    Ножницы Волна , 9\", 23 см, шаг - 18 мм, цвет ч...  \n",
       "...                                                    ...  \n",
       "4425963  Вынос регулируемый WAKE A820 31,8/90мм, под шт...  \n",
       "317681   Футболка Tommy Jeans, белый, EU L Одежда Футбо...  \n",
       "837579   Насадка для электробритвы Braun 32B, сетка для...  \n",
       "2760178  Отвертка Harden \"Страйк\", ударная, PH1 x 100 м...  \n",
       "6192728  Спрей Mr.Fresh Expert приучение к месту для со...  \n",
       "\n",
       "[190754 rows x 9 columns]"
      ]
     },
     "execution_count": 17,
     "metadata": {},
     "output_type": "execute_result"
    }
   ],
   "source": [
    "df_test['category_l2'] = df_test['category_l2'].fillna('')\n",
    "df_test['category_l4'] = df_test['category_l4'].fillna('')\n",
    "\n",
    "df_test['data'] = df_test['name'] + ' ' + df_test['category_l2'] + ' ' + df_test['category_l4'] + ' ' + df_test['type']\n",
    "df_test"
   ]
  },
  {
   "cell_type": "code",
   "execution_count": 18,
   "id": "65f27c3d",
   "metadata": {},
   "outputs": [
    {
     "data": {
      "text/plain": [
       "7809846    Защитный кейс (бокс, чехол) для карт памяти SD...\n",
       "97704      Кружка латте керамическая большая для чая и ко...\n",
       "446046     Угольник-переходник ROMMER ВПр-НР, 15х1_2, из ...\n",
       "511281     Интерьерная картина \"Кирпичи в руинах древней ...\n",
       "50527      Ножницы Волна , 9\", 23 см, шаг - 18 мм, цвет ч...\n",
       "Name: data, dtype: object"
      ]
     },
     "execution_count": 18,
     "metadata": {},
     "output_type": "execute_result"
    }
   ],
   "source": [
    "test_X= df_test['data']\n",
    "test_y = df_test['target']\n",
    "test_X.head()"
   ]
  },
  {
   "cell_type": "code",
   "execution_count": 19,
   "id": "6fb85461",
   "metadata": {},
   "outputs": [
    {
     "data": {
      "text/plain": [
       "6762112    0\n",
       "2248350    1\n",
       "2940012    0\n",
       "7671340    1\n",
       "795605     0\n",
       "Name: target, dtype: int64"
      ]
     },
     "execution_count": 19,
     "metadata": {},
     "output_type": "execute_result"
    }
   ],
   "source": [
    "train_y.head()"
   ]
  },
  {
   "cell_type": "code",
   "execution_count": 20,
   "id": "0cc4db2f",
   "metadata": {},
   "outputs": [
    {
     "data": {
      "text/plain": [
       "(763013,)"
      ]
     },
     "execution_count": 20,
     "metadata": {},
     "output_type": "execute_result"
    }
   ],
   "source": [
    "train_y.shape"
   ]
  },
  {
   "cell_type": "code",
   "execution_count": 21,
   "id": "815f1c90",
   "metadata": {},
   "outputs": [
    {
     "data": {
      "image/png": "[encoded data removed]",
      "text/plain": [
       "<Figure size 640x480 with 1 Axes>"
      ]
     },
     "metadata": {},
     "output_type": "display_data"
    }
   ],
   "source": [
    "plt.hist(train_y, bins=np.arange(0, 3))\n",
    "plt.title('Распределение меток в обучающей выборке');"
   ]
  },
  {
   "cell_type": "code",
   "execution_count": 22,
   "id": "68c2b3a8",
   "metadata": {},
   "outputs": [
    {
     "data": {
      "image/png": "[encoded data removed]",
      "text/plain": [
       "<Figure size 640x480 with 1 Axes>"
      ]
     },
     "metadata": {},
     "output_type": "display_data"
    }
   ],
   "source": [
    "plt.hist(test_y, bins=np.arange(0, 3))\n",
    "plt.title('Распределение меток в test выборке');"
   ]
  },
  {
   "cell_type": "code",
   "execution_count": 23,
   "id": "d2acda0c",
   "metadata": {},
   "outputs": [
    {
     "data": {
      "text/plain": [
       "['фильтр',\n",
       " 'акпп',\n",
       " 'hyundai',\n",
       " 'getz',\n",
       " '02-10/elantra',\n",
       " '1.8',\n",
       " '00-06/matrix',\n",
       " '1.6',\n",
       " '01-08/kia',\n",
       " 'rio',\n",
       " '1.4',\n",
       " '05-11/cerato',\n",
       " '1.6',\n",
       " '04-06',\n",
       " 'ремкомплект',\n",
       " 'двигателя',\n",
       " 'мототехники']"
      ]
     },
     "execution_count": 23,
     "metadata": {},
     "output_type": "execute_result"
    }
   ],
   "source": [
    "tt = tokenize(train_X.iloc[0])\n",
    "tt"
   ]
  },
  {
   "cell_type": "code",
   "execution_count": 24,
   "id": "5ec175ab",
   "metadata": {},
   "outputs": [
    {
     "data": {
      "text/plain": [
       "(763013, 382908)"
      ]
     },
     "execution_count": 24,
     "metadata": {},
     "output_type": "execute_result"
    }
   ],
   "source": [
    "v = TfidfVectorizer(tokenizer=tokenize)\n",
    "\n",
    "v_tr_X = v.fit_transform(train_X)\n",
    "\n",
    "v_tr_X.shape"
   ]
  },
  {
   "cell_type": "code",
   "execution_count": 25,
   "id": "4df161a5",
   "metadata": {},
   "outputs": [
    {
     "data": {
      "text/plain": [
       "array([0., 0., 0., ..., 0., 0., 0.])"
      ]
     },
     "execution_count": 25,
     "metadata": {},
     "output_type": "execute_result"
    }
   ],
   "source": [
    "v_tr_X[0].toarray()[0]"
   ]
  },
  {
   "cell_type": "code",
   "execution_count": 26,
   "id": "a2334736",
   "metadata": {},
   "outputs": [
    {
     "data": {
      "text/html": [
       "<style>#sk-container-id-1 {\n",
       "  /* Definition of color scheme common for light and dark mode */\n",
       "  --sklearn-color-text: #000;\n",
       "  --sklearn-color-text-muted: #666;\n",
       "  --sklearn-color-line: gray;\n",
       "  /* Definition of color scheme for unfitted estimators */\n",
       "  --sklearn-color-unfitted-level-0: #fff5e6;\n",
       "  --sklearn-color-unfitted-level-1: #f6e4d2;\n",
       "  --sklearn-color-unfitted-level-2: #ffe0b3;\n",
       "  --sklearn-color-unfitted-level-3: chocolate;\n",
       "  /* Definition of color scheme for fitted estimators */\n",
       "  --sklearn-color-fitted-level-0: #f0f8ff;\n",
       "  --sklearn-color-fitted-level-1: #d4ebff;\n",
       "  --sklearn-color-fitted-level-2: #b3dbfd;\n",
       "  --sklearn-color-fitted-level-3: cornflowerblue;\n",
       "\n",
       "  /* Specific color for light theme */\n",
       "  --sklearn-color-text-on-default-background: var(--sg-text-color, var(--theme-code-foreground, var(--jp-content-font-color1, black)));\n",
       "  --sklearn-color-background: var(--sg-background-color, var(--theme-background, var(--jp-layout-color0, white)));\n",
       "  --sklearn-color-border-box: var(--sg-text-color, var(--theme-code-foreground, var(--jp-content-font-color1, black)));\n",
       "  --sklearn-color-icon: #696969;\n",
       "\n",
       "  @media (prefers-color-scheme: dark) {\n",
       "    /* Redefinition of color scheme for dark theme */\n",
       "    --sklearn-color-text-on-default-background: var(--sg-text-color, var(--theme-code-foreground, var(--jp-content-font-color1, white)));\n",
       "    --sklearn-color-background: var(--sg-background-color, var(--theme-background, var(--jp-layout-color0, #111)));\n",
       "    --sklearn-color-border-box: var(--sg-text-color, var(--theme-code-foreground, var(--jp-content-font-color1, white)));\n",
       "    --sklearn-color-icon: #878787;\n",
       "  }\n",
       "}\n",
       "\n",
       "#sk-container-id-1 {\n",
       "  color: var(--sklearn-color-text);\n",
       "}\n",
       "\n",
       "#sk-container-id-1 pre {\n",
       "  padding: 0;\n",
       "}\n",
       "\n",
       "#sk-container-id-1 input.sk-hidden--visually {\n",
       "  border: 0;\n",
       "  clip: rect(1px 1px 1px 1px);\n",
       "  clip: rect(1px, 1px, 1px, 1px);\n",
       "  height: 1px;\n",
       "  margin: -1px;\n",
       "  overflow: hidden;\n",
       "  padding: 0;\n",
       "  position: absolute;\n",
       "  width: 1px;\n",
       "}\n",
       "\n",
       "#sk-container-id-1 div.sk-dashed-wrapped {\n",
       "  border: 1px dashed var(--sklearn-color-line);\n",
       "  margin: 0 0.4em 0.5em 0.4em;\n",
       "  box-sizing: border-box;\n",
       "  padding-bottom: 0.4em;\n",
       "  background-color: var(--sklearn-color-background);\n",
       "}\n",
       "\n",
       "#sk-container-id-1 div.sk-container {\n",
       "  /* jupyter's `normalize.less` sets `[hidden] { display: none; }`\n",
       "     but bootstrap.min.css set `[hidden] { display: none !important; }`\n",
       "     so we also need the `!important` here to be able to override the\n",
       "     default hidden behavior on the sphinx rendered scikit-learn.org.\n",
       "     See: https://github.com/scikit-learn/scikit-learn/issues/21755 */\n",
       "  display: inline-block !important;\n",
       "  position: relative;\n",
       "}\n",
       "\n",
       "#sk-container-id-1 div.sk-text-repr-fallback {\n",
       "  display: none;\n",
       "}\n",
       "\n",
       "div.sk-parallel-item,\n",
       "div.sk-serial,\n",
       "div.sk-item {\n",
       "  /* draw centered vertical line to link estimators */\n",
       "  background-image: linear-gradient(var(--sklearn-color-text-on-default-background), var(--sklearn-color-text-on-default-background));\n",
       "  background-size: 2px 100%;\n",
       "  background-repeat: no-repeat;\n",
       "  background-position: center center;\n",
       "}\n",
       "\n",
       "/* Parallel-specific style estimator block */\n",
       "\n",
       "#sk-container-id-1 div.sk-parallel-item::after {\n",
       "  content: \"\";\n",
       "  width: 100%;\n",
       "  border-bottom: 2px solid var(--sklearn-color-text-on-default-background);\n",
       "  flex-grow: 1;\n",
       "}\n",
       "\n",
       "#sk-container-id-1 div.sk-parallel {\n",
       "  display: flex;\n",
       "  align-items: stretch;\n",
       "  justify-content: center;\n",
       "  background-color: var(--sklearn-color-background);\n",
       "  position: relative;\n",
       "}\n",
       "\n",
       "#sk-container-id-1 div.sk-parallel-item {\n",
       "  display: flex;\n",
       "  flex-direction: column;\n",
       "}\n",
       "\n",
       "#sk-container-id-1 div.sk-parallel-item:first-child::after {\n",
       "  align-self: flex-end;\n",
       "  width: 50%;\n",
       "}\n",
       "\n",
       "#sk-container-id-1 div.sk-parallel-item:last-child::after {\n",
       "  align-self: flex-start;\n",
       "  width: 50%;\n",
       "}\n",
       "\n",
       "#sk-container-id-1 div.sk-parallel-item:only-child::after {\n",
       "  width: 0;\n",
       "}\n",
       "\n",
       "/* Serial-specific style estimator block */\n",
       "\n",
       "#sk-container-id-1 div.sk-serial {\n",
       "  display: flex;\n",
       "  flex-direction: column;\n",
       "  align-items: center;\n",
       "  background-color: var(--sklearn-color-background);\n",
       "  padding-right: 1em;\n",
       "  padding-left: 1em;\n",
       "}\n",
       "\n",
       "\n",
       "/* Toggleable style: style used for estimator/Pipeline/ColumnTransformer box that is\n",
       "clickable and can be expanded/collapsed.\n",
       "- Pipeline and ColumnTransformer use this feature and define the default style\n",
       "- Estimators will overwrite some part of the style using the `sk-estimator` class\n",
       "*/\n",
       "\n",
       "/* Pipeline and ColumnTransformer style (default) */\n",
       "\n",
       "#sk-container-id-1 div.sk-toggleable {\n",
       "  /* Default theme specific background. It is overwritten whether we have a\n",
       "  specific estimator or a Pipeline/ColumnTransformer */\n",
       "  background-color: var(--sklearn-color-background);\n",
       "}\n",
       "\n",
       "/* Toggleable label */\n",
       "#sk-container-id-1 label.sk-toggleable__label {\n",
       "  cursor: pointer;\n",
       "  display: flex;\n",
       "  width: 100%;\n",
       "  margin-bottom: 0;\n",
       "  padding: 0.5em;\n",
       "  box-sizing: border-box;\n",
       "  text-align: center;\n",
       "  align-items: start;\n",
       "  justify-content: space-between;\n",
       "  gap: 0.5em;\n",
       "}\n",
       "\n",
       "#sk-container-id-1 label.sk-toggleable__label .caption {\n",
       "  font-size: 0.6rem;\n",
       "  font-weight: lighter;\n",
       "  color: var(--sklearn-color-text-muted);\n",
       "}\n",
       "\n",
       "#sk-container-id-1 label.sk-toggleable__label-arrow:before {\n",
       "  /* Arrow on the left of the label */\n",
       "  content: \"▸\";\n",
       "  float: left;\n",
       "  margin-right: 0.25em;\n",
       "  color: var(--sklearn-color-icon);\n",
       "}\n",
       "\n",
       "#sk-container-id-1 label.sk-toggleable__label-arrow:hover:before {\n",
       "  color: var(--sklearn-color-text);\n",
       "}\n",
       "\n",
       "/* Toggleable content - dropdown */\n",
       "\n",
       "#sk-container-id-1 div.sk-toggleable__content {\n",
       "  max-height: 0;\n",
       "  max-width: 0;\n",
       "  overflow: hidden;\n",
       "  text-align: left;\n",
       "  /* unfitted */\n",
       "  background-color: var(--sklearn-color-unfitted-level-0);\n",
       "}\n",
       "\n",
       "#sk-container-id-1 div.sk-toggleable__content.fitted {\n",
       "  /* fitted */\n",
       "  background-color: var(--sklearn-color-fitted-level-0);\n",
       "}\n",
       "\n",
       "#sk-container-id-1 div.sk-toggleable__content pre {\n",
       "  margin: 0.2em;\n",
       "  border-radius: 0.25em;\n",
       "  color: var(--sklearn-color-text);\n",
       "  /* unfitted */\n",
       "  background-color: var(--sklearn-color-unfitted-level-0);\n",
       "}\n",
       "\n",
       "#sk-container-id-1 div.sk-toggleable__content.fitted pre {\n",
       "  /* unfitted */\n",
       "  background-color: var(--sklearn-color-fitted-level-0);\n",
       "}\n",
       "\n",
       "#sk-container-id-1 input.sk-toggleable__control:checked~div.sk-toggleable__content {\n",
       "  /* Expand drop-down */\n",
       "  max-height: 200px;\n",
       "  max-width: 100%;\n",
       "  overflow: auto;\n",
       "}\n",
       "\n",
       "#sk-container-id-1 input.sk-toggleable__control:checked~label.sk-toggleable__label-arrow:before {\n",
       "  content: \"▾\";\n",
       "}\n",
       "\n",
       "/* Pipeline/ColumnTransformer-specific style */\n",
       "\n",
       "#sk-container-id-1 div.sk-label input.sk-toggleable__control:checked~label.sk-toggleable__label {\n",
       "  color: var(--sklearn-color-text);\n",
       "  background-color: var(--sklearn-color-unfitted-level-2);\n",
       "}\n",
       "\n",
       "#sk-container-id-1 div.sk-label.fitted input.sk-toggleable__control:checked~label.sk-toggleable__label {\n",
       "  background-color: var(--sklearn-color-fitted-level-2);\n",
       "}\n",
       "\n",
       "/* Estimator-specific style */\n",
       "\n",
       "/* Colorize estimator box */\n",
       "#sk-container-id-1 div.sk-estimator input.sk-toggleable__control:checked~label.sk-toggleable__label {\n",
       "  /* unfitted */\n",
       "  background-color: var(--sklearn-color-unfitted-level-2);\n",
       "}\n",
       "\n",
       "#sk-container-id-1 div.sk-estimator.fitted input.sk-toggleable__control:checked~label.sk-toggleable__label {\n",
       "  /* fitted */\n",
       "  background-color: var(--sklearn-color-fitted-level-2);\n",
       "}\n",
       "\n",
       "#sk-container-id-1 div.sk-label label.sk-toggleable__label,\n",
       "#sk-container-id-1 div.sk-label label {\n",
       "  /* The background is the default theme color */\n",
       "  color: var(--sklearn-color-text-on-default-background);\n",
       "}\n",
       "\n",
       "/* On hover, darken the color of the background */\n",
       "#sk-container-id-1 div.sk-label:hover label.sk-toggleable__label {\n",
       "  color: var(--sklearn-color-text);\n",
       "  background-color: var(--sklearn-color-unfitted-level-2);\n",
       "}\n",
       "\n",
       "/* Label box, darken color on hover, fitted */\n",
       "#sk-container-id-1 div.sk-label.fitted:hover label.sk-toggleable__label.fitted {\n",
       "  color: var(--sklearn-color-text);\n",
       "  background-color: var(--sklearn-color-fitted-level-2);\n",
       "}\n",
       "\n",
       "/* Estimator label */\n",
       "\n",
       "#sk-container-id-1 div.sk-label label {\n",
       "  font-family: monospace;\n",
       "  font-weight: bold;\n",
       "  display: inline-block;\n",
       "  line-height: 1.2em;\n",
       "}\n",
       "\n",
       "#sk-container-id-1 div.sk-label-container {\n",
       "  text-align: center;\n",
       "}\n",
       "\n",
       "/* Estimator-specific */\n",
       "#sk-container-id-1 div.sk-estimator {\n",
       "  font-family: monospace;\n",
       "  border: 1px dotted var(--sklearn-color-border-box);\n",
       "  border-radius: 0.25em;\n",
       "  box-sizing: border-box;\n",
       "  margin-bottom: 0.5em;\n",
       "  /* unfitted */\n",
       "  background-color: var(--sklearn-color-unfitted-level-0);\n",
       "}\n",
       "\n",
       "#sk-container-id-1 div.sk-estimator.fitted {\n",
       "  /* fitted */\n",
       "  background-color: var(--sklearn-color-fitted-level-0);\n",
       "}\n",
       "\n",
       "/* on hover */\n",
       "#sk-container-id-1 div.sk-estimator:hover {\n",
       "  /* unfitted */\n",
       "  background-color: var(--sklearn-color-unfitted-level-2);\n",
       "}\n",
       "\n",
       "#sk-container-id-1 div.sk-estimator.fitted:hover {\n",
       "  /* fitted */\n",
       "  background-color: var(--sklearn-color-fitted-level-2);\n",
       "}\n",
       "\n",
       "/* Specification for estimator info (e.g. \"i\" and \"?\") */\n",
       "\n",
       "/* Common style for \"i\" and \"?\" */\n",
       "\n",
       ".sk-estimator-doc-link,\n",
       "a:link.sk-estimator-doc-link,\n",
       "a:visited.sk-estimator-doc-link {\n",
       "  float: right;\n",
       "  font-size: smaller;\n",
       "  line-height: 1em;\n",
       "  font-family: monospace;\n",
       "  background-color: var(--sklearn-color-background);\n",
       "  border-radius: 1em;\n",
       "  height: 1em;\n",
       "  width: 1em;\n",
       "  text-decoration: none !important;\n",
       "  margin-left: 0.5em;\n",
       "  text-align: center;\n",
       "  /* unfitted */\n",
       "  border: var(--sklearn-color-unfitted-level-1) 1pt solid;\n",
       "  color: var(--sklearn-color-unfitted-level-1);\n",
       "}\n",
       "\n",
       ".sk-estimator-doc-link.fitted,\n",
       "a:link.sk-estimator-doc-link.fitted,\n",
       "a:visited.sk-estimator-doc-link.fitted {\n",
       "  /* fitted */\n",
       "  border: var(--sklearn-color-fitted-level-1) 1pt solid;\n",
       "  color: var(--sklearn-color-fitted-level-1);\n",
       "}\n",
       "\n",
       "/* On hover */\n",
       "div.sk-estimator:hover .sk-estimator-doc-link:hover,\n",
       ".sk-estimator-doc-link:hover,\n",
       "div.sk-label-container:hover .sk-estimator-doc-link:hover,\n",
       ".sk-estimator-doc-link:hover {\n",
       "  /* unfitted */\n",
       "  background-color: var(--sklearn-color-unfitted-level-3);\n",
       "  color: var(--sklearn-color-background);\n",
       "  text-decoration: none;\n",
       "}\n",
       "\n",
       "div.sk-estimator.fitted:hover .sk-estimator-doc-link.fitted:hover,\n",
       ".sk-estimator-doc-link.fitted:hover,\n",
       "div.sk-label-container:hover .sk-estimator-doc-link.fitted:hover,\n",
       ".sk-estimator-doc-link.fitted:hover {\n",
       "  /* fitted */\n",
       "  background-color: var(--sklearn-color-fitted-level-3);\n",
       "  color: var(--sklearn-color-background);\n",
       "  text-decoration: none;\n",
       "}\n",
       "\n",
       "/* Span, style for the box shown on hovering the info icon */\n",
       ".sk-estimator-doc-link span {\n",
       "  display: none;\n",
       "  z-index: 9999;\n",
       "  position: relative;\n",
       "  font-weight: normal;\n",
       "  right: .2ex;\n",
       "  padding: .5ex;\n",
       "  margin: .5ex;\n",
       "  width: min-content;\n",
       "  min-width: 20ex;\n",
       "  max-width: 50ex;\n",
       "  color: var(--sklearn-color-text);\n",
       "  box-shadow: 2pt 2pt 4pt #999;\n",
       "  /* unfitted */\n",
       "  background: var(--sklearn-color-unfitted-level-0);\n",
       "  border: .5pt solid var(--sklearn-color-unfitted-level-3);\n",
       "}\n",
       "\n",
       ".sk-estimator-doc-link.fitted span {\n",
       "  /* fitted */\n",
       "  background: var(--sklearn-color-fitted-level-0);\n",
       "  border: var(--sklearn-color-fitted-level-3);\n",
       "}\n",
       "\n",
       ".sk-estimator-doc-link:hover span {\n",
       "  display: block;\n",
       "}\n",
       "\n",
       "/* \"?\"-specific style due to the `<a>` HTML tag */\n",
       "\n",
       "#sk-container-id-1 a.estimator_doc_link {\n",
       "  float: right;\n",
       "  font-size: 1rem;\n",
       "  line-height: 1em;\n",
       "  font-family: monospace;\n",
       "  background-color: var(--sklearn-color-background);\n",
       "  border-radius: 1rem;\n",
       "  height: 1rem;\n",
       "  width: 1rem;\n",
       "  text-decoration: none;\n",
       "  /* unfitted */\n",
       "  color: var(--sklearn-color-unfitted-level-1);\n",
       "  border: var(--sklearn-color-unfitted-level-1) 1pt solid;\n",
       "}\n",
       "\n",
       "#sk-container-id-1 a.estimator_doc_link.fitted {\n",
       "  /* fitted */\n",
       "  border: var(--sklearn-color-fitted-level-1) 1pt solid;\n",
       "  color: var(--sklearn-color-fitted-level-1);\n",
       "}\n",
       "\n",
       "/* On hover */\n",
       "#sk-container-id-1 a.estimator_doc_link:hover {\n",
       "  /* unfitted */\n",
       "  background-color: var(--sklearn-color-unfitted-level-3);\n",
       "  color: var(--sklearn-color-background);\n",
       "  text-decoration: none;\n",
       "}\n",
       "\n",
       "#sk-container-id-1 a.estimator_doc_link.fitted:hover {\n",
       "  /* fitted */\n",
       "  background-color: var(--sklearn-color-fitted-level-3);\n",
       "}\n",
       "</style><div id=\"sk-container-id-1\" class=\"sk-top-container\"><div class=\"sk-text-repr-fallback\"><pre>Pipeline(steps=[(&#x27;vect&#x27;,\n",
       "                 TfidfVectorizer(max_df=0.9,\n",
       "                                 tokenizer=&lt;function tokenize at 0x176f04040&gt;)),\n",
       "                (&#x27;cls&#x27;, LogisticRegression(max_iter=150))])</pre><b>In a Jupyter environment, please rerun this cell to show the HTML representation or trust the notebook. <br />On GitHub, the HTML representation is unable to render, please try loading this page with nbviewer.org.</b></div><div class=\"sk-container\" hidden><div class=\"sk-item sk-dashed-wrapped\"><div class=\"sk-label-container\"><div class=\"sk-label fitted sk-toggleable\"><input class=\"sk-toggleable__control sk-hidden--visually\" id=\"sk-estimator-id-1\" type=\"checkbox\" ><label for=\"sk-estimator-id-1\" class=\"sk-toggleable__label fitted sk-toggleable__label-arrow\"><div><div>Pipeline</div></div><div><a class=\"sk-estimator-doc-link fitted\" rel=\"noreferrer\" target=\"_blank\" href=\"https://scikit-learn.org/1.6/modules/generated/sklearn.pipeline.Pipeline.html\">?<span>Documentation for Pipeline</span></a><span class=\"sk-estimator-doc-link fitted\">i<span>Fitted</span></span></div></label><div class=\"sk-toggleable__content fitted\"><pre>Pipeline(steps=[(&#x27;vect&#x27;,\n",
       "                 TfidfVectorizer(max_df=0.9,\n",
       "                                 tokenizer=&lt;function tokenize at 0x176f04040&gt;)),\n",
       "                (&#x27;cls&#x27;, LogisticRegression(max_iter=150))])</pre></div> </div></div><div class=\"sk-serial\"><div class=\"sk-item\"><div class=\"sk-estimator fitted sk-toggleable\"><input class=\"sk-toggleable__control sk-hidden--visually\" id=\"sk-estimator-id-2\" type=\"checkbox\" ><label for=\"sk-estimator-id-2\" class=\"sk-toggleable__label fitted sk-toggleable__label-arrow\"><div><div>TfidfVectorizer</div></div><div><a class=\"sk-estimator-doc-link fitted\" rel=\"noreferrer\" target=\"_blank\" href=\"https://scikit-learn.org/1.6/modules/generated/sklearn.feature_extraction.text.TfidfVectorizer.html\">?<span>Documentation for TfidfVectorizer</span></a></div></label><div class=\"sk-toggleable__content fitted\"><pre>TfidfVectorizer(max_df=0.9, tokenizer=&lt;function tokenize at 0x176f04040&gt;)</pre></div> </div></div><div class=\"sk-item\"><div class=\"sk-estimator fitted sk-toggleable\"><input class=\"sk-toggleable__control sk-hidden--visually\" id=\"sk-estimator-id-3\" type=\"checkbox\" ><label for=\"sk-estimator-id-3\" class=\"sk-toggleable__label fitted sk-toggleable__label-arrow\"><div><div>LogisticRegression</div></div><div><a class=\"sk-estimator-doc-link fitted\" rel=\"noreferrer\" target=\"_blank\" href=\"https://scikit-learn.org/1.6/modules/generated/sklearn.linear_model.LogisticRegression.html\">?<span>Documentation for LogisticRegression</span></a></div></label><div class=\"sk-toggleable__content fitted\"><pre>LogisticRegression(max_iter=150)</pre></div> </div></div></div></div></div></div>"
      ],
      "text/plain": [
       "Pipeline(steps=[('vect',\n",
       "                 TfidfVectorizer(max_df=0.9,\n",
       "                                 tokenizer=<function tokenize at 0x176f04040>)),\n",
       "                ('cls', LogisticRegression(max_iter=150))])"
      ]
     },
     "execution_count": 26,
     "metadata": {},
     "output_type": "execute_result"
    }
   ],
   "source": [
    "MAX_DF = 0.9\n",
    "MIN_COUNT = 1\n",
    "\n",
    "target_pipeline = Pipeline((('vect', TfidfVectorizer(tokenizer=tokenize,\n",
    "                                                      max_df=MAX_DF,\n",
    "                                                      min_df=MIN_COUNT)),\n",
    "                             ('cls', LogisticRegression(max_iter=150))))\n",
    "target_pipeline.fit(train_X, train_y)"
   ]
  },
  {
   "cell_type": "code",
   "execution_count": 27,
   "id": "8fa3fff4",
   "metadata": {},
   "outputs": [
    {
     "name": "stdout",
     "output_type": "stream",
     "text": [
      "Среднее значение функции потерь на обучении 0.5241051692052991\n",
      "Среднее значение функции потерь на валидации 0.5366715103892162\n"
     ]
    }
   ],
   "source": [
    "target_train_pred = target_pipeline.predict_proba(train_X)\n",
    "target_test_pred = target_pipeline.predict_proba(test_X)\n",
    "\n",
    "train_loss = F.cross_entropy(torch.from_numpy(target_train_pred), torch.tensor(train_y.values))\n",
    "print('Среднее значение функции потерь на обучении', float(train_loss))\n",
    "\n",
    "test_loss = F.cross_entropy(torch.from_numpy(target_test_pred), torch.tensor(test_y.values))\n",
    "print('Среднее значение функции потерь на валидации', float(test_loss))"
   ]
  },
  {
   "cell_type": "code",
   "execution_count": 28,
   "id": "226f1b37",
   "metadata": {},
   "outputs": [
    {
     "name": "stdout",
     "output_type": "stream",
     "text": [
      "Доля верных ответов 0.8129193080589715\n",
      "\n",
      "Доля верных ответов 0.7871918806420836\n"
     ]
    }
   ],
   "source": [
    "print('Доля верных ответов', accuracy_score(train_y, target_train_pred.argmax(-1)))\n",
    "print()\n",
    "\n",
    "print('Доля верных ответов', accuracy_score(test_y, target_test_pred.argmax(-1)))"
   ]
  },
  {
   "cell_type": "markdown",
   "id": "afa3145f",
   "metadata": {},
   "source": [
    "https://scikit-learn.org/stable/modules/generated/sklearn.metrics.f1_score.html\n",
    "\n",
    "average{‘micro’, ‘macro’, ‘samples’, ‘weighted’, ‘binary’} or None, default=’binary’\n",
    "This parameter is required for multiclass/multilabel targets. If None, the metrics for each class are returned. Otherwise, this determines the type of averaging performed on the data:\n",
    "\n",
    "'binary'\n",
    ":\n",
    "Only report results for the class specified by pos_label. This is applicable only if targets (y_{true,pred}) are binary.\n",
    "\n",
    "'micro'\n",
    ":\n",
    "Calculate metrics globally by counting the total true positives, false negatives and false positives.\n",
    "\n",
    "'macro'\n",
    ":\n",
    "Calculate metrics for each label, and find their unweighted mean. This does not take label imbalance into account.\n",
    "\n",
    "'weighted'\n",
    ":\n",
    "Calculate metrics for each label, and find their average weighted by support (the number of true instances for each label). This alters ‘macro’ to account for label imbalance; it can result in an F-score that is not between precision and recall.\n",
    "\n",
    "'samples'\n",
    ":\n",
    "Calculate metrics for each instance, and find their average (only meaningful for multilabel classification where this differs from accuracy_score)."
   ]
  },
  {
   "cell_type": "code",
   "execution_count": 29,
   "id": "ae402338",
   "metadata": {},
   "outputs": [
    {
     "name": "stdout",
     "output_type": "stream",
     "text": [
      "f1_score 0.795383753115938\n",
      "\n",
      "f1_score 0.7666314070871755\n"
     ]
    }
   ],
   "source": [
    "print('f1_score', f1_score(train_y, target_train_pred.argmax(-1)))\n",
    "print()\n",
    "\n",
    "print('f1_score', f1_score(test_y, target_test_pred.argmax(-1)))"
   ]
  },
  {
   "cell_type": "markdown",
   "id": "f5d2a6bc",
   "metadata": {},
   "source": [
    "https://scikit-learn.org/stable/modules/generated/sklearn.metrics.roc_auc_score.html\n",
    "\n",
    "average{‘micro’, ‘macro’, ‘samples’, ‘weighted’} or None, default=’macro’\n",
    "If None, the scores for each class are returned. Otherwise, this determines the type of averaging performed on the data. Note: multiclass ROC AUC currently only handles the ‘macro’ and ‘weighted’ averages. For multiclass targets, average=None is only implemented for multi_class='ovr' and average='micro' is only implemented for multi_class='ovr'.\n",
    "\n",
    "'micro'\n",
    ":\n",
    "Calculate metrics globally by considering each element of the label indicator matrix as a label.\n",
    "\n",
    "'macro'\n",
    ":\n",
    "Calculate metrics for each label, and find their unweighted mean. This does not take label imbalance into account.\n",
    "\n",
    "'weighted'\n",
    ":\n",
    "Calculate metrics for each label, and find their average, weighted by support (the number of true instances for each label).\n",
    "\n",
    "'samples'\n",
    ":\n",
    "Calculate metrics for each instance, and find their average.\n",
    "\n",
    "Will be ignored when y_true is binary.\n",
    "\n",
    "\n",
    "multi_class{‘raise’, ‘ovr’, ‘ovo’}, default=’raise’\n",
    "Only used for multiclass targets. Determines the type of configuration to use. The default value raises an error, so either 'ovr' or 'ovo' must be passed explicitly.\n",
    "\n",
    "'ovr'\n",
    ":\n",
    "Stands for One-vs-rest. Computes the AUC of each class against the rest [3] [4]. This treats the multiclass case in the same way as the multilabel case. Sensitive to class imbalance even when average == 'macro', because class imbalance affects the composition of each of the ‘rest’ groupings.\n",
    "\n",
    "'ovo'\n",
    ":\n",
    "Stands for One-vs-one. Computes the average AUC of all possible pairwise combinations of classes [5]. Insensitive to class imbalance when average == 'macro'."
   ]
  },
  {
   "cell_type": "code",
   "execution_count": 30,
   "id": "590f9d3c",
   "metadata": {},
   "outputs": [
    {
     "name": "stdout",
     "output_type": "stream",
     "text": [
      "roc_auc_score 0.8134905000857244\n",
      "\n",
      "roc_auc_score 0.787777297067979\n"
     ]
    }
   ],
   "source": [
    "print('roc_auc_score', roc_auc_score(train_y, target_train_pred.argmax(-1)))\n",
    "print()\n",
    "\n",
    "print('roc_auc_score', roc_auc_score(test_y, target_test_pred.argmax(-1)))"
   ]
  },
  {
   "cell_type": "code",
   "execution_count": 31,
   "id": "9cec6477",
   "metadata": {},
   "outputs": [
    {
     "data": {
      "image/png": "[encoded data removed]",
      "text/plain": [
       "<Figure size 640x480 with 1 Axes>"
      ]
     },
     "metadata": {},
     "output_type": "display_data"
    }
   ],
   "source": [
    "fpr, tpr, _ = roc_curve(test_y, target_test_pred[:, 1])\n",
    "roc_display = RocCurveDisplay(fpr=fpr, tpr=tpr).plot()"
   ]
  },
  {
   "cell_type": "markdown",
   "id": "faaa6651",
   "metadata": {},
   "source": [
    "Tests"
   ]
  },
  {
   "cell_type": "code",
   "execution_count": 32,
   "id": "2f9f8099",
   "metadata": {},
   "outputs": [
    {
     "data": {
      "text/html": [
       "<div>\n",
       "<style scoped>\n",
       "    .dataframe tbody tr th:only-of-type {\n",
       "        vertical-align: middle;\n",
       "    }\n",
       "\n",
       "    .dataframe tbody tr th {\n",
       "        vertical-align: top;\n",
       "    }\n",
       "\n",
       "    .dataframe thead th {\n",
       "        text-align: right;\n",
       "    }\n",
       "</style>\n",
       "<table border=\"1\" class=\"dataframe\">\n",
       "  <thead>\n",
       "    <tr style=\"text-align: right;\">\n",
       "      <th></th>\n",
       "      <th>main_photo</th>\n",
       "      <th>name</th>\n",
       "      <th>type</th>\n",
       "      <th>category_l2</th>\n",
       "      <th>category_l4</th>\n",
       "      <th>is_markup</th>\n",
       "      <th>target</th>\n",
       "      <th>stratify_column</th>\n",
       "      <th>data</th>\n",
       "    </tr>\n",
       "  </thead>\n",
       "  <tbody>\n",
       "    <tr>\n",
       "      <th>7809846</th>\n",
       "      <td>https://cdn1.ozone.ru/s3/multimedia-t/63327116...</td>\n",
       "      <td>Защитный кейс (бокс, чехол) для карт памяти SD...</td>\n",
       "      <td>Комплект фотоаксессуаров</td>\n",
       "      <td></td>\n",
       "      <td></td>\n",
       "      <td>False</td>\n",
       "      <td>1</td>\n",
       "      <td>nan_False_1</td>\n",
       "      <td>Защитный кейс (бокс, чехол) для карт памяти SD...</td>\n",
       "    </tr>\n",
       "  </tbody>\n",
       "</table>\n",
       "</div>"
      ],
      "text/plain": [
       "                                                main_photo  \\\n",
       "7809846  https://cdn1.ozone.ru/s3/multimedia-t/63327116...   \n",
       "\n",
       "                                                      name  \\\n",
       "7809846  Защитный кейс (бокс, чехол) для карт памяти SD...   \n",
       "\n",
       "                             type category_l2 category_l4  is_markup  target  \\\n",
       "7809846  Комплект фотоаксессуаров                              False       1   \n",
       "\n",
       "        stratify_column                                               data  \n",
       "7809846     nan_False_1  Защитный кейс (бокс, чехол) для карт памяти SD...  "
      ]
     },
     "execution_count": 32,
     "metadata": {},
     "output_type": "execute_result"
    }
   ],
   "source": [
    "df_test[df_test['target'] == 1].head(1)"
   ]
  },
  {
   "cell_type": "code",
   "execution_count": 33,
   "id": "e703ae94",
   "metadata": {},
   "outputs": [
    {
     "data": {
      "text/html": [
       "<div>\n",
       "<style scoped>\n",
       "    .dataframe tbody tr th:only-of-type {\n",
       "        vertical-align: middle;\n",
       "    }\n",
       "\n",
       "    .dataframe tbody tr th {\n",
       "        vertical-align: top;\n",
       "    }\n",
       "\n",
       "    .dataframe thead th {\n",
       "        text-align: right;\n",
       "    }\n",
       "</style>\n",
       "<table border=\"1\" class=\"dataframe\">\n",
       "  <thead>\n",
       "    <tr style=\"text-align: right;\">\n",
       "      <th></th>\n",
       "      <th>main_photo</th>\n",
       "      <th>name</th>\n",
       "      <th>type</th>\n",
       "      <th>category_l2</th>\n",
       "      <th>category_l4</th>\n",
       "      <th>is_markup</th>\n",
       "      <th>target</th>\n",
       "      <th>stratify_column</th>\n",
       "      <th>data</th>\n",
       "    </tr>\n",
       "  </thead>\n",
       "  <tbody>\n",
       "    <tr>\n",
       "      <th>50527</th>\n",
       "      <td>https://cdn1.ozone.ru/s3/multimedia-1-3/696992...</td>\n",
       "      <td>Ножницы Волна , 9\", 23 см, шаг - 18 мм, цвет ч...</td>\n",
       "      <td>Пирог</td>\n",
       "      <td>Хобби и творчество</td>\n",
       "      <td>Набор для шитья одежды</td>\n",
       "      <td>True</td>\n",
       "      <td>0</td>\n",
       "      <td>Хобби и творчество_True_0</td>\n",
       "      <td>Ножницы Волна , 9\", 23 см, шаг - 18 мм, цвет ч...</td>\n",
       "    </tr>\n",
       "  </tbody>\n",
       "</table>\n",
       "</div>"
      ],
      "text/plain": [
       "                                              main_photo  \\\n",
       "50527  https://cdn1.ozone.ru/s3/multimedia-1-3/696992...   \n",
       "\n",
       "                                                    name   type  \\\n",
       "50527  Ножницы Волна , 9\", 23 см, шаг - 18 мм, цвет ч...  Пирог   \n",
       "\n",
       "              category_l2             category_l4  is_markup  target  \\\n",
       "50527  Хобби и творчество  Набор для шитья одежды       True       0   \n",
       "\n",
       "                 stratify_column  \\\n",
       "50527  Хобби и творчество_True_0   \n",
       "\n",
       "                                                    data  \n",
       "50527  Ножницы Волна , 9\", 23 см, шаг - 18 мм, цвет ч...  "
      ]
     },
     "execution_count": 33,
     "metadata": {},
     "output_type": "execute_result"
    }
   ],
   "source": [
    "df_test[df_test['target'] == 0].head(1)"
   ]
  },
  {
   "cell_type": "code",
   "execution_count": 34,
   "id": "793c6c87",
   "metadata": {},
   "outputs": [
    {
     "data": {
      "text/plain": [
       "'Защитный кейс (бокс, чехол) для карт памяти SD, MicroSD   Комплект фотоаксессуаров'"
      ]
     },
     "execution_count": 34,
     "metadata": {},
     "output_type": "execute_result"
    }
   ],
   "source": [
    "text = df_test.loc[7809846]['data']\n",
    "text"
   ]
  },
  {
   "cell_type": "code",
   "execution_count": 35,
   "id": "277a9dd3",
   "metadata": {},
   "outputs": [
    {
     "data": {
      "text/plain": [
       "'Ножницы Волна , 9\", 23 см, шаг - 18 мм, цвет чёрный Хобби и творчество Набор для шитья одежды Пирог'"
      ]
     },
     "execution_count": 35,
     "metadata": {},
     "output_type": "execute_result"
    }
   ],
   "source": [
    "text2 = df_test.loc[50527]['data']\n",
    "text2"
   ]
  },
  {
   "cell_type": "code",
   "execution_count": 36,
   "id": "6465d67c",
   "metadata": {},
   "outputs": [
    {
     "data": {
      "text/plain": [
       "'https://cdn1.ozone.ru/s3/multimedia-t/6332711633.jpg'"
      ]
     },
     "execution_count": 36,
     "metadata": {},
     "output_type": "execute_result"
    }
   ],
   "source": [
    "df_test.loc[7809846]['main_photo']"
   ]
  },
  {
   "cell_type": "code",
   "execution_count": 37,
   "id": "76df7890",
   "metadata": {},
   "outputs": [
    {
     "data": {
      "text/plain": [
       "'https://cdn1.ozone.ru/s3/multimedia-1-3/6969923031.jpg'"
      ]
     },
     "execution_count": 37,
     "metadata": {},
     "output_type": "execute_result"
    }
   ],
   "source": [
    "df_test.loc[50527]['main_photo']"
   ]
  },
  {
   "cell_type": "code",
   "execution_count": 38,
   "id": "d137ca3e",
   "metadata": {},
   "outputs": [
    {
     "data": {
      "text/plain": [
       "['Защитный кейс (бокс, чехол) для карт памяти SD, MicroSD   Комплект фотоаксессуаров',\n",
       " 'Кружка латте керамическая большая для чая и кофе с прикольным принтом \"Осень посудина с угощениями на пикнике среди яркой листвы\" 480 мл. Дом и сад Кружка Кружка',\n",
       " 'Угольник-переходник ROMMER ВПр-НР, 15х1_2, из нержавеющей стали прессовой (2шт.) Строительство и ремонт Фитинг сантехнический Удлинитель сантехнический',\n",
       " 'Интерьерная картина \"Кирпичи в руинах древней цивилизации\" на холсте 240х90 см. с подвесами Дом и сад Картина Картина',\n",
       " 'Бра LED Строительство и ремонт Настенный светильник Подсветка для картин']"
      ]
     },
     "execution_count": 38,
     "metadata": {},
     "output_type": "execute_result"
    }
   ],
   "source": [
    "text_1 = [df_test.loc[idx]['data'] for idx in df_test[df_test['target'] == 1].head(5).index]\n",
    "text_1"
   ]
  },
  {
   "cell_type": "code",
   "execution_count": 39,
   "id": "0644ce77",
   "metadata": {},
   "outputs": [
    {
     "data": {
      "text/plain": [
       "['Ножницы Волна , 9\", 23 см, шаг - 18 мм, цвет чёрный Хобби и творчество Набор для шитья одежды Пирог',\n",
       " 'Аксельбант офицерский желтый   Станок для натягивания проволоки в рамке для пчел',\n",
       " '15 шт. Мелки школьные Гамма, цветные, 10шт., мягкие, круглые, картонная упаковка, европодвес Канцелярские товары Мелки Проживание в пансионате',\n",
       " 'Таблетированная соль Rockmelt 4-в-1, 20 кг.   Украшение настольное интерьерное',\n",
       " 'Одеяло детское Baby Nice \"Божьи коровки\", стеганое, цвет: красный, 105 см x 140 см. Q0412123   Корзина плетеная']"
      ]
     },
     "execution_count": 39,
     "metadata": {},
     "output_type": "execute_result"
    }
   ],
   "source": [
    "text_0 = [df_test.loc[idx]['data'] for idx in df_test[df_test['target'] == 0].head(5).index]\n",
    "text_0"
   ]
  },
  {
   "cell_type": "code",
   "execution_count": 40,
   "id": "465734ce",
   "metadata": {},
   "outputs": [
    {
     "data": {
      "text/plain": [
       "0    Ножницы Волна , 9\", 23 см, шаг - 18 мм, цвет ч...\n",
       "1    Аксельбант офицерский желтый   Станок для натя...\n",
       "2    15 шт. Мелки школьные Гамма, цветные, 10шт., м...\n",
       "3    Таблетированная соль Rockmelt 4-в-1, 20 кг.   ...\n",
       "4    Одеяло детское Baby Nice \"Божьи коровки\", стег...\n",
       "5    Защитный кейс (бокс, чехол) для карт памяти SD...\n",
       "6    Кружка латте керамическая большая для чая и ко...\n",
       "7    Угольник-переходник ROMMER ВПр-НР, 15х1_2, из ...\n",
       "8    Интерьерная картина \"Кирпичи в руинах древней ...\n",
       "9    Бра LED Строительство и ремонт Настенный свети...\n",
       "Name: data, dtype: object"
      ]
     },
     "execution_count": 40,
     "metadata": {},
     "output_type": "execute_result"
    }
   ],
   "source": [
    "pred = pd.Series(text_0 + text_1, name='data')\n",
    "pred"
   ]
  },
  {
   "cell_type": "code",
   "execution_count": 41,
   "id": "9a0c381f",
   "metadata": {},
   "outputs": [
    {
     "data": {
      "text/plain": [
       "array([0, 0, 0, 1, 0, 0, 1, 1, 1, 1])"
      ]
     },
     "execution_count": 41,
     "metadata": {},
     "output_type": "execute_result"
    }
   ],
   "source": [
    "proba = target_pipeline.predict_proba(pred)\n",
    "proba.argmax(-1) # 0, 0, 0, 0, 0, 1, 1, 1, 1, 1"
   ]
  },
  {
   "cell_type": "code",
   "execution_count": 42,
   "id": "9833042b",
   "metadata": {},
   "outputs": [],
   "source": [
    "with open('target_pipeline.pkl', 'wb') as file:\n",
    "        pickle.dump(target_pipeline, file)\n"
   ]
  },
  {
   "cell_type": "code",
   "execution_count": 43,
   "id": "6f5a379b",
   "metadata": {},
   "outputs": [
    {
     "data": {
      "text/plain": [
       "0                                  Картина\n",
       "1                                 Фотообои\n",
       "2                                   Матрас\n",
       "3                                   Постер\n",
       "4                  Проживание в пансионате\n",
       "                       ...                \n",
       "20226    Вешалка для сушки хоккейной формы\n",
       "20227                    Тейп для боулинга\n",
       "20228         Ремень для внедорожной маски\n",
       "20229                        Сгон для труб\n",
       "20230                       Чехол для лука\n",
       "Name: type, Length: 20231, dtype: object"
      ]
     },
     "execution_count": 43,
     "metadata": {},
     "output_type": "execute_result"
    }
   ],
   "source": [
    "types = pd.Series(pd.concat([df_train, df_test])['type'].value_counts().index)\n",
    "types.to_csv('types.csv')\n",
    "types"
   ]
  }
 ],
 "metadata": {
  "kernelspec": {
   "display_name": "Python3.9_tf",
   "language": "python",
   "name": "venv"
  },
  "language_info": {
   "codemirror_mode": {
    "name": "ipython",
    "version": 3
   },
   "file_extension": ".py",
   "mimetype": "text/x-python",
   "name": "python",
   "nbconvert_exporter": "python",
   "pygments_lexer": "ipython3",
   "version": "3.9.9"
  }
 },
 "nbformat": 4,
 "nbformat_minor": 5
}
